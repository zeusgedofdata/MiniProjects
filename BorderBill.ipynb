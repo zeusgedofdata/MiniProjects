{
 "cells": [
  {
   "cell_type": "code",
   "execution_count": 1,
   "metadata": {},
   "outputs": [],
   "source": [
    "import pandas as pd\n",
    "\n",
    "import plotly.express as px\n",
    "import plotly.graph_objects as go\n",
    "import random\n",
    "\n",
    "#https://www.appropriations.senate.gov/imo/media/doc/emergency_national_security_supplemental_section-by-section.pdf"
   ]
  },
  {
   "cell_type": "code",
   "execution_count": 351,
   "metadata": {},
   "outputs": [],
   "source": [
    "spending = {\n",
    "            \"Emergency National Security Supplemental Appropriations Act\":{\"Amount\":142.4, \"Parent\":\"\", \"Middle\": False, \"Text\": \"\", \"Color\": \"rgba(255,0,0,1)\", \"Color\": \"rgba(255,0,0,1)\"},\n",
    "            \"National Secuirty\":{\"Amount\":122.1, \"Parent\":\"Emergency National Security Supplemental Appropriations Act\", \"Middle\": False, \"Text\": \"\", \"Color\": \"rgba(255,0,0,1)\"},\n",
    "    \n",
    "            \"DOD\":{\"Amount\":92, \"Parent\":\"National Secuirty\", \"Middle\": False, \"Text\": \"\", \"Color\": \"#adadad\"},\n",
    "            \n",
    "                \"Iseral/Middle East\":{\"Amount\":10.6, \"Parent\":\"DOD\", \"Middle\": True, \"Text\": \"\", \"Color\": \"rgba(255,0,0,1)\"},\n",
    "                    \"Israeli Missle Defense\":{\"Amount\":4, \"Parent\":\"Iseral/Middle East\", \"Middle\": False, \"Text\": \"\", \"Color\": \"rgba(255,0,0,1)\"},\n",
    "                    \"Iron Beam Missle Defense\":{\"Amount\":1.2, \"Parent\":\"Iseral/Middle East\", \"Middle\": False, \"Text\": \"For the procurement of the Iron Beam missile defense system\", \"Color\": \"rgba(255,0,0,1)\"},\n",
    "                    \"Red Sea resuply\":{\"Amount\":2.44, \"Parent\":\"Iseral/Middle East\", \"Middle\": False, \"Text\": \"Support U.S. operations in <BR>  U.S. CENTRAL COMMAND area of operations, <BR> and to replace combat expenditures <BR>  for weapons in the Red Sea.\", \"Color\": \"rgba(255,0,0,1)\"},\n",
    "\n",
    "                \"Ukraine\":{\"Amount\":75.45, \"Parent\":\"DOD\", \"Middle\": True, \"Text\": \"\", \"Color\": \"rgba(255,0,0,1)\"},\n",
    "                    \"Replinish Weapons\": {\"Amount\":19.85, \"Parent\": \"Ukraine\", \"Middle\": False, \"Text\": \"Replenish U.S. military weapons and equipment <BR> provided to Ukraine from DoD inventory\", \"Color\": \"rgba(255,0,0,1)\"}, \n",
    "                    \"Re-arm Ukraine Through Purchases\": {\"Amount\":13.8, \"Parent\": \"Ukraine\", \"Middle\": False, \"Text\": \"Allow Ukraine to re-arm itself <BR> through the purchase of weapons and munitions <BR> from the U.S. defense industrial base\", \"Color\": \"rgba(255,0,0,1)\"}, \n",
    "                    \"Training and Intelligence\": {\"Amount\":41.8, \"Parent\": \"Ukraine\", \"Middle\": False, \"Text\": \"Continued U.S. support to Ukraine through <BR>  military training, intelligence sharing, increased presence\", \"Color\": \"rgba(255,0,0,1)\"},\n",
    "\n",
    "                \"China\":{\"Amount\":2.57, \"Parent\":\"DOD\", \"Middle\": True, \"Text\": \"\", \"Color\": \"rgba(255,0,0,1)\"},\n",
    "                    \"Restock Taiwan\":{\"Amount\":1.9, \"Parent\":\"China\", \"Middle\": False, \"Text\": \"U.S. industrial base to replenish U.S. weapons provided to Taiwan\", \"Color\": \"rgba(255,0,0,1)\"},\n",
    "                    \"Indo-Pacific Commands Unfundedrequirements\":{\"Amount\":.542, \"Parent\":\"China\", \"Middle\": False, \"Text\": \"To address the Commander of the Indo-Pacific Command’s unfundedrequirements\", \"Color\": \"rgba(255,0,0,1)\"},\n",
    "                    \"Cruise Missile\":{\"Amount\":.113, \"Parent\":\"China\", \"Middle\": False, \"Text\": \"Enhance the U.S. industrial base capacity for critical cruise missile components\", \"Color\": \"rgba(255,0,0,1)\"},\n",
    "\n",
    "                \"Submarine Base\":{\"Amount\":3.3, \"Parent\":\"DOD\", \"Middle\": False, \"Text\":\"U.S. submarine industrial base in support of AUKUS, to include continued dry dock construction at public shipyards\", \"Color\": \"rgba(255,0,0,1)\"},\n",
    "            \n",
    "            \"DOE\":{\"Amount\":2.87, \"Parent\":\"National Secuirty\", \"Middle\": True, \"Text\": \"\", \"Color\": \"rgba(255,0,0,1)\"},\n",
    "                \"Isotopes\":{\"Amount\":.098, \"Parent\":\"DOE\", \"Middle\": False, \"Text\": \"\", \"Color\": \"rgba(255,0,0,1)\"},\n",
    "                \"Nuclear Security\":{\"Amount\":.149, \"Parent\":\"DOE\", \"Middle\": False, \"Text\": \"\", \"Color\": \"rgba(255,0,0,1)\"},\n",
    "                \"Domestic Uranium Production\":{\"Amount\":2.72, \"Parent\":\"DOE\", \"Middle\": False, \"Text\": \"\", \"Color\": \"rgba(255,0,0,1)\"},\n",
    "                \n",
    "            \"Department of Homeland Security\":{\"Amount\":.4, \"Parent\":\"National Secuirty\", \"Middle\": False, \"Text\": \"\", \"Color\": \"rgba(255,0,0,1)\"},\n",
    "                \"Isotopes\":{\"Amount\":.4, \"Parent\":\"Department of Homeland Security\", \"Middle\": False, \"Text\": \"\", \"Color\": \"rgba(255,0,0,1)\"},\n",
    "                \n",
    "                \n",
    "            \"Department of Health and Human Services\":{\"Amount\":2.33, \"Parent\":\"National Secuirty\", \"Middle\": False, \"Text\": \"\", \"Color\": \"rgba(255,0,0,1)\"},\n",
    "                \"Ukrianian/Other Refugee Aid\":{\"Amount\":2.33, \"Parent\":\"Department of Health and Human Services\", \"Middle\": False, \"Text\": \"\", \"Color\": \"rgba(255,0,0,1)\"},\n",
    "                \n",
    "                \n",
    "            \"State Department\":{\"Amount\":24.5, \"Parent\":\"National Secuirty\", \"Middle\": True, \"Text\": \"\", \"Color\": \"rgba(255,0,0,1)\"},\n",
    "                \"Operations\":{\"Amount\":.299, \"Parent\":\"State Department\", \"Middle\": False, \"Text\": \"\", \"Color\": \"rgba(255,0,0,1)\"},\n",
    "                \"Ukrainian NonMilitary Aid\":{\"Amount\":7.8, \"Parent\":\"State Department\", \"Middle\": False, \"Text\": \"\", \"Color\": \"rgba(255,0,0,1)\"},\n",
    "                \"Foreign Military Financing East Europe\":{\"Amount\":1.6, \"Parent\":\"State Department\", \"Middle\": False, \"Text\": \"\", \"Color\": \"rgba(255,0,0,1)\"},\n",
    "                \"Iseral Foreign Military Financing \":{\"Amount\":3.5, \"Parent\":\"State Department\", \"Middle\": False, \"Text\": \"\", \"Color\": \"rgba(255,0,0,1)\"},\n",
    "                \"Misc Middle East Support\":{\"Amount\":.085, \"Parent\":\"State Department\", \"Middle\": False, \"Text\": \"\", \"Color\": \"rgba(255,0,0,1)\"},\n",
    "                \"Foreign Military Financing Asia\":{\"Amount\":2, \"Parent\":\"State Department\", \"Middle\": False, \"Text\": \"\", \"Color\": \"rgba(255,0,0,1)\"},\n",
    "                \"Humanitarian Aid\":{\"Amount\":9.2, \"Parent\":\"State Department\", \"Middle\": False, \"Text\": \"\", \"Color\": \"rgba(255,0,0,1)\"},\n",
    "                \"Oversight\":{\"Amount\":.0025, \"Parent\":\"State Department\", \"Middle\": False, \"Text\": \"\", \"Color\": \"rgba(255,0,0,1)\"},\n",
    "                \n",
    "            \"Border Security\":{\"Amount\":20.3, \"Parent\":\"Emergency National Security Supplemental Appropriations Act\", \"Middle\": False, \"Text\": \"\", \"Color\": \"rgba(255,0,0,1)\"},\n",
    "                \"Department Of Justice\":{\"Amount\":.889, \"Parent\":\"Border Security\", \"Middle\": True, \"Text\": \"\", \"Color\": \"rgba(255,0,0,1)\"},\n",
    "                    \"Immigration Review\":{\"Amount\":.44, \"Parent\":\"Department Of Justice\", \"Middle\": False, \"Text\": \"\", \"Color\": \"rgba(255,0,0,1)\"},\n",
    "                    \"Criminal Division\":{\"Amount\":.0118, \"Parent\":\"Department Of Justice\", \"Middle\": False, \"Text\": \"\", \"Color\": \"rgba(255,0,0,1)\"},\n",
    "                    \"Expand Detaiment Capcity\":{\"Amount\":.210, \"Parent\":\"Department Of Justice\", \"Middle\": False, \"Text\": \"\", \"Color\": \"rgba(255,0,0,1)\"},\n",
    "                    \"FBI\":{\"Amount\":.204, \"Parent\":\"Department Of Justice\", \"Middle\": False, \"Text\": \"\", \"Color\": \"rgba(255,0,0,1)\"},\n",
    "                    \"DEA\":{\"Amount\":.023, \"Parent\":\"Department Of Justice\", \"Middle\": False, \"Text\": \"\", \"Color\": \"rgba(255,0,0,1)\"},\n",
    "                    \n",
    "\n",
    "                \"Homeland Secuity\":{\"Amount\":18.6, \"Parent\":\"Border Security\", \"Middle\": True, \"Text\": \"\", \"Color\": \"rgba(255,0,0,1)\"},\n",
    "                    \"Monitor/Modeling Immigration\":{\"Amount\":.033, \"Parent\":\"Homeland Secuity\", \"Middle\": False, \"Text\": \"\", \"Color\": \"rgba(255,0,0,1)\"},\n",
    "                    \"Customs And Border Protection\":{\"Amount\":6.8, \"Parent\":\"Homeland Secuity\", \"Middle\": True, \"Text\": \"\", \"Color\": \"rgba(255,0,0,1)\"},\n",
    "                        \"Opperational Costs\":{\"Amount\":3.88, \"Parent\":\"Customs And Border Protection\", \"Middle\": False, \"Text\": \"\", \"Color\": \"rgba(255,0,0,1)\"},\n",
    "                        \"Hiring\":{\"Amount\":.723, \"Parent\":\"Customs And Border Protection\", \"Middle\": False, \"Text\": \"\", \"Color\": \"rgba(255,0,0,1)\"},\n",
    "                        \"Fentanyl\":{\"Amount\":.4245, \"Parent\":\"Customs And Border Protection\", \"Middle\": False, \"Text\": \"\", \"Color\": \"rgba(255,0,0,1)\"},\n",
    "                        \"Tech Upgrades\":{\"Amount\":.334, \"Parent\":\"Customs And Border Protection\", \"Middle\": False, \"Text\": \"\", \"Color\": \"rgba(255,0,0,1)\"},\n",
    "                        \"Sheltering Hummanitrain Aid\":{\"Amount\":1.4, \"Parent\":\"Customs And Border Protection\", \"Middle\": False, \"Text\": \"\", \"Color\": \"rgba(255,0,0,1)\"},\n",
    "                    \"Immigration/Customs Enforcement\":{\"Amount\":7.6, \"Parent\":\"Homeland Secuity\", \"Middle\": True, \"Text\": \"\", \"Color\": \"rgba(255,0,0,1)\"},\n",
    "                        \"Transportation Costs\":{\"Amount\":2.55, \"Parent\":\"Immigration/Customs Enforcement\", \"Middle\": False, \"Text\": \"\", \"Color\": \"rgba(255,0,0,1)\"},\n",
    "                        \"Alt Detention\":{\"Amount\":1.29 , \"Parent\":\"Immigration/Customs Enforcement\", \"Middle\": False, \"Text\": \"\", \"Color\": \"rgba(255,0,0,1)\"},\n",
    "                        \"Law Enfrocemnt Labor\":{\"Amount\":.534, \"Parent\":\"Immigration/Customs Enforcement\", \"Middle\": False, \"Text\": \"\", \"Color\": \"rgba(255,0,0,1)\"},\n",
    "                        \"Detention Capcity\":{\"Amount\":3.2, \"Parent\":\"Immigration/Customs Enforcement\", \"Middle\": False, \"Text\": \"\", \"Color\": \"rgba(255,0,0,1)\"},\n",
    "                    \"Federal Emergency Management Agency\":{\"Amount\":.1, \"Parent\":\"Homeland Secuity\", \"Middle\": False, \"Text\": \"\", \"Color\": \"rgba(255,0,0,1)\"},\n",
    "                    \"Citizenship/Immigration Services\":{\"Amount\":3.99, \"Parent\":\"Homeland Secuity\", \"Middle\": False, \"Text\": \"\", \"Color\": \"rgba(255,0,0,1)\"},\n",
    "                    \"LEO Training\":{\"Amount\":.057, \"Parent\":\"Homeland Secuity\", \"Middle\": False, \"Text\": \"\", \"Color\": \"rgba(255,0,0,1)\"},\n",
    "                \"Health Human Services\":{\"Amount\":.35, \"Parent\":\"Border Security\", \"Middle\": False, \"Text\": \"\", \"Color\": \"rgba(255,0,0,1)\"},\n",
    "                \"Domestic State Department\":{\"Amount\":.435, \"Parent\":\"Border Security\", \"Middle\": False, \"Text\": \"\", \"Color\": \"rgba(255,0,0,1)\"},\n",
    "                    \n",
    "                    \n",
    "                \n",
    "                \n",
    "                \n",
    "            \n",
    "            }"
   ]
  },
  {
   "cell_type": "code",
   "execution_count": 689,
   "metadata": {},
   "outputs": [],
   "source": [
    "spending_ukraine = {\n",
    "    \"Emergency National Security Supplemental Appropriations Act\":{\"Amount\":124.861, \"Parent\":\"\", \"Middle\": False, \"Text\": \"\", \"Color\": \"#FFFFFF\"},\n",
    "    \n",
    "    \"DOD\":{\"Amount\":96.53, \"Parent\":\"Emergency National Security Supplemental Appropriations Act\", \"Middle\": False, \"Text\": \"\", \"Color\": \"#adadad\"},\n",
    "        \n",
    "                \"Iseral/Middle East\":{\"Amount\":10.6, \"Parent\":\"DOD\", \"Middle\": True, \"Text\": \"\", \"Color\": \"#0038b8\"},\n",
    "                    \"Israeli Missle Defense\":{\"Amount\":4, \"Parent\":\"Iseral/Middle East\", \"Middle\": False, \"Text\": \"\", \"Color\": \"#FFFFFF\"},\n",
    "                    \"Iron Beam Missle Defense\":{\"Amount\":1.2, \"Parent\":\"Iseral/Middle East\", \"Middle\": False, \"Text\": \"For the procurement of the Iron Beam missile defense system\", \"Color\": \"#FFFFFF\"},\n",
    "                    \"Red Sea resuply\":{\"Amount\":2.44, \"Parent\":\"Iseral/Middle East\", \"Middle\": False, \"Text\": \"Support U.S. operations in <BR>  U.S. CENTRAL COMMAND area of operations, <BR> and to replace combat expenditures <BR>  for weapons in the Red Sea.\", \"Color\": \"#FFFFFF\"},\n",
    "\n",
    "                \"Ukraine\":{\"Amount\":48.45, \"Parent\":\"DOD\", \"Middle\": True, \"Text\": \"\", \"Color\": \"#FFDD00\"},\n",
    "                    \"Replinish Weapons\": {\"Amount\":19.85, \"Parent\": \"Ukraine\", \"Middle\": False, \"Text\": \"Replenish U.S. military weapons and equipment <BR> provided to Ukraine from DoD inventory\", \"Color\": \"#0057B7\"}, \n",
    "                    \"Re-arm Ukraine Through Purchases\": {\"Amount\":13.8, \"Parent\": \"Ukraine\", \"Middle\": False, \"Text\": \"Allow Ukraine to re-arm itself <BR> through the purchase of weapons and munitions <BR> from the U.S. defense industrial base\", \"Color\": \"#0057B7\"}, \n",
    "                    \"Training and Intelligence\": {\"Amount\":14.8, \"Parent\": \"Ukraine\", \"Middle\": False, \"Text\": \"Continued U.S. support to Ukraine through <BR>  military training, intelligence sharing, increased presence\", \"Color\": \"#0057B7\"},\n",
    "\n",
    "                \"China\":{\"Amount\":2.58, \"Parent\":\"DOD\", \"Middle\": True, \"Text\": \"\", \"Color\": \"#FFFF00\"},\n",
    "                    \"Restock Taiwan\":{\"Amount\":1.9, \"Parent\":\"China\", \"Middle\": False, \"Text\": \"U.S. industrial base to replenish U.S. weapons provided to Taiwan\", \"Color\": \"#EE1C25\"},\n",
    "                    \"Indo-Pacific Commands Unfundedrequirements\":{\"Amount\":.5422, \"Parent\":\"China\", \"Middle\": False, \"Text\": \"To address the Commander of the Indo-Pacific Command’s unfundedrequirements\", \"Color\": \"#EE1C25\"},\n",
    "                    \"Cruise Missile\":{\"Amount\":.113, \"Parent\":\"China\", \"Middle\": False, \"Text\": \"Enhance the U.S. industrial base capacity for critical cruise missile components\", \"Color\": \"#EE1C25\"},\n",
    "                \"US Readiness\":{\"Amount\":34.9, \"Parent\":\"DOD\", \"Middle\": True, \"Text\": \"to restore the readiness of the U.S. military by replenishing the weapons and munitions transferred to our partners or strengthening the U.S. defense industrial base through investments to improve and increase production capacity\", \"Color\": \"#aebfd4\"},\n",
    "                    \"Submarine Base\":{\"Amount\":3.3, \"Parent\":\"US Readiness\", \"Middle\": False, \"Text\":\"U.S. submarine industrial base in support of AUKUS, to include continued dry dock construction at public shipyards\", \"Color\": \"#355e93\"},\n",
    "                    \"Restock DoD Stores\":{\"Amount\":26.15, \"Parent\":\"US Readiness\", \"Middle\": False, \"Text\":\"replenishment for DoD stocks provided to Ukraine, Israel, and Taiwan\", \"Color\": \"#355e93\"},\n",
    "                    \"Artillery/Air Defense Resuply\":{\"Amount\":5.4, \"Parent\":\"US Readiness\", \"Middle\": False, \"Text\":\"procurement and production expansion for artillery, air defense munitions, countering unmanned aerial systems, and critical munition components\", \"Color\": \"#355e93\"},\n",
    "                    \n",
    "    \"DOE\":{\"Amount\":2.97, \"Parent\":\"Emergency National Security Supplemental Appropriations Act\", \"Middle\": False, \"Text\": \"\", \"Color\": \"#adadad\"},\n",
    "            \"Isotopes\":{\"Amount\":.098, \"Parent\":\"DOE\", \"Middle\": False, \"Text\": \"\", \"Color\": \"#3cff49\"},\n",
    "            \"National Nuclear Security Administration\":{\"Amount\":.149, \"Parent\":\"DOE\", \"Middle\": False, \"Text\": \"\", \"Color\": \"#3cff49\"},\n",
    "            \"Domestic Uranium Production\":{\"Amount\":2.72, \"Parent\":\"DOE\", \"Middle\": False, \"Text\": \"\", \"Color\": \"#3cff49\"},\n",
    "            \n",
    "    \"Homeland Security\":{\"Amount\":.4, \"Parent\":\"Emergency National Security Supplemental Appropriations Act\", \"Middle\": False, \"Text\": \"\", \"Color\":\"#adadad\"},\n",
    "        \"FEMA\":{\"Amount\":.4, \"Parent\":\"Homeland Security\", \"Middle\": False, \"Text\": \"assistance for newly arrived refugees, including extending authorization for Ukrainians granted parole\", \"Color\": \"#0057B7\"},\n",
    "                \n",
    "            \n",
    "    \"Health/Human Services\":{\"Amount\":.481, \"Parent\":\"Emergency National Security Supplemental Appropriations Act\", \"Middle\": False, \"Text\": \"\", \"Color\": \"#adadad\"},\n",
    "        \"Refugee Entrant Assistance\":{\"Amount\":.481, \"Parent\":\"Health/Human Services\", \"Middle\": False, \"Text\": \"assistance for newly arrived refugees, including extending authorization for Ukrainians granted parole\", \"Color\": \"#0057B7\"},\n",
    "        \n",
    "        \n",
    "    \"State Department\":{\"Amount\":24.48, \"Parent\":\"Emergency National Security Supplemental Appropriations Act\", \"Middle\": False, \"Text\": \"\", \"Color\":\"#adadad\"},\n",
    "        \"Operations\":{\"Amount\":.299, \"Parent\":\"State Department\", \"Middle\": False, \n",
    "                      \"Text\": \"sustain the protection of U.S. diplomatic facilities in Ukraine, Israel, and other at-risk facilities, and to provide services to American citizens in need overseas\", \n",
    "                      \"Color\": \"#aebfd4\"},\n",
    "        \"Oversight\":{\"Amount\":.025, \"Parent\":\"State Department\", \"Middle\": False, \"Text\": \"\", \"Color\": \"#aebfd4\"},\n",
    "        \"Economic Aid Ukraine\":{\"Amount\":7.85, \"Parent\":\"State Department\", \"Middle\": False, \n",
    "                      \"Text\": \"For direct budget support for Ukraine\", \n",
    "                      \"Color\": \"#FFDD00\"},\n",
    "        \"Foreign Military Aid\":{\"Amount\":7.1, \"Parent\":\"State Department\", \"Middle\": True, \n",
    "                      \"Text\": \"Foreign Military financing to Ukraine\", \n",
    "                      \"Color\": \"#355e93\"},\n",
    "            \"Ukraine Foreign Military\":{\"Amount\":1.6, \"Parent\":\"Foreign Military Aid\", \"Middle\": False, \n",
    "                          \"Text\": \"Foreign Military financing to Ukraine\", \n",
    "                          \"Color\": \"#FFDD00\"},\n",
    "           \"Israel Foreign Military\":{\"Amount\":3.5, \"Parent\":\"Foreign Military Aid\", \"Middle\": False, \n",
    "                         \"Text\": \"Foreign Military financing to Israel\", \n",
    "                         \"Color\": \"#0038b8\"},\n",
    "           \"Indo-Pacific Foreign Military\":{\"Amount\":2, \"Parent\":\"Foreign Military Aid\", \"Middle\": False, \n",
    "                         \"Text\": \"Foreign military financing to support critical partners in the Indo-Pacific Region to counter china\", \n",
    "                         \"Color\": \"#EE1C25\"},\n",
    "        \"Humanitarian Assitance\":{\"Amount\":9.2, \"Parent\":\"State Department\", \"Middle\": False, \n",
    "                      \"Text\": \"Providing emergency food, shelter, and basic services to: Ukraine, Gaza/West Bank, East Africa, South Asia, and elsewhere.\", \n",
    "                      \"Color\": \"#aebfd4\"},\n",
    "                \n",
    "       \n",
    "}"
   ]
  },
  {
   "cell_type": "code",
   "execution_count": 690,
   "metadata": {},
   "outputs": [
    {
     "data": {
      "text/plain": [
       "24.473999999999997"
      ]
     },
     "execution_count": 690,
     "metadata": {},
     "output_type": "execute_result"
    }
   ],
   "source": [
    ".299+.025+7.85+7.1+9.2"
   ]
  },
  {
   "cell_type": "code",
   "execution_count": null,
   "metadata": {},
   "outputs": [],
   "source": []
  },
  {
   "cell_type": "code",
   "execution_count": 691,
   "metadata": {},
   "outputs": [],
   "source": [
    "def generate_structure(spending):\n",
    "    source = []\n",
    "    label = []\n",
    "    target = []\n",
    "    value = []\n",
    "    for i, cat in enumerate(spending):\n",
    "        spending[cat][\"i\"] = i\n",
    "    for i, cat in enumerate(spending):\n",
    "        label.append(cat)\n",
    "        try:\n",
    "            if not spending[cat][\"Middle\"] and\\\n",
    "            spending[cat][\"Parent\"] != \"\" and\\\n",
    "            spending[spending[cat][\"Parent\"]][\"Middle\"] == True:\n",
    "                source.append(spending[spending[cat][\"Parent\"]][\"i\"])\n",
    "                target.append(i)\n",
    "                value.append(spending[cat][\"Amount\"])\n",
    "            elif not spending[cat][\"Middle\"]:\n",
    "                count = 0\n",
    "                for j, cat2 in enumerate(spending):\n",
    "                    if spending[cat2][\"Parent\"] == cat:\n",
    "                        source.append(i)\n",
    "                        target.append(j)\n",
    "                        value.append(spending[cat2][\"Amount\"])\n",
    "            if spending[cat][\"Middle\"] and spending[spending[cat][\"Parent\"]][\"Middle\"]:\n",
    "                source.append(spending[spending[cat][\"Parent\"]][\"i\"])\n",
    "                target.append(i)\n",
    "                value.append(spending[cat][\"Amount\"])\n",
    "\n",
    "        except:\n",
    "            pass\n",
    "    return source, label, target, value\n",
    "        \n",
    "source, label, target, value = generate_structure(spending_ukraine)\n",
    "    "
   ]
  },
  {
   "cell_type": "code",
   "execution_count": 692,
   "metadata": {},
   "outputs": [
    {
     "data": {
      "application/vnd.plotly.v1+json": {
       "config": {
        "plotlyServerURL": "https://plot.ly"
       },
       "data": [
        {
         "link": {
          "source": [
           0,
           0,
           0,
           0,
           0,
           1,
           1,
           1,
           1,
           2,
           2,
           2,
           6,
           6,
           6,
           10,
           10,
           10,
           14,
           14,
           14,
           18,
           18,
           18,
           22,
           24,
           26,
           26,
           26,
           26,
           26,
           30,
           30,
           30
          ],
          "target": [
           1,
           18,
           22,
           24,
           26,
           2,
           6,
           10,
           14,
           3,
           4,
           5,
           7,
           8,
           9,
           11,
           12,
           13,
           15,
           16,
           17,
           19,
           20,
           21,
           23,
           25,
           27,
           28,
           29,
           30,
           34,
           31,
           32,
           33
          ],
          "value": [
           96.53,
           2.97,
           0.4,
           0.481,
           24.48,
           10.6,
           48.45,
           2.58,
           34.9,
           4,
           1.2,
           2.44,
           19.85,
           13.8,
           14.8,
           1.9,
           0.5422,
           0.113,
           3.3,
           26.15,
           5.4,
           0.098,
           0.149,
           2.72,
           0.4,
           0.481,
           0.299,
           0.025,
           7.85,
           7.1,
           9.2,
           1.6,
           3.5,
           2
          ]
         },
         "node": {
          "color": "blue",
          "label": [
           "Emergency National Security Supplemental Appropriations Act",
           "DOD",
           "Iseral/Middle East",
           "Israeli Missle Defense",
           "Iron Beam Missle Defense",
           "Red Sea resuply",
           "Ukraine",
           "Replinish Weapons",
           "Re-arm Ukraine Through Purchases",
           "Training and Intelligence",
           "China",
           "Restock Taiwan",
           "Indo-Pacific Commands Unfundedrequirements",
           "Cruise Missile",
           "US Readiness",
           "Submarine Base",
           "Restock DoD Stores",
           "Artillery/Air Defense Resuply",
           "DOE",
           "Isotopes",
           "National Nuclear Security Administration",
           "Domestic Uranium Production",
           "Homeland Security",
           "FEMA",
           "Health/Human Services",
           "Refugee Entrant Assistance",
           "State Department",
           "Operations",
           "Oversight",
           "Economic Aid Ukraine",
           "Foreign Military Aid",
           "Ukraine Foreign Military",
           "Israel Foreign Military",
           "Indo-Pacific Foreign Military",
           "Humanitarian Assitance"
          ],
          "line": {
           "color": "black",
           "width": 0.5
          },
          "pad": 15,
          "thickness": 20
         },
         "type": "sankey"
        }
       ],
       "layout": {
        "height": 800,
        "template": {
         "data": {
          "bar": [
           {
            "error_x": {
             "color": "#2a3f5f"
            },
            "error_y": {
             "color": "#2a3f5f"
            },
            "marker": {
             "line": {
              "color": "#E5ECF6",
              "width": 0.5
             },
             "pattern": {
              "fillmode": "overlay",
              "size": 10,
              "solidity": 0.2
             }
            },
            "type": "bar"
           }
          ],
          "barpolar": [
           {
            "marker": {
             "line": {
              "color": "#E5ECF6",
              "width": 0.5
             },
             "pattern": {
              "fillmode": "overlay",
              "size": 10,
              "solidity": 0.2
             }
            },
            "type": "barpolar"
           }
          ],
          "carpet": [
           {
            "aaxis": {
             "endlinecolor": "#2a3f5f",
             "gridcolor": "white",
             "linecolor": "white",
             "minorgridcolor": "white",
             "startlinecolor": "#2a3f5f"
            },
            "baxis": {
             "endlinecolor": "#2a3f5f",
             "gridcolor": "white",
             "linecolor": "white",
             "minorgridcolor": "white",
             "startlinecolor": "#2a3f5f"
            },
            "type": "carpet"
           }
          ],
          "choropleth": [
           {
            "colorbar": {
             "outlinewidth": 0,
             "ticks": ""
            },
            "type": "choropleth"
           }
          ],
          "contour": [
           {
            "colorbar": {
             "outlinewidth": 0,
             "ticks": ""
            },
            "colorscale": [
             [
              0,
              "#0d0887"
             ],
             [
              0.1111111111111111,
              "#46039f"
             ],
             [
              0.2222222222222222,
              "#7201a8"
             ],
             [
              0.3333333333333333,
              "#9c179e"
             ],
             [
              0.4444444444444444,
              "#bd3786"
             ],
             [
              0.5555555555555556,
              "#d8576b"
             ],
             [
              0.6666666666666666,
              "#ed7953"
             ],
             [
              0.7777777777777778,
              "#fb9f3a"
             ],
             [
              0.8888888888888888,
              "#fdca26"
             ],
             [
              1,
              "#f0f921"
             ]
            ],
            "type": "contour"
           }
          ],
          "contourcarpet": [
           {
            "colorbar": {
             "outlinewidth": 0,
             "ticks": ""
            },
            "type": "contourcarpet"
           }
          ],
          "heatmap": [
           {
            "colorbar": {
             "outlinewidth": 0,
             "ticks": ""
            },
            "colorscale": [
             [
              0,
              "#0d0887"
             ],
             [
              0.1111111111111111,
              "#46039f"
             ],
             [
              0.2222222222222222,
              "#7201a8"
             ],
             [
              0.3333333333333333,
              "#9c179e"
             ],
             [
              0.4444444444444444,
              "#bd3786"
             ],
             [
              0.5555555555555556,
              "#d8576b"
             ],
             [
              0.6666666666666666,
              "#ed7953"
             ],
             [
              0.7777777777777778,
              "#fb9f3a"
             ],
             [
              0.8888888888888888,
              "#fdca26"
             ],
             [
              1,
              "#f0f921"
             ]
            ],
            "type": "heatmap"
           }
          ],
          "heatmapgl": [
           {
            "colorbar": {
             "outlinewidth": 0,
             "ticks": ""
            },
            "colorscale": [
             [
              0,
              "#0d0887"
             ],
             [
              0.1111111111111111,
              "#46039f"
             ],
             [
              0.2222222222222222,
              "#7201a8"
             ],
             [
              0.3333333333333333,
              "#9c179e"
             ],
             [
              0.4444444444444444,
              "#bd3786"
             ],
             [
              0.5555555555555556,
              "#d8576b"
             ],
             [
              0.6666666666666666,
              "#ed7953"
             ],
             [
              0.7777777777777778,
              "#fb9f3a"
             ],
             [
              0.8888888888888888,
              "#fdca26"
             ],
             [
              1,
              "#f0f921"
             ]
            ],
            "type": "heatmapgl"
           }
          ],
          "histogram": [
           {
            "marker": {
             "pattern": {
              "fillmode": "overlay",
              "size": 10,
              "solidity": 0.2
             }
            },
            "type": "histogram"
           }
          ],
          "histogram2d": [
           {
            "colorbar": {
             "outlinewidth": 0,
             "ticks": ""
            },
            "colorscale": [
             [
              0,
              "#0d0887"
             ],
             [
              0.1111111111111111,
              "#46039f"
             ],
             [
              0.2222222222222222,
              "#7201a8"
             ],
             [
              0.3333333333333333,
              "#9c179e"
             ],
             [
              0.4444444444444444,
              "#bd3786"
             ],
             [
              0.5555555555555556,
              "#d8576b"
             ],
             [
              0.6666666666666666,
              "#ed7953"
             ],
             [
              0.7777777777777778,
              "#fb9f3a"
             ],
             [
              0.8888888888888888,
              "#fdca26"
             ],
             [
              1,
              "#f0f921"
             ]
            ],
            "type": "histogram2d"
           }
          ],
          "histogram2dcontour": [
           {
            "colorbar": {
             "outlinewidth": 0,
             "ticks": ""
            },
            "colorscale": [
             [
              0,
              "#0d0887"
             ],
             [
              0.1111111111111111,
              "#46039f"
             ],
             [
              0.2222222222222222,
              "#7201a8"
             ],
             [
              0.3333333333333333,
              "#9c179e"
             ],
             [
              0.4444444444444444,
              "#bd3786"
             ],
             [
              0.5555555555555556,
              "#d8576b"
             ],
             [
              0.6666666666666666,
              "#ed7953"
             ],
             [
              0.7777777777777778,
              "#fb9f3a"
             ],
             [
              0.8888888888888888,
              "#fdca26"
             ],
             [
              1,
              "#f0f921"
             ]
            ],
            "type": "histogram2dcontour"
           }
          ],
          "mesh3d": [
           {
            "colorbar": {
             "outlinewidth": 0,
             "ticks": ""
            },
            "type": "mesh3d"
           }
          ],
          "parcoords": [
           {
            "line": {
             "colorbar": {
              "outlinewidth": 0,
              "ticks": ""
             }
            },
            "type": "parcoords"
           }
          ],
          "pie": [
           {
            "automargin": true,
            "type": "pie"
           }
          ],
          "scatter": [
           {
            "fillpattern": {
             "fillmode": "overlay",
             "size": 10,
             "solidity": 0.2
            },
            "type": "scatter"
           }
          ],
          "scatter3d": [
           {
            "line": {
             "colorbar": {
              "outlinewidth": 0,
              "ticks": ""
             }
            },
            "marker": {
             "colorbar": {
              "outlinewidth": 0,
              "ticks": ""
             }
            },
            "type": "scatter3d"
           }
          ],
          "scattercarpet": [
           {
            "marker": {
             "colorbar": {
              "outlinewidth": 0,
              "ticks": ""
             }
            },
            "type": "scattercarpet"
           }
          ],
          "scattergeo": [
           {
            "marker": {
             "colorbar": {
              "outlinewidth": 0,
              "ticks": ""
             }
            },
            "type": "scattergeo"
           }
          ],
          "scattergl": [
           {
            "marker": {
             "colorbar": {
              "outlinewidth": 0,
              "ticks": ""
             }
            },
            "type": "scattergl"
           }
          ],
          "scattermapbox": [
           {
            "marker": {
             "colorbar": {
              "outlinewidth": 0,
              "ticks": ""
             }
            },
            "type": "scattermapbox"
           }
          ],
          "scatterpolar": [
           {
            "marker": {
             "colorbar": {
              "outlinewidth": 0,
              "ticks": ""
             }
            },
            "type": "scatterpolar"
           }
          ],
          "scatterpolargl": [
           {
            "marker": {
             "colorbar": {
              "outlinewidth": 0,
              "ticks": ""
             }
            },
            "type": "scatterpolargl"
           }
          ],
          "scatterternary": [
           {
            "marker": {
             "colorbar": {
              "outlinewidth": 0,
              "ticks": ""
             }
            },
            "type": "scatterternary"
           }
          ],
          "surface": [
           {
            "colorbar": {
             "outlinewidth": 0,
             "ticks": ""
            },
            "colorscale": [
             [
              0,
              "#0d0887"
             ],
             [
              0.1111111111111111,
              "#46039f"
             ],
             [
              0.2222222222222222,
              "#7201a8"
             ],
             [
              0.3333333333333333,
              "#9c179e"
             ],
             [
              0.4444444444444444,
              "#bd3786"
             ],
             [
              0.5555555555555556,
              "#d8576b"
             ],
             [
              0.6666666666666666,
              "#ed7953"
             ],
             [
              0.7777777777777778,
              "#fb9f3a"
             ],
             [
              0.8888888888888888,
              "#fdca26"
             ],
             [
              1,
              "#f0f921"
             ]
            ],
            "type": "surface"
           }
          ],
          "table": [
           {
            "cells": {
             "fill": {
              "color": "#EBF0F8"
             },
             "line": {
              "color": "white"
             }
            },
            "header": {
             "fill": {
              "color": "#C8D4E3"
             },
             "line": {
              "color": "white"
             }
            },
            "type": "table"
           }
          ]
         },
         "layout": {
          "annotationdefaults": {
           "arrowcolor": "#2a3f5f",
           "arrowhead": 0,
           "arrowwidth": 1
          },
          "autotypenumbers": "strict",
          "coloraxis": {
           "colorbar": {
            "outlinewidth": 0,
            "ticks": ""
           }
          },
          "colorscale": {
           "diverging": [
            [
             0,
             "#8e0152"
            ],
            [
             0.1,
             "#c51b7d"
            ],
            [
             0.2,
             "#de77ae"
            ],
            [
             0.3,
             "#f1b6da"
            ],
            [
             0.4,
             "#fde0ef"
            ],
            [
             0.5,
             "#f7f7f7"
            ],
            [
             0.6,
             "#e6f5d0"
            ],
            [
             0.7,
             "#b8e186"
            ],
            [
             0.8,
             "#7fbc41"
            ],
            [
             0.9,
             "#4d9221"
            ],
            [
             1,
             "#276419"
            ]
           ],
           "sequential": [
            [
             0,
             "#0d0887"
            ],
            [
             0.1111111111111111,
             "#46039f"
            ],
            [
             0.2222222222222222,
             "#7201a8"
            ],
            [
             0.3333333333333333,
             "#9c179e"
            ],
            [
             0.4444444444444444,
             "#bd3786"
            ],
            [
             0.5555555555555556,
             "#d8576b"
            ],
            [
             0.6666666666666666,
             "#ed7953"
            ],
            [
             0.7777777777777778,
             "#fb9f3a"
            ],
            [
             0.8888888888888888,
             "#fdca26"
            ],
            [
             1,
             "#f0f921"
            ]
           ],
           "sequentialminus": [
            [
             0,
             "#0d0887"
            ],
            [
             0.1111111111111111,
             "#46039f"
            ],
            [
             0.2222222222222222,
             "#7201a8"
            ],
            [
             0.3333333333333333,
             "#9c179e"
            ],
            [
             0.4444444444444444,
             "#bd3786"
            ],
            [
             0.5555555555555556,
             "#d8576b"
            ],
            [
             0.6666666666666666,
             "#ed7953"
            ],
            [
             0.7777777777777778,
             "#fb9f3a"
            ],
            [
             0.8888888888888888,
             "#fdca26"
            ],
            [
             1,
             "#f0f921"
            ]
           ]
          },
          "colorway": [
           "#636efa",
           "#EF553B",
           "#00cc96",
           "#ab63fa",
           "#FFA15A",
           "#19d3f3",
           "#FF6692",
           "#B6E880",
           "#FF97FF",
           "#FECB52"
          ],
          "font": {
           "color": "#2a3f5f"
          },
          "geo": {
           "bgcolor": "white",
           "lakecolor": "white",
           "landcolor": "#E5ECF6",
           "showlakes": true,
           "showland": true,
           "subunitcolor": "white"
          },
          "hoverlabel": {
           "align": "left"
          },
          "hovermode": "closest",
          "mapbox": {
           "style": "light"
          },
          "paper_bgcolor": "white",
          "plot_bgcolor": "#E5ECF6",
          "polar": {
           "angularaxis": {
            "gridcolor": "white",
            "linecolor": "white",
            "ticks": ""
           },
           "bgcolor": "#E5ECF6",
           "radialaxis": {
            "gridcolor": "white",
            "linecolor": "white",
            "ticks": ""
           }
          },
          "scene": {
           "xaxis": {
            "backgroundcolor": "#E5ECF6",
            "gridcolor": "white",
            "gridwidth": 2,
            "linecolor": "white",
            "showbackground": true,
            "ticks": "",
            "zerolinecolor": "white"
           },
           "yaxis": {
            "backgroundcolor": "#E5ECF6",
            "gridcolor": "white",
            "gridwidth": 2,
            "linecolor": "white",
            "showbackground": true,
            "ticks": "",
            "zerolinecolor": "white"
           },
           "zaxis": {
            "backgroundcolor": "#E5ECF6",
            "gridcolor": "white",
            "gridwidth": 2,
            "linecolor": "white",
            "showbackground": true,
            "ticks": "",
            "zerolinecolor": "white"
           }
          },
          "shapedefaults": {
           "line": {
            "color": "#2a3f5f"
           }
          },
          "ternary": {
           "aaxis": {
            "gridcolor": "white",
            "linecolor": "white",
            "ticks": ""
           },
           "baxis": {
            "gridcolor": "white",
            "linecolor": "white",
            "ticks": ""
           },
           "bgcolor": "#E5ECF6",
           "caxis": {
            "gridcolor": "white",
            "linecolor": "white",
            "ticks": ""
           }
          },
          "title": {
           "x": 0.05
          },
          "xaxis": {
           "automargin": true,
           "gridcolor": "white",
           "linecolor": "white",
           "ticks": "",
           "title": {
            "standoff": 15
           },
           "zerolinecolor": "white",
           "zerolinewidth": 2
          },
          "yaxis": {
           "automargin": true,
           "gridcolor": "white",
           "linecolor": "white",
           "ticks": "",
           "title": {
            "standoff": 15
           },
           "zerolinecolor": "white",
           "zerolinewidth": 2
          }
         }
        },
        "width": 1000
       }
      }
     },
     "metadata": {},
     "output_type": "display_data"
    }
   ],
   "source": [
    "fig = go.Figure(data=[go.Sankey(\n",
    "    node = dict(\n",
    "        pad = 15,\n",
    "        thickness = 20,\n",
    "        line = dict(color = \"black\", width = 0.5),\n",
    "        label = label,\n",
    "        color = \"blue\"\n",
    "        ),\n",
    "    link = dict(\n",
    "        source = source,\n",
    "        target = target,\n",
    "        value = value\n",
    "    ))])\n",
    "#edit size\n",
    "fig.update_layout(width=1000, height=800)\n",
    "fig.show()"
   ]
  },
  {
   "cell_type": "code",
   "execution_count": 693,
   "metadata": {},
   "outputs": [],
   "source": [
    "parents = [spending_ukraine[cat][\"Parent\"] for cat in label]\n",
    "values = [spending_ukraine[cat][\"Amount\"] for cat in label]\n",
    "text = [spending_ukraine[cat][\"Text\"] for cat in label]\n",
    "colors = [spending_ukraine[cat][\"Color\"] for cat in label]"
   ]
  },
  {
   "cell_type": "code",
   "execution_count": 694,
   "metadata": {},
   "outputs": [],
   "source": [
    "_label = label\n",
    "_parents = parents\n",
    "_values = values\n",
    "_text = text"
   ]
  },
  {
   "cell_type": "code",
   "execution_count": 695,
   "metadata": {},
   "outputs": [
    {
     "data": {
      "text/plain": [
       "['Emergency National Security Supplemental Appropriations Act',\n",
       " 'DOD',\n",
       " 'Iseral/Middle East',\n",
       " 'Israeli Missle Defense',\n",
       " 'Iron Beam Missle Defense',\n",
       " 'Red Sea resuply',\n",
       " 'Ukraine',\n",
       " 'Replinish Weapons',\n",
       " 'Re-arm Ukraine Through Purchases',\n",
       " 'Training and Intelligence',\n",
       " 'China',\n",
       " 'Restock Taiwan',\n",
       " 'Indo-Pacific Commands Unfundedrequirements',\n",
       " 'Cruise Missile',\n",
       " 'US Readiness',\n",
       " 'Submarine Base',\n",
       " 'Restock DoD Stores',\n",
       " 'Artillery/Air Defense Resuply',\n",
       " 'DOE',\n",
       " 'Isotopes',\n",
       " 'National Nuclear Security Administration',\n",
       " 'Domestic Uranium Production',\n",
       " 'Homeland Security',\n",
       " 'FEMA',\n",
       " 'Health/Human Services',\n",
       " 'Refugee Entrant Assistance',\n",
       " 'State Department',\n",
       " 'Operations',\n",
       " 'Oversight',\n",
       " 'Economic Aid Ukraine',\n",
       " 'Foreign Military Aid',\n",
       " 'Ukraine Foreign Military',\n",
       " 'Israel Foreign Military',\n",
       " 'Indo-Pacific Foreign Military',\n",
       " 'Humanitarian Assitance']"
      ]
     },
     "execution_count": 695,
     "metadata": {},
     "output_type": "execute_result"
    }
   ],
   "source": [
    "_label"
   ]
  },
  {
   "cell_type": "code",
   "execution_count": 696,
   "metadata": {},
   "outputs": [
    {
     "data": {
      "text/plain": [
       "35"
      ]
     },
     "execution_count": 696,
     "metadata": {},
     "output_type": "execute_result"
    }
   ],
   "source": [
    "len(_values)"
   ]
  },
  {
   "cell_type": "code",
   "execution_count": 705,
   "metadata": {},
   "outputs": [
    {
     "data": {
      "application/vnd.plotly.v1+json": {
       "config": {
        "plotlyServerURL": "https://plot.ly"
       },
       "data": [
        {
         "branchvalues": "total",
         "hoverinfo": "label+value+percent parent+text",
         "labels": [
          "Emergency National Security Supplemental Appropriations Act",
          "DOD",
          "Iseral/Middle East",
          "Israeli Missle Defense",
          "Iron Beam Missle Defense",
          "Red Sea resuply",
          "Ukraine",
          "Replinish Weapons",
          "Re-arm Ukraine Through Purchases",
          "Training and Intelligence",
          "China",
          "Restock Taiwan",
          "Indo-Pacific Commands Unfundedrequirements",
          "Cruise Missile",
          "US Readiness",
          "Submarine Base",
          "Restock DoD Stores",
          "Artillery/Air Defense Resuply",
          "DOE",
          "Isotopes",
          "National Nuclear Security Administration",
          "Domestic Uranium Production",
          "Homeland Security",
          "FEMA",
          "Health/Human Services",
          "Refugee Entrant Assistance",
          "State Department",
          "Operations",
          "Oversight",
          "Economic Aid Ukraine",
          "Foreign Military Aid",
          "Ukraine Foreign Military",
          "Israel Foreign Military",
          "Indo-Pacific Foreign Military",
          "Humanitarian Assitance"
         ],
         "marker": {
          "colors": [
           "#FFFFFF",
           "#adadad",
           "#0038b8",
           "#FFFFFF",
           "#FFFFFF",
           "#FFFFFF",
           "#FFDD00",
           "#0057B7",
           "#0057B7",
           "#0057B7",
           "#FFFF00",
           "#EE1C25",
           "#EE1C25",
           "#EE1C25",
           "#aebfd4",
           "#355e93",
           "#355e93",
           "#355e93",
           "#adadad",
           "#3cff49",
           "#3cff49",
           "#3cff49",
           "#adadad",
           "#0057B7",
           "#adadad",
           "#0057B7",
           "#adadad",
           "#aebfd4",
           "#aebfd4",
           "#FFDD00",
           "#355e93",
           "#FFDD00",
           "#0038b8",
           "#EE1C25",
           "#aebfd4"
          ]
         },
         "parents": [
          "",
          "Emergency National Security Supplemental Appropriations Act",
          "DOD",
          "Iseral/Middle East",
          "Iseral/Middle East",
          "Iseral/Middle East",
          "DOD",
          "Ukraine",
          "Ukraine",
          "Ukraine",
          "DOD",
          "China",
          "China",
          "China",
          "DOD",
          "US Readiness",
          "US Readiness",
          "US Readiness",
          "Emergency National Security Supplemental Appropriations Act",
          "DOE",
          "DOE",
          "DOE",
          "Emergency National Security Supplemental Appropriations Act",
          "Homeland Security",
          "Emergency National Security Supplemental Appropriations Act",
          "Health/Human Services",
          "Emergency National Security Supplemental Appropriations Act",
          "State Department",
          "State Department",
          "State Department",
          "State Department",
          "Foreign Military Aid",
          "Foreign Military Aid",
          "Foreign Military Aid",
          "State Department"
         ],
         "text": [
          "",
          "",
          "",
          "",
          "For the procurement of the Iron Beam missile defense system",
          "Support U.S. operations in <BR>  U.S. CENTRAL COMMAND area of operations, <BR> and to replace combat expenditures <BR>  for weapons in the Red Sea.",
          "",
          "Replenish U.S. military weapons and equipment <BR> provided to Ukraine from DoD inventory",
          "Allow Ukraine to re-arm itself <BR> through the purchase of weapons and munitions <BR> from the U.S. defense industrial base",
          "Continued U.S. support to Ukraine through <BR>  military training, intelligence sharing, increased presence",
          "",
          "U.S. industrial base to replenish U.S. weapons provided to Taiwan",
          "To address the Commander of the Indo-Pacific Command’s unfundedrequirements",
          "Enhance the U.S. industrial base capacity for critical cruise missile components",
          "to restore the readiness of the U.S. military by replenishing the weapons and munitions transferred to our partners or strengthening the U.S. defense industrial base through investments to improve and increase production capacity",
          "U.S. submarine industrial base in support of AUKUS, to include continued dry dock construction at public shipyards",
          "replenishment for DoD stocks provided to Ukraine, Israel, and Taiwan",
          "procurement and production expansion for artillery, air defense munitions, countering unmanned aerial systems, and critical munition components",
          "",
          "",
          "",
          "",
          "",
          "assistance for newly arrived refugees, including extending authorization for Ukrainians granted parole",
          "",
          "assistance for newly arrived refugees, including extending authorization for Ukrainians granted parole",
          "",
          "sustain the protection of U.S. diplomatic facilities in Ukraine, Israel, and other at-risk facilities, and to provide services to American citizens in need overseas",
          "",
          "For direct budget support for Ukraine",
          "Foreign Military financing to Ukraine",
          "Foreign Military financing to Ukraine",
          "Foreign Military financing to Israel",
          "Foreign military financing to support critical partners in the Indo-Pacific Region to counter china",
          "Providing emergency food, shelter, and basic services to: Ukraine, Gaza/West Bank, East Africa, South Asia, and elsewhere."
         ],
         "textfont": {
          "size": 18
         },
         "textposition": "middle center",
         "texttemplate": "<b>%{label}:</b> <BR> $%{value}B",
         "type": "treemap",
         "values": [
          124.861,
          96.53,
          10.6,
          4,
          1.2,
          2.44,
          48.45,
          19.85,
          13.8,
          14.8,
          2.58,
          1.9,
          0.5422,
          0.113,
          34.9,
          3.3,
          26.15,
          5.4,
          2.97,
          0.098,
          0.149,
          2.72,
          0.4,
          0.4,
          0.481,
          0.481,
          24.48,
          0.299,
          0.025,
          7.85,
          7.1,
          1.6,
          3.5,
          2,
          9.2
         ]
        }
       ],
       "layout": {
        "autosize": true,
        "height": 850,
        "margin": {
         "b": 0,
         "l": 0,
         "r": 0,
         "t": 0
        },
        "template": {
         "data": {
          "bar": [
           {
            "error_x": {
             "color": "#2a3f5f"
            },
            "error_y": {
             "color": "#2a3f5f"
            },
            "marker": {
             "line": {
              "color": "#E5ECF6",
              "width": 0.5
             },
             "pattern": {
              "fillmode": "overlay",
              "size": 10,
              "solidity": 0.2
             }
            },
            "type": "bar"
           }
          ],
          "barpolar": [
           {
            "marker": {
             "line": {
              "color": "#E5ECF6",
              "width": 0.5
             },
             "pattern": {
              "fillmode": "overlay",
              "size": 10,
              "solidity": 0.2
             }
            },
            "type": "barpolar"
           }
          ],
          "carpet": [
           {
            "aaxis": {
             "endlinecolor": "#2a3f5f",
             "gridcolor": "white",
             "linecolor": "white",
             "minorgridcolor": "white",
             "startlinecolor": "#2a3f5f"
            },
            "baxis": {
             "endlinecolor": "#2a3f5f",
             "gridcolor": "white",
             "linecolor": "white",
             "minorgridcolor": "white",
             "startlinecolor": "#2a3f5f"
            },
            "type": "carpet"
           }
          ],
          "choropleth": [
           {
            "colorbar": {
             "outlinewidth": 0,
             "ticks": ""
            },
            "type": "choropleth"
           }
          ],
          "contour": [
           {
            "colorbar": {
             "outlinewidth": 0,
             "ticks": ""
            },
            "colorscale": [
             [
              0,
              "#0d0887"
             ],
             [
              0.1111111111111111,
              "#46039f"
             ],
             [
              0.2222222222222222,
              "#7201a8"
             ],
             [
              0.3333333333333333,
              "#9c179e"
             ],
             [
              0.4444444444444444,
              "#bd3786"
             ],
             [
              0.5555555555555556,
              "#d8576b"
             ],
             [
              0.6666666666666666,
              "#ed7953"
             ],
             [
              0.7777777777777778,
              "#fb9f3a"
             ],
             [
              0.8888888888888888,
              "#fdca26"
             ],
             [
              1,
              "#f0f921"
             ]
            ],
            "type": "contour"
           }
          ],
          "contourcarpet": [
           {
            "colorbar": {
             "outlinewidth": 0,
             "ticks": ""
            },
            "type": "contourcarpet"
           }
          ],
          "heatmap": [
           {
            "colorbar": {
             "outlinewidth": 0,
             "ticks": ""
            },
            "colorscale": [
             [
              0,
              "#0d0887"
             ],
             [
              0.1111111111111111,
              "#46039f"
             ],
             [
              0.2222222222222222,
              "#7201a8"
             ],
             [
              0.3333333333333333,
              "#9c179e"
             ],
             [
              0.4444444444444444,
              "#bd3786"
             ],
             [
              0.5555555555555556,
              "#d8576b"
             ],
             [
              0.6666666666666666,
              "#ed7953"
             ],
             [
              0.7777777777777778,
              "#fb9f3a"
             ],
             [
              0.8888888888888888,
              "#fdca26"
             ],
             [
              1,
              "#f0f921"
             ]
            ],
            "type": "heatmap"
           }
          ],
          "heatmapgl": [
           {
            "colorbar": {
             "outlinewidth": 0,
             "ticks": ""
            },
            "colorscale": [
             [
              0,
              "#0d0887"
             ],
             [
              0.1111111111111111,
              "#46039f"
             ],
             [
              0.2222222222222222,
              "#7201a8"
             ],
             [
              0.3333333333333333,
              "#9c179e"
             ],
             [
              0.4444444444444444,
              "#bd3786"
             ],
             [
              0.5555555555555556,
              "#d8576b"
             ],
             [
              0.6666666666666666,
              "#ed7953"
             ],
             [
              0.7777777777777778,
              "#fb9f3a"
             ],
             [
              0.8888888888888888,
              "#fdca26"
             ],
             [
              1,
              "#f0f921"
             ]
            ],
            "type": "heatmapgl"
           }
          ],
          "histogram": [
           {
            "marker": {
             "pattern": {
              "fillmode": "overlay",
              "size": 10,
              "solidity": 0.2
             }
            },
            "type": "histogram"
           }
          ],
          "histogram2d": [
           {
            "colorbar": {
             "outlinewidth": 0,
             "ticks": ""
            },
            "colorscale": [
             [
              0,
              "#0d0887"
             ],
             [
              0.1111111111111111,
              "#46039f"
             ],
             [
              0.2222222222222222,
              "#7201a8"
             ],
             [
              0.3333333333333333,
              "#9c179e"
             ],
             [
              0.4444444444444444,
              "#bd3786"
             ],
             [
              0.5555555555555556,
              "#d8576b"
             ],
             [
              0.6666666666666666,
              "#ed7953"
             ],
             [
              0.7777777777777778,
              "#fb9f3a"
             ],
             [
              0.8888888888888888,
              "#fdca26"
             ],
             [
              1,
              "#f0f921"
             ]
            ],
            "type": "histogram2d"
           }
          ],
          "histogram2dcontour": [
           {
            "colorbar": {
             "outlinewidth": 0,
             "ticks": ""
            },
            "colorscale": [
             [
              0,
              "#0d0887"
             ],
             [
              0.1111111111111111,
              "#46039f"
             ],
             [
              0.2222222222222222,
              "#7201a8"
             ],
             [
              0.3333333333333333,
              "#9c179e"
             ],
             [
              0.4444444444444444,
              "#bd3786"
             ],
             [
              0.5555555555555556,
              "#d8576b"
             ],
             [
              0.6666666666666666,
              "#ed7953"
             ],
             [
              0.7777777777777778,
              "#fb9f3a"
             ],
             [
              0.8888888888888888,
              "#fdca26"
             ],
             [
              1,
              "#f0f921"
             ]
            ],
            "type": "histogram2dcontour"
           }
          ],
          "mesh3d": [
           {
            "colorbar": {
             "outlinewidth": 0,
             "ticks": ""
            },
            "type": "mesh3d"
           }
          ],
          "parcoords": [
           {
            "line": {
             "colorbar": {
              "outlinewidth": 0,
              "ticks": ""
             }
            },
            "type": "parcoords"
           }
          ],
          "pie": [
           {
            "automargin": true,
            "type": "pie"
           }
          ],
          "scatter": [
           {
            "fillpattern": {
             "fillmode": "overlay",
             "size": 10,
             "solidity": 0.2
            },
            "type": "scatter"
           }
          ],
          "scatter3d": [
           {
            "line": {
             "colorbar": {
              "outlinewidth": 0,
              "ticks": ""
             }
            },
            "marker": {
             "colorbar": {
              "outlinewidth": 0,
              "ticks": ""
             }
            },
            "type": "scatter3d"
           }
          ],
          "scattercarpet": [
           {
            "marker": {
             "colorbar": {
              "outlinewidth": 0,
              "ticks": ""
             }
            },
            "type": "scattercarpet"
           }
          ],
          "scattergeo": [
           {
            "marker": {
             "colorbar": {
              "outlinewidth": 0,
              "ticks": ""
             }
            },
            "type": "scattergeo"
           }
          ],
          "scattergl": [
           {
            "marker": {
             "colorbar": {
              "outlinewidth": 0,
              "ticks": ""
             }
            },
            "type": "scattergl"
           }
          ],
          "scattermapbox": [
           {
            "marker": {
             "colorbar": {
              "outlinewidth": 0,
              "ticks": ""
             }
            },
            "type": "scattermapbox"
           }
          ],
          "scatterpolar": [
           {
            "marker": {
             "colorbar": {
              "outlinewidth": 0,
              "ticks": ""
             }
            },
            "type": "scatterpolar"
           }
          ],
          "scatterpolargl": [
           {
            "marker": {
             "colorbar": {
              "outlinewidth": 0,
              "ticks": ""
             }
            },
            "type": "scatterpolargl"
           }
          ],
          "scatterternary": [
           {
            "marker": {
             "colorbar": {
              "outlinewidth": 0,
              "ticks": ""
             }
            },
            "type": "scatterternary"
           }
          ],
          "surface": [
           {
            "colorbar": {
             "outlinewidth": 0,
             "ticks": ""
            },
            "colorscale": [
             [
              0,
              "#0d0887"
             ],
             [
              0.1111111111111111,
              "#46039f"
             ],
             [
              0.2222222222222222,
              "#7201a8"
             ],
             [
              0.3333333333333333,
              "#9c179e"
             ],
             [
              0.4444444444444444,
              "#bd3786"
             ],
             [
              0.5555555555555556,
              "#d8576b"
             ],
             [
              0.6666666666666666,
              "#ed7953"
             ],
             [
              0.7777777777777778,
              "#fb9f3a"
             ],
             [
              0.8888888888888888,
              "#fdca26"
             ],
             [
              1,
              "#f0f921"
             ]
            ],
            "type": "surface"
           }
          ],
          "table": [
           {
            "cells": {
             "fill": {
              "color": "#EBF0F8"
             },
             "line": {
              "color": "white"
             }
            },
            "header": {
             "fill": {
              "color": "#C8D4E3"
             },
             "line": {
              "color": "white"
             }
            },
            "type": "table"
           }
          ]
         },
         "layout": {
          "annotationdefaults": {
           "arrowcolor": "#2a3f5f",
           "arrowhead": 0,
           "arrowwidth": 1
          },
          "autotypenumbers": "strict",
          "coloraxis": {
           "colorbar": {
            "outlinewidth": 0,
            "ticks": ""
           }
          },
          "colorscale": {
           "diverging": [
            [
             0,
             "#8e0152"
            ],
            [
             0.1,
             "#c51b7d"
            ],
            [
             0.2,
             "#de77ae"
            ],
            [
             0.3,
             "#f1b6da"
            ],
            [
             0.4,
             "#fde0ef"
            ],
            [
             0.5,
             "#f7f7f7"
            ],
            [
             0.6,
             "#e6f5d0"
            ],
            [
             0.7,
             "#b8e186"
            ],
            [
             0.8,
             "#7fbc41"
            ],
            [
             0.9,
             "#4d9221"
            ],
            [
             1,
             "#276419"
            ]
           ],
           "sequential": [
            [
             0,
             "#0d0887"
            ],
            [
             0.1111111111111111,
             "#46039f"
            ],
            [
             0.2222222222222222,
             "#7201a8"
            ],
            [
             0.3333333333333333,
             "#9c179e"
            ],
            [
             0.4444444444444444,
             "#bd3786"
            ],
            [
             0.5555555555555556,
             "#d8576b"
            ],
            [
             0.6666666666666666,
             "#ed7953"
            ],
            [
             0.7777777777777778,
             "#fb9f3a"
            ],
            [
             0.8888888888888888,
             "#fdca26"
            ],
            [
             1,
             "#f0f921"
            ]
           ],
           "sequentialminus": [
            [
             0,
             "#0d0887"
            ],
            [
             0.1111111111111111,
             "#46039f"
            ],
            [
             0.2222222222222222,
             "#7201a8"
            ],
            [
             0.3333333333333333,
             "#9c179e"
            ],
            [
             0.4444444444444444,
             "#bd3786"
            ],
            [
             0.5555555555555556,
             "#d8576b"
            ],
            [
             0.6666666666666666,
             "#ed7953"
            ],
            [
             0.7777777777777778,
             "#fb9f3a"
            ],
            [
             0.8888888888888888,
             "#fdca26"
            ],
            [
             1,
             "#f0f921"
            ]
           ]
          },
          "colorway": [
           "#636efa",
           "#EF553B",
           "#00cc96",
           "#ab63fa",
           "#FFA15A",
           "#19d3f3",
           "#FF6692",
           "#B6E880",
           "#FF97FF",
           "#FECB52"
          ],
          "font": {
           "color": "#2a3f5f"
          },
          "geo": {
           "bgcolor": "white",
           "lakecolor": "white",
           "landcolor": "#E5ECF6",
           "showlakes": true,
           "showland": true,
           "subunitcolor": "white"
          },
          "hoverlabel": {
           "align": "left"
          },
          "hovermode": "closest",
          "mapbox": {
           "style": "light"
          },
          "paper_bgcolor": "white",
          "plot_bgcolor": "#E5ECF6",
          "polar": {
           "angularaxis": {
            "gridcolor": "white",
            "linecolor": "white",
            "ticks": ""
           },
           "bgcolor": "#E5ECF6",
           "radialaxis": {
            "gridcolor": "white",
            "linecolor": "white",
            "ticks": ""
           }
          },
          "scene": {
           "xaxis": {
            "backgroundcolor": "#E5ECF6",
            "gridcolor": "white",
            "gridwidth": 2,
            "linecolor": "white",
            "showbackground": true,
            "ticks": "",
            "zerolinecolor": "white"
           },
           "yaxis": {
            "backgroundcolor": "#E5ECF6",
            "gridcolor": "white",
            "gridwidth": 2,
            "linecolor": "white",
            "showbackground": true,
            "ticks": "",
            "zerolinecolor": "white"
           },
           "zaxis": {
            "backgroundcolor": "#E5ECF6",
            "gridcolor": "white",
            "gridwidth": 2,
            "linecolor": "white",
            "showbackground": true,
            "ticks": "",
            "zerolinecolor": "white"
           }
          },
          "shapedefaults": {
           "line": {
            "color": "#2a3f5f"
           }
          },
          "ternary": {
           "aaxis": {
            "gridcolor": "white",
            "linecolor": "white",
            "ticks": ""
           },
           "baxis": {
            "gridcolor": "white",
            "linecolor": "white",
            "ticks": ""
           },
           "bgcolor": "#E5ECF6",
           "caxis": {
            "gridcolor": "white",
            "linecolor": "white",
            "ticks": ""
           }
          },
          "title": {
           "x": 0.05
          },
          "xaxis": {
           "automargin": true,
           "gridcolor": "white",
           "linecolor": "white",
           "ticks": "",
           "title": {
            "standoff": 15
           },
           "zerolinecolor": "white",
           "zerolinewidth": 2
          },
          "yaxis": {
           "automargin": true,
           "gridcolor": "white",
           "linecolor": "white",
           "ticks": "",
           "title": {
            "standoff": 15
           },
           "zerolinecolor": "white",
           "zerolinewidth": 2
          }
         }
        },
        "width": 1900
       }
      }
     },
     "metadata": {},
     "output_type": "display_data"
    }
   ],
   "source": [
    "fig = go.Figure(data=[go.Treemap(\n",
    "    branchvalues = \"total\",\n",
    "    labels = _label,\n",
    "    parents = _parents,\n",
    "    values = _values,\n",
    "    text = _text,\n",
    "    marker=dict(\n",
    "        colors=colors\n",
    "    )\n",
    "    )])\n",
    "#Update the size\n",
    "fig.update_layout(width=1900, height=850)\n",
    "#Change value to billions of dollars\n",
    "fig.update_traces(texttemplate=\"<b>%{label}:</b> <BR> $%{value}B\", textposition='middle center', textfont_size=18)\n",
    "\n",
    "#Increase font size\n",
    "#Update hover text\n",
    "fig.update_traces(hoverinfo='label+value+percent parent+ text')\n",
    "\n",
    "#Remove padding\n",
    "fig.update_layout(margin=dict(l=0, r=0, t=0, b=0))\n",
    "\n",
    "#Set layout to responsive\n",
    "fig.update_layout(autosize=True)\n",
    "\n",
    "#Get html version\n",
    "fig.write_html(\"EmergencyNationalSecurityAct.html\")\n",
    "\n",
    "fig.show()"
   ]
  },
  {
   "cell_type": "code",
   "execution_count": null,
   "metadata": {},
   "outputs": [],
   "source": []
  },
  {
   "cell_type": "code",
   "execution_count": null,
   "metadata": {},
   "outputs": [],
   "source": []
  },
  {
   "cell_type": "code",
   "execution_count": null,
   "metadata": {},
   "outputs": [],
   "source": []
  },
  {
   "cell_type": "code",
   "execution_count": null,
   "metadata": {},
   "outputs": [],
   "source": []
  }
 ],
 "metadata": {
  "kernelspec": {
   "display_name": "real-fast",
   "language": "python",
   "name": "python3"
  },
  "language_info": {
   "codemirror_mode": {
    "name": "ipython",
    "version": 3
   },
   "file_extension": ".py",
   "mimetype": "text/x-python",
   "name": "python",
   "nbconvert_exporter": "python",
   "pygments_lexer": "ipython3",
   "version": "3.8.4"
  }
 },
 "nbformat": 4,
 "nbformat_minor": 2
}
