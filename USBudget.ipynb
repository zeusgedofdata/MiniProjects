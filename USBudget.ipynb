{
 "cells": [
  {
   "cell_type": "code",
   "execution_count": 13,
   "metadata": {},
   "outputs": [],
   "source": [
    "import json\n",
    "import pandas as pd\n",
    "import requests\n",
    "from plotly import graph_objs as go"
   ]
  },
  {
   "cell_type": "code",
   "execution_count": 18,
   "metadata": {},
   "outputs": [
    {
     "name": "stderr",
     "output_type": "stream",
     "text": [
      "C:\\Users\\zeusg\\AppData\\Local\\Temp/ipykernel_55884/2990091210.py:3: SettingWithCopyWarning:\n",
      "\n",
      "\n",
      "A value is trying to be set on a copy of a slice from a DataFrame.\n",
      "Try using .loc[row_indexer,col_indexer] = value instead\n",
      "\n",
      "See the caveats in the documentation: https://pandas.pydata.org/pandas-docs/stable/user_guide/indexing.html#returning-a-view-versus-a-copy\n",
      "\n",
      "C:\\Users\\zeusg\\AppData\\Local\\Temp/ipykernel_55884/2990091210.py:4: SettingWithCopyWarning:\n",
      "\n",
      "\n",
      "A value is trying to be set on a copy of a slice from a DataFrame.\n",
      "Try using .loc[row_indexer,col_indexer] = value instead\n",
      "\n",
      "See the caveats in the documentation: https://pandas.pydata.org/pandas-docs/stable/user_guide/indexing.html#returning-a-view-versus-a-copy\n",
      "\n",
      "C:\\Users\\zeusg\\AppData\\Local\\Temp/ipykernel_55884/2990091210.py:5: SettingWithCopyWarning:\n",
      "\n",
      "\n",
      "A value is trying to be set on a copy of a slice from a DataFrame.\n",
      "Try using .loc[row_indexer,col_indexer] = value instead\n",
      "\n",
      "See the caveats in the documentation: https://pandas.pydata.org/pandas-docs/stable/user_guide/indexing.html#returning-a-view-versus-a-copy\n",
      "\n",
      "C:\\Users\\zeusg\\AppData\\Local\\Temp/ipykernel_55884/2990091210.py:6: SettingWithCopyWarning:\n",
      "\n",
      "\n",
      "A value is trying to be set on a copy of a slice from a DataFrame.\n",
      "Try using .loc[row_indexer,col_indexer] = value instead\n",
      "\n",
      "See the caveats in the documentation: https://pandas.pydata.org/pandas-docs/stable/user_guide/indexing.html#returning-a-view-versus-a-copy\n",
      "\n"
     ]
    },
    {
     "data": {
      "text/plain": [
       "record_date                              object\n",
       "parent_id                                object\n",
       "classification_id                        object\n",
       "classification_desc                      object\n",
       "current_month_gross_rcpt_amt            float64\n",
       "current_month_gross_outly_amt           float64\n",
       "current_month_dfct_sur_amt              float64\n",
       "table_nbr                                object\n",
       "src_line_nbr                             object\n",
       "print_order_nbr                          object\n",
       "line_code_nbr                            object\n",
       "data_type_cd                             object\n",
       "record_type_cd                           object\n",
       "sequence_level_nbr                       object\n",
       "sequence_number_cd                       object\n",
       "record_fiscal_year                       object\n",
       "record_fiscal_quarter                    object\n",
       "record_calendar_year                     object\n",
       "record_calendar_quarter                  object\n",
       "record_calendar_month                    object\n",
       "record_calendar_day                      object\n",
       "date                             datetime64[ns]\n",
       "dtype: object"
      ]
     },
     "execution_count": 18,
     "metadata": {},
     "output_type": "execute_result"
    }
   ],
   "source": [
    "def clean_data(df):\n",
    "    df = df[df[\"record_type_cd\"] == \"MTH\"]\n",
    "    df[\"date\"] = pd.to_datetime(df[\"record_calendar_year\"] + \"-\" + df[\"record_calendar_month\"] + \"-01\")\n",
    "    df[\"current_month_gross_rcpt_amt\"] = pd.to_numeric(df[\"current_month_gross_rcpt_amt\"])\n",
    "    df[\"current_month_gross_outly_amt\"] = pd.to_numeric(df[\"current_month_gross_outly_amt\"])\n",
    "    df[\"current_month_dfct_sur_amt\"] = pd.to_numeric(df[\"current_month_dfct_sur_amt\"])\n",
    "    return df\n",
    "\n",
    "\n",
    "#Load data from https://api.fiscaldata.treasury.gov/services/api/fiscal_service/v1/accounting/mts/mts_table_1\n",
    "url = \"https://api.fiscaldata.treasury.gov/services/api/fiscal_service/v1/accounting/mts/mts_table_1\"\n",
    "#response = requests.get(url)\n",
    "#data = response.json()\n",
    "df = pd.DataFrame(data['data'])\n",
    "df = clean_data(df)\n",
    "df.dtypes"
   ]
  },
  {
   "cell_type": "code",
   "execution_count": 25,
   "metadata": {},
   "outputs": [
    {
     "data": {
      "text/html": [
       "<div>\n",
       "<style scoped>\n",
       "    .dataframe tbody tr th:only-of-type {\n",
       "        vertical-align: middle;\n",
       "    }\n",
       "\n",
       "    .dataframe tbody tr th {\n",
       "        vertical-align: top;\n",
       "    }\n",
       "\n",
       "    .dataframe thead th {\n",
       "        text-align: right;\n",
       "    }\n",
       "</style>\n",
       "<table border=\"1\" class=\"dataframe\">\n",
       "  <thead>\n",
       "    <tr style=\"text-align: right;\">\n",
       "      <th></th>\n",
       "      <th>record_date</th>\n",
       "      <th>parent_id</th>\n",
       "      <th>classification_id</th>\n",
       "      <th>classification_desc</th>\n",
       "      <th>current_month_gross_rcpt_amt</th>\n",
       "      <th>current_month_gross_outly_amt</th>\n",
       "      <th>current_month_dfct_sur_amt</th>\n",
       "      <th>table_nbr</th>\n",
       "      <th>src_line_nbr</th>\n",
       "      <th>print_order_nbr</th>\n",
       "      <th>...</th>\n",
       "      <th>record_type_cd</th>\n",
       "      <th>sequence_level_nbr</th>\n",
       "      <th>sequence_number_cd</th>\n",
       "      <th>record_fiscal_year</th>\n",
       "      <th>record_fiscal_quarter</th>\n",
       "      <th>record_calendar_year</th>\n",
       "      <th>record_calendar_quarter</th>\n",
       "      <th>record_calendar_month</th>\n",
       "      <th>record_calendar_day</th>\n",
       "      <th>date</th>\n",
       "    </tr>\n",
       "  </thead>\n",
       "  <tbody>\n",
       "  </tbody>\n",
       "</table>\n",
       "<p>0 rows × 22 columns</p>\n",
       "</div>"
      ],
      "text/plain": [
       "Empty DataFrame\n",
       "Columns: [record_date, parent_id, classification_id, classification_desc, current_month_gross_rcpt_amt, current_month_gross_outly_amt, current_month_dfct_sur_amt, table_nbr, src_line_nbr, print_order_nbr, line_code_nbr, data_type_cd, record_type_cd, sequence_level_nbr, sequence_number_cd, record_fiscal_year, record_fiscal_quarter, record_calendar_year, record_calendar_quarter, record_calendar_month, record_calendar_day, date]\n",
       "Index: []\n",
       "\n",
       "[0 rows x 22 columns]"
      ]
     },
     "execution_count": 25,
     "metadata": {},
     "output_type": "execute_result"
    }
   ],
   "source": [
    "df[df[\"record_calendar_month\"] == \"01\"]"
   ]
  },
  {
   "cell_type": "code",
   "execution_count": 26,
   "metadata": {},
   "outputs": [
    {
     "data": {
      "text/plain": [
       "array(['03', '04', '05', '06', '07'], dtype=object)"
      ]
     },
     "execution_count": 26,
     "metadata": {},
     "output_type": "execute_result"
    }
   ],
   "source": [
    "df[\"record_calendar_month\"].unique()"
   ]
  },
  {
   "cell_type": "code",
   "execution_count": 24,
   "metadata": {},
   "outputs": [
    {
     "data": {
      "text/html": [
       "<div>\n",
       "<style scoped>\n",
       "    .dataframe tbody tr th:only-of-type {\n",
       "        vertical-align: middle;\n",
       "    }\n",
       "\n",
       "    .dataframe tbody tr th {\n",
       "        vertical-align: top;\n",
       "    }\n",
       "\n",
       "    .dataframe thead th {\n",
       "        text-align: right;\n",
       "    }\n",
       "</style>\n",
       "<table border=\"1\" class=\"dataframe\">\n",
       "  <thead>\n",
       "    <tr style=\"text-align: right;\">\n",
       "      <th></th>\n",
       "      <th>record_date</th>\n",
       "      <th>parent_id</th>\n",
       "      <th>classification_id</th>\n",
       "      <th>classification_desc</th>\n",
       "      <th>current_month_gross_rcpt_amt</th>\n",
       "      <th>current_month_gross_outly_amt</th>\n",
       "      <th>current_month_dfct_sur_amt</th>\n",
       "      <th>table_nbr</th>\n",
       "      <th>src_line_nbr</th>\n",
       "      <th>print_order_nbr</th>\n",
       "      <th>...</th>\n",
       "      <th>record_type_cd</th>\n",
       "      <th>sequence_level_nbr</th>\n",
       "      <th>sequence_number_cd</th>\n",
       "      <th>record_fiscal_year</th>\n",
       "      <th>record_fiscal_quarter</th>\n",
       "      <th>record_calendar_year</th>\n",
       "      <th>record_calendar_quarter</th>\n",
       "      <th>record_calendar_month</th>\n",
       "      <th>record_calendar_day</th>\n",
       "      <th>date</th>\n",
       "    </tr>\n",
       "  </thead>\n",
       "  <tbody>\n",
       "    <tr>\n",
       "      <th>1</th>\n",
       "      <td>2015-03-31</td>\n",
       "      <td>12662418</td>\n",
       "      <td>12662420</td>\n",
       "      <td>October</td>\n",
       "      <td>1.989274e+11</td>\n",
       "      <td>2.895113e+11</td>\n",
       "      <td>9.058393e+10</td>\n",
       "      <td>1</td>\n",
       "      <td>2</td>\n",
       "      <td>2</td>\n",
       "      <td>...</td>\n",
       "      <td>MTH</td>\n",
       "      <td>2</td>\n",
       "      <td>1.1</td>\n",
       "      <td>2015</td>\n",
       "      <td>2</td>\n",
       "      <td>2015</td>\n",
       "      <td>1</td>\n",
       "      <td>03</td>\n",
       "      <td>31</td>\n",
       "      <td>2015-03-01</td>\n",
       "    </tr>\n",
       "    <tr>\n",
       "      <th>2</th>\n",
       "      <td>2015-03-31</td>\n",
       "      <td>12662418</td>\n",
       "      <td>12662434</td>\n",
       "      <td>September</td>\n",
       "      <td>3.512441e+11</td>\n",
       "      <td>2.454414e+11</td>\n",
       "      <td>-1.058027e+11</td>\n",
       "      <td>1</td>\n",
       "      <td>13</td>\n",
       "      <td>13</td>\n",
       "      <td>...</td>\n",
       "      <td>MTH</td>\n",
       "      <td>2</td>\n",
       "      <td>1.12</td>\n",
       "      <td>2015</td>\n",
       "      <td>2</td>\n",
       "      <td>2015</td>\n",
       "      <td>1</td>\n",
       "      <td>03</td>\n",
       "      <td>31</td>\n",
       "      <td>2015-03-01</td>\n",
       "    </tr>\n",
       "    <tr>\n",
       "      <th>4</th>\n",
       "      <td>2015-03-31</td>\n",
       "      <td>12662436</td>\n",
       "      <td>12662438</td>\n",
       "      <td>October</td>\n",
       "      <td>2.127187e+11</td>\n",
       "      <td>3.344316e+11</td>\n",
       "      <td>1.217129e+11</td>\n",
       "      <td>1</td>\n",
       "      <td>16</td>\n",
       "      <td>16</td>\n",
       "      <td>...</td>\n",
       "      <td>MTH</td>\n",
       "      <td>2</td>\n",
       "      <td>2.1</td>\n",
       "      <td>2015</td>\n",
       "      <td>2</td>\n",
       "      <td>2015</td>\n",
       "      <td>1</td>\n",
       "      <td>03</td>\n",
       "      <td>31</td>\n",
       "      <td>2015-03-01</td>\n",
       "    </tr>\n",
       "    <tr>\n",
       "      <th>5</th>\n",
       "      <td>2015-03-31</td>\n",
       "      <td>12662436</td>\n",
       "      <td>12662440</td>\n",
       "      <td>November</td>\n",
       "      <td>1.914362e+11</td>\n",
       "      <td>2.482542e+11</td>\n",
       "      <td>5.681800e+10</td>\n",
       "      <td>1</td>\n",
       "      <td>17</td>\n",
       "      <td>17</td>\n",
       "      <td>...</td>\n",
       "      <td>MTH</td>\n",
       "      <td>2</td>\n",
       "      <td>2.2</td>\n",
       "      <td>2015</td>\n",
       "      <td>2</td>\n",
       "      <td>2015</td>\n",
       "      <td>1</td>\n",
       "      <td>03</td>\n",
       "      <td>31</td>\n",
       "      <td>2015-03-01</td>\n",
       "    </tr>\n",
       "    <tr>\n",
       "      <th>6</th>\n",
       "      <td>2015-03-31</td>\n",
       "      <td>12662436</td>\n",
       "      <td>12662442</td>\n",
       "      <td>December</td>\n",
       "      <td>3.353270e+11</td>\n",
       "      <td>3.334626e+11</td>\n",
       "      <td>-1.864365e+09</td>\n",
       "      <td>1</td>\n",
       "      <td>18</td>\n",
       "      <td>18</td>\n",
       "      <td>...</td>\n",
       "      <td>MTH</td>\n",
       "      <td>2</td>\n",
       "      <td>2.3</td>\n",
       "      <td>2015</td>\n",
       "      <td>2</td>\n",
       "      <td>2015</td>\n",
       "      <td>1</td>\n",
       "      <td>03</td>\n",
       "      <td>31</td>\n",
       "      <td>2015-03-01</td>\n",
       "    </tr>\n",
       "    <tr>\n",
       "      <th>...</th>\n",
       "      <td>...</td>\n",
       "      <td>...</td>\n",
       "      <td>...</td>\n",
       "      <td>...</td>\n",
       "      <td>...</td>\n",
       "      <td>...</td>\n",
       "      <td>...</td>\n",
       "      <td>...</td>\n",
       "      <td>...</td>\n",
       "      <td>...</td>\n",
       "      <td>...</td>\n",
       "      <td>...</td>\n",
       "      <td>...</td>\n",
       "      <td>...</td>\n",
       "      <td>...</td>\n",
       "      <td>...</td>\n",
       "      <td>...</td>\n",
       "      <td>...</td>\n",
       "      <td>...</td>\n",
       "      <td>...</td>\n",
       "      <td>...</td>\n",
       "    </tr>\n",
       "    <tr>\n",
       "      <th>94</th>\n",
       "      <td>2015-07-31</td>\n",
       "      <td>14973403</td>\n",
       "      <td>14973505</td>\n",
       "      <td>June</td>\n",
       "      <td>3.429331e+11</td>\n",
       "      <td>2.924465e+11</td>\n",
       "      <td>-5.048650e+10</td>\n",
       "      <td>1</td>\n",
       "      <td>24</td>\n",
       "      <td>24</td>\n",
       "      <td>...</td>\n",
       "      <td>MTH</td>\n",
       "      <td>2</td>\n",
       "      <td>2.9</td>\n",
       "      <td>2015</td>\n",
       "      <td>4</td>\n",
       "      <td>2015</td>\n",
       "      <td>3</td>\n",
       "      <td>07</td>\n",
       "      <td>31</td>\n",
       "      <td>2015-07-01</td>\n",
       "    </tr>\n",
       "    <tr>\n",
       "      <th>96</th>\n",
       "      <td>2015-07-31</td>\n",
       "      <td>14973360</td>\n",
       "      <td>14973361</td>\n",
       "      <td>October</td>\n",
       "      <td>1.989274e+11</td>\n",
       "      <td>2.895113e+11</td>\n",
       "      <td>9.058393e+10</td>\n",
       "      <td>1</td>\n",
       "      <td>2</td>\n",
       "      <td>2</td>\n",
       "      <td>...</td>\n",
       "      <td>MTH</td>\n",
       "      <td>2</td>\n",
       "      <td>1.1</td>\n",
       "      <td>2015</td>\n",
       "      <td>4</td>\n",
       "      <td>2015</td>\n",
       "      <td>3</td>\n",
       "      <td>07</td>\n",
       "      <td>31</td>\n",
       "      <td>2015-07-01</td>\n",
       "    </tr>\n",
       "    <tr>\n",
       "      <th>97</th>\n",
       "      <td>2015-07-31</td>\n",
       "      <td>14973360</td>\n",
       "      <td>14973362</td>\n",
       "      <td>November</td>\n",
       "      <td>1.824527e+11</td>\n",
       "      <td>3.176791e+11</td>\n",
       "      <td>1.352263e+11</td>\n",
       "      <td>1</td>\n",
       "      <td>3</td>\n",
       "      <td>3</td>\n",
       "      <td>...</td>\n",
       "      <td>MTH</td>\n",
       "      <td>2</td>\n",
       "      <td>1.2</td>\n",
       "      <td>2015</td>\n",
       "      <td>4</td>\n",
       "      <td>2015</td>\n",
       "      <td>3</td>\n",
       "      <td>07</td>\n",
       "      <td>31</td>\n",
       "      <td>2015-07-01</td>\n",
       "    </tr>\n",
       "    <tr>\n",
       "      <th>98</th>\n",
       "      <td>2015-07-31</td>\n",
       "      <td>14973360</td>\n",
       "      <td>14973363</td>\n",
       "      <td>December</td>\n",
       "      <td>2.850411e+11</td>\n",
       "      <td>2.318207e+11</td>\n",
       "      <td>-5.322039e+10</td>\n",
       "      <td>1</td>\n",
       "      <td>4</td>\n",
       "      <td>4</td>\n",
       "      <td>...</td>\n",
       "      <td>MTH</td>\n",
       "      <td>2</td>\n",
       "      <td>1.3</td>\n",
       "      <td>2015</td>\n",
       "      <td>4</td>\n",
       "      <td>2015</td>\n",
       "      <td>3</td>\n",
       "      <td>07</td>\n",
       "      <td>31</td>\n",
       "      <td>2015-07-01</td>\n",
       "    </tr>\n",
       "    <tr>\n",
       "      <th>99</th>\n",
       "      <td>2015-07-31</td>\n",
       "      <td>14973360</td>\n",
       "      <td>14973364</td>\n",
       "      <td>January</td>\n",
       "      <td>2.959971e+11</td>\n",
       "      <td>3.062469e+11</td>\n",
       "      <td>1.024978e+10</td>\n",
       "      <td>1</td>\n",
       "      <td>5</td>\n",
       "      <td>5</td>\n",
       "      <td>...</td>\n",
       "      <td>MTH</td>\n",
       "      <td>2</td>\n",
       "      <td>1.4</td>\n",
       "      <td>2015</td>\n",
       "      <td>4</td>\n",
       "      <td>2015</td>\n",
       "      <td>3</td>\n",
       "      <td>07</td>\n",
       "      <td>31</td>\n",
       "      <td>2015-07-01</td>\n",
       "    </tr>\n",
       "  </tbody>\n",
       "</table>\n",
       "<p>83 rows × 22 columns</p>\n",
       "</div>"
      ],
      "text/plain": [
       "   record_date parent_id classification_id classification_desc  \\\n",
       "1   2015-03-31  12662418          12662420             October   \n",
       "2   2015-03-31  12662418          12662434           September   \n",
       "4   2015-03-31  12662436          12662438             October   \n",
       "5   2015-03-31  12662436          12662440            November   \n",
       "6   2015-03-31  12662436          12662442            December   \n",
       "..         ...       ...               ...                 ...   \n",
       "94  2015-07-31  14973403          14973505                June   \n",
       "96  2015-07-31  14973360          14973361             October   \n",
       "97  2015-07-31  14973360          14973362            November   \n",
       "98  2015-07-31  14973360          14973363            December   \n",
       "99  2015-07-31  14973360          14973364             January   \n",
       "\n",
       "    current_month_gross_rcpt_amt  current_month_gross_outly_amt  \\\n",
       "1                   1.989274e+11                   2.895113e+11   \n",
       "2                   3.512441e+11                   2.454414e+11   \n",
       "4                   2.127187e+11                   3.344316e+11   \n",
       "5                   1.914362e+11                   2.482542e+11   \n",
       "6                   3.353270e+11                   3.334626e+11   \n",
       "..                           ...                            ...   \n",
       "94                  3.429331e+11                   2.924465e+11   \n",
       "96                  1.989274e+11                   2.895113e+11   \n",
       "97                  1.824527e+11                   3.176791e+11   \n",
       "98                  2.850411e+11                   2.318207e+11   \n",
       "99                  2.959971e+11                   3.062469e+11   \n",
       "\n",
       "    current_month_dfct_sur_amt table_nbr src_line_nbr print_order_nbr  ...  \\\n",
       "1                 9.058393e+10         1            2               2  ...   \n",
       "2                -1.058027e+11         1           13              13  ...   \n",
       "4                 1.217129e+11         1           16              16  ...   \n",
       "5                 5.681800e+10         1           17              17  ...   \n",
       "6                -1.864365e+09         1           18              18  ...   \n",
       "..                         ...       ...          ...             ...  ...   \n",
       "94               -5.048650e+10         1           24              24  ...   \n",
       "96                9.058393e+10         1            2               2  ...   \n",
       "97                1.352263e+11         1            3               3  ...   \n",
       "98               -5.322039e+10         1            4               4  ...   \n",
       "99                1.024978e+10         1            5               5  ...   \n",
       "\n",
       "   record_type_cd sequence_level_nbr sequence_number_cd record_fiscal_year  \\\n",
       "1             MTH                  2                1.1               2015   \n",
       "2             MTH                  2               1.12               2015   \n",
       "4             MTH                  2                2.1               2015   \n",
       "5             MTH                  2                2.2               2015   \n",
       "6             MTH                  2                2.3               2015   \n",
       "..            ...                ...                ...                ...   \n",
       "94            MTH                  2                2.9               2015   \n",
       "96            MTH                  2                1.1               2015   \n",
       "97            MTH                  2                1.2               2015   \n",
       "98            MTH                  2                1.3               2015   \n",
       "99            MTH                  2                1.4               2015   \n",
       "\n",
       "   record_fiscal_quarter record_calendar_year record_calendar_quarter  \\\n",
       "1                      2                 2015                       1   \n",
       "2                      2                 2015                       1   \n",
       "4                      2                 2015                       1   \n",
       "5                      2                 2015                       1   \n",
       "6                      2                 2015                       1   \n",
       "..                   ...                  ...                     ...   \n",
       "94                     4                 2015                       3   \n",
       "96                     4                 2015                       3   \n",
       "97                     4                 2015                       3   \n",
       "98                     4                 2015                       3   \n",
       "99                     4                 2015                       3   \n",
       "\n",
       "   record_calendar_month record_calendar_day       date  \n",
       "1                     03                  31 2015-03-01  \n",
       "2                     03                  31 2015-03-01  \n",
       "4                     03                  31 2015-03-01  \n",
       "5                     03                  31 2015-03-01  \n",
       "6                     03                  31 2015-03-01  \n",
       "..                   ...                 ...        ...  \n",
       "94                    07                  31 2015-07-01  \n",
       "96                    07                  31 2015-07-01  \n",
       "97                    07                  31 2015-07-01  \n",
       "98                    07                  31 2015-07-01  \n",
       "99                    07                  31 2015-07-01  \n",
       "\n",
       "[83 rows x 22 columns]"
      ]
     },
     "execution_count": 24,
     "metadata": {},
     "output_type": "execute_result"
    }
   ],
   "source": [
    "df"
   ]
  },
  {
   "cell_type": "code",
   "execution_count": 19,
   "metadata": {},
   "outputs": [
    {
     "data": {
      "application/vnd.plotly.v1+json": {
       "config": {
        "plotlyServerURL": "https://plot.ly"
       },
       "data": [
        {
         "mode": "lines",
         "name": "Total Outlays",
         "type": "scatter",
         "x": [
          "2015-03-01T00:00:00",
          "2015-03-01T00:00:00",
          "2015-03-01T00:00:00",
          "2015-03-01T00:00:00",
          "2015-03-01T00:00:00",
          "2015-03-01T00:00:00",
          "2015-03-01T00:00:00",
          "2015-03-01T00:00:00",
          "2015-03-01T00:00:00",
          "2015-03-01T00:00:00",
          "2015-03-01T00:00:00",
          "2015-03-01T00:00:00",
          "2015-03-01T00:00:00",
          "2015-03-01T00:00:00",
          "2015-03-01T00:00:00",
          "2015-03-01T00:00:00",
          "2015-03-01T00:00:00",
          "2015-03-01T00:00:00",
          "2015-04-01T00:00:00",
          "2015-04-01T00:00:00",
          "2015-04-01T00:00:00",
          "2015-04-01T00:00:00",
          "2015-04-01T00:00:00",
          "2015-04-01T00:00:00",
          "2015-04-01T00:00:00",
          "2015-04-01T00:00:00",
          "2015-04-01T00:00:00",
          "2015-04-01T00:00:00",
          "2015-04-01T00:00:00",
          "2015-04-01T00:00:00",
          "2015-04-01T00:00:00",
          "2015-04-01T00:00:00",
          "2015-04-01T00:00:00",
          "2015-04-01T00:00:00",
          "2015-04-01T00:00:00",
          "2015-04-01T00:00:00",
          "2015-04-01T00:00:00",
          "2015-05-01T00:00:00",
          "2015-05-01T00:00:00",
          "2015-05-01T00:00:00",
          "2015-05-01T00:00:00",
          "2015-05-01T00:00:00",
          "2015-05-01T00:00:00",
          "2015-05-01T00:00:00",
          "2015-05-01T00:00:00",
          "2015-05-01T00:00:00",
          "2015-05-01T00:00:00",
          "2015-05-01T00:00:00",
          "2015-05-01T00:00:00",
          "2015-05-01T00:00:00",
          "2015-05-01T00:00:00",
          "2015-05-01T00:00:00",
          "2015-05-01T00:00:00",
          "2015-05-01T00:00:00",
          "2015-05-01T00:00:00",
          "2015-05-01T00:00:00",
          "2015-05-01T00:00:00",
          "2015-06-01T00:00:00",
          "2015-06-01T00:00:00",
          "2015-06-01T00:00:00",
          "2015-06-01T00:00:00",
          "2015-06-01T00:00:00",
          "2015-06-01T00:00:00",
          "2015-06-01T00:00:00",
          "2015-06-01T00:00:00",
          "2015-06-01T00:00:00",
          "2015-06-01T00:00:00",
          "2015-06-01T00:00:00",
          "2015-06-01T00:00:00",
          "2015-06-01T00:00:00",
          "2015-06-01T00:00:00",
          "2015-06-01T00:00:00",
          "2015-06-01T00:00:00",
          "2015-06-01T00:00:00",
          "2015-06-01T00:00:00",
          "2015-06-01T00:00:00",
          "2015-06-01T00:00:00",
          "2015-06-01T00:00:00",
          "2015-07-01T00:00:00",
          "2015-07-01T00:00:00",
          "2015-07-01T00:00:00",
          "2015-07-01T00:00:00",
          "2015-07-01T00:00:00"
         ],
         "y": [
          198927420975.74,
          351244071276.02,
          212718687273.12,
          191436201539.2,
          335326986648.69,
          306742437759.99,
          139388383802.26,
          234187337903.69,
          182452730681,
          285041127579.4,
          295997143042.01,
          144348860861.22,
          215845774260.31,
          414236584956.4,
          199889137642.73,
          323646150190.7,
          214492940315.16,
          194248237302.01,
          212718687273.12,
          191436201539.2,
          234187337903.69,
          198927420975.74,
          182452730681,
          285041127579.4,
          295997143042.01,
          144348860861.22,
          215845774260.31,
          414236584956.4,
          199889137642.73,
          323646150190.7,
          214492940315.16,
          194248237302.01,
          351244850035.65,
          335326986648.69,
          306742437759.99,
          139388383802.26,
          471801240790.52,
          144348860861.22,
          215845774260.31,
          414236584956.4,
          199889137642.73,
          323646150190.7,
          214492940315.16,
          335326986648.69,
          306742437759.99,
          139388383802.26,
          234187337903.69,
          471801240790.52,
          351244850035.65,
          198927420975.74,
          182452730681,
          285041127579.4,
          295997143042.01,
          212718687273.12,
          191436201539.2,
          194248237302.01,
          212385827417.69,
          198927420975.74,
          306742437759.99,
          139388383802.26,
          234187337903.69,
          471801240790.52,
          212385827417.69,
          342933053360.78,
          212718687273.12,
          191436201539.2,
          335326986648.69,
          182452730681,
          285041127579.4,
          295997143042.01,
          144348860861.22,
          215845774260.31,
          414236584956.4,
          199889137642.73,
          323646150190.7,
          214492940315.16,
          194248237302.01,
          351244850035.65,
          342933053360.78,
          198927420975.74,
          182452730681,
          285041127579.4,
          295997143042.01
         ]
        },
        {
         "mode": "lines",
         "name": "Total Revenue",
         "type": "scatter",
         "x": [
          "2015-03-01T00:00:00",
          "2015-03-01T00:00:00",
          "2015-03-01T00:00:00",
          "2015-03-01T00:00:00",
          "2015-03-01T00:00:00",
          "2015-03-01T00:00:00",
          "2015-03-01T00:00:00",
          "2015-03-01T00:00:00",
          "2015-03-01T00:00:00",
          "2015-03-01T00:00:00",
          "2015-03-01T00:00:00",
          "2015-03-01T00:00:00",
          "2015-03-01T00:00:00",
          "2015-03-01T00:00:00",
          "2015-03-01T00:00:00",
          "2015-03-01T00:00:00",
          "2015-03-01T00:00:00",
          "2015-03-01T00:00:00",
          "2015-04-01T00:00:00",
          "2015-04-01T00:00:00",
          "2015-04-01T00:00:00",
          "2015-04-01T00:00:00",
          "2015-04-01T00:00:00",
          "2015-04-01T00:00:00",
          "2015-04-01T00:00:00",
          "2015-04-01T00:00:00",
          "2015-04-01T00:00:00",
          "2015-04-01T00:00:00",
          "2015-04-01T00:00:00",
          "2015-04-01T00:00:00",
          "2015-04-01T00:00:00",
          "2015-04-01T00:00:00",
          "2015-04-01T00:00:00",
          "2015-04-01T00:00:00",
          "2015-04-01T00:00:00",
          "2015-04-01T00:00:00",
          "2015-04-01T00:00:00",
          "2015-05-01T00:00:00",
          "2015-05-01T00:00:00",
          "2015-05-01T00:00:00",
          "2015-05-01T00:00:00",
          "2015-05-01T00:00:00",
          "2015-05-01T00:00:00",
          "2015-05-01T00:00:00",
          "2015-05-01T00:00:00",
          "2015-05-01T00:00:00",
          "2015-05-01T00:00:00",
          "2015-05-01T00:00:00",
          "2015-05-01T00:00:00",
          "2015-05-01T00:00:00",
          "2015-05-01T00:00:00",
          "2015-05-01T00:00:00",
          "2015-05-01T00:00:00",
          "2015-05-01T00:00:00",
          "2015-05-01T00:00:00",
          "2015-05-01T00:00:00",
          "2015-05-01T00:00:00",
          "2015-06-01T00:00:00",
          "2015-06-01T00:00:00",
          "2015-06-01T00:00:00",
          "2015-06-01T00:00:00",
          "2015-06-01T00:00:00",
          "2015-06-01T00:00:00",
          "2015-06-01T00:00:00",
          "2015-06-01T00:00:00",
          "2015-06-01T00:00:00",
          "2015-06-01T00:00:00",
          "2015-06-01T00:00:00",
          "2015-06-01T00:00:00",
          "2015-06-01T00:00:00",
          "2015-06-01T00:00:00",
          "2015-06-01T00:00:00",
          "2015-06-01T00:00:00",
          "2015-06-01T00:00:00",
          "2015-06-01T00:00:00",
          "2015-06-01T00:00:00",
          "2015-06-01T00:00:00",
          "2015-06-01T00:00:00",
          "2015-07-01T00:00:00",
          "2015-07-01T00:00:00",
          "2015-07-01T00:00:00",
          "2015-07-01T00:00:00",
          "2015-07-01T00:00:00"
         ],
         "y": [
          289511349891.27,
          245441413562.49,
          334431604362.31,
          248254199624.25,
          333462621387.56,
          324288687505.46,
          331738151089.56,
          287097397834.05,
          317679064766.45,
          231820736580.68,
          306246918462.22,
          337880379499.53,
          252740569542,
          307383258231.1,
          329860032889.84,
          253127426153.2,
          309113491611.9,
          322924988723.63,
          334431604362.31,
          248254199624.25,
          287105173913.88,
          289511349891.27,
          317679064766.45,
          231820736580.68,
          306246918462.22,
          337880379499.53,
          252740569542,
          307383258231.1,
          329860032889.84,
          253127426153.2,
          309113491611.9,
          322924988723.63,
          245441413562.49,
          333462621387.56,
          324288687505.46,
          331738151089.56,
          315087162351.27,
          337880379499.53,
          252740569542,
          307383258231.1,
          329860032889.84,
          253127426153.2,
          309113491611.9,
          333462621387.56,
          324288687505.46,
          331738151089.56,
          287105173913.88,
          315092025437.41,
          245441413562.49,
          289511349891.27,
          317679064766.45,
          231820736580.68,
          306246918462.22,
          334431604362.31,
          248254199624.25,
          322924988723.63,
          294771105836.73,
          289511349891.27,
          324288687505.46,
          331738151089.56,
          287105173913.88,
          315092025437.41,
          294771105836.73,
          291157289359.24,
          334431604362.31,
          248254199624.25,
          333462621387.56,
          317679064766.45,
          231820736580.68,
          306246918462.22,
          337880379499.53,
          252740569542,
          307383258231.1,
          329860032889.84,
          253127426153.2,
          309113491611.9,
          322924988723.63,
          245441413562.49,
          292446549571.52,
          289511349891.27,
          317679064766.45,
          231820736580.68,
          306246918462.22
         ]
        }
       ],
       "layout": {
        "template": {
         "data": {
          "bar": [
           {
            "error_x": {
             "color": "#2a3f5f"
            },
            "error_y": {
             "color": "#2a3f5f"
            },
            "marker": {
             "line": {
              "color": "#E5ECF6",
              "width": 0.5
             },
             "pattern": {
              "fillmode": "overlay",
              "size": 10,
              "solidity": 0.2
             }
            },
            "type": "bar"
           }
          ],
          "barpolar": [
           {
            "marker": {
             "line": {
              "color": "#E5ECF6",
              "width": 0.5
             },
             "pattern": {
              "fillmode": "overlay",
              "size": 10,
              "solidity": 0.2
             }
            },
            "type": "barpolar"
           }
          ],
          "carpet": [
           {
            "aaxis": {
             "endlinecolor": "#2a3f5f",
             "gridcolor": "white",
             "linecolor": "white",
             "minorgridcolor": "white",
             "startlinecolor": "#2a3f5f"
            },
            "baxis": {
             "endlinecolor": "#2a3f5f",
             "gridcolor": "white",
             "linecolor": "white",
             "minorgridcolor": "white",
             "startlinecolor": "#2a3f5f"
            },
            "type": "carpet"
           }
          ],
          "choropleth": [
           {
            "colorbar": {
             "outlinewidth": 0,
             "ticks": ""
            },
            "type": "choropleth"
           }
          ],
          "contour": [
           {
            "colorbar": {
             "outlinewidth": 0,
             "ticks": ""
            },
            "colorscale": [
             [
              0,
              "#0d0887"
             ],
             [
              0.1111111111111111,
              "#46039f"
             ],
             [
              0.2222222222222222,
              "#7201a8"
             ],
             [
              0.3333333333333333,
              "#9c179e"
             ],
             [
              0.4444444444444444,
              "#bd3786"
             ],
             [
              0.5555555555555556,
              "#d8576b"
             ],
             [
              0.6666666666666666,
              "#ed7953"
             ],
             [
              0.7777777777777778,
              "#fb9f3a"
             ],
             [
              0.8888888888888888,
              "#fdca26"
             ],
             [
              1,
              "#f0f921"
             ]
            ],
            "type": "contour"
           }
          ],
          "contourcarpet": [
           {
            "colorbar": {
             "outlinewidth": 0,
             "ticks": ""
            },
            "type": "contourcarpet"
           }
          ],
          "heatmap": [
           {
            "colorbar": {
             "outlinewidth": 0,
             "ticks": ""
            },
            "colorscale": [
             [
              0,
              "#0d0887"
             ],
             [
              0.1111111111111111,
              "#46039f"
             ],
             [
              0.2222222222222222,
              "#7201a8"
             ],
             [
              0.3333333333333333,
              "#9c179e"
             ],
             [
              0.4444444444444444,
              "#bd3786"
             ],
             [
              0.5555555555555556,
              "#d8576b"
             ],
             [
              0.6666666666666666,
              "#ed7953"
             ],
             [
              0.7777777777777778,
              "#fb9f3a"
             ],
             [
              0.8888888888888888,
              "#fdca26"
             ],
             [
              1,
              "#f0f921"
             ]
            ],
            "type": "heatmap"
           }
          ],
          "heatmapgl": [
           {
            "colorbar": {
             "outlinewidth": 0,
             "ticks": ""
            },
            "colorscale": [
             [
              0,
              "#0d0887"
             ],
             [
              0.1111111111111111,
              "#46039f"
             ],
             [
              0.2222222222222222,
              "#7201a8"
             ],
             [
              0.3333333333333333,
              "#9c179e"
             ],
             [
              0.4444444444444444,
              "#bd3786"
             ],
             [
              0.5555555555555556,
              "#d8576b"
             ],
             [
              0.6666666666666666,
              "#ed7953"
             ],
             [
              0.7777777777777778,
              "#fb9f3a"
             ],
             [
              0.8888888888888888,
              "#fdca26"
             ],
             [
              1,
              "#f0f921"
             ]
            ],
            "type": "heatmapgl"
           }
          ],
          "histogram": [
           {
            "marker": {
             "pattern": {
              "fillmode": "overlay",
              "size": 10,
              "solidity": 0.2
             }
            },
            "type": "histogram"
           }
          ],
          "histogram2d": [
           {
            "colorbar": {
             "outlinewidth": 0,
             "ticks": ""
            },
            "colorscale": [
             [
              0,
              "#0d0887"
             ],
             [
              0.1111111111111111,
              "#46039f"
             ],
             [
              0.2222222222222222,
              "#7201a8"
             ],
             [
              0.3333333333333333,
              "#9c179e"
             ],
             [
              0.4444444444444444,
              "#bd3786"
             ],
             [
              0.5555555555555556,
              "#d8576b"
             ],
             [
              0.6666666666666666,
              "#ed7953"
             ],
             [
              0.7777777777777778,
              "#fb9f3a"
             ],
             [
              0.8888888888888888,
              "#fdca26"
             ],
             [
              1,
              "#f0f921"
             ]
            ],
            "type": "histogram2d"
           }
          ],
          "histogram2dcontour": [
           {
            "colorbar": {
             "outlinewidth": 0,
             "ticks": ""
            },
            "colorscale": [
             [
              0,
              "#0d0887"
             ],
             [
              0.1111111111111111,
              "#46039f"
             ],
             [
              0.2222222222222222,
              "#7201a8"
             ],
             [
              0.3333333333333333,
              "#9c179e"
             ],
             [
              0.4444444444444444,
              "#bd3786"
             ],
             [
              0.5555555555555556,
              "#d8576b"
             ],
             [
              0.6666666666666666,
              "#ed7953"
             ],
             [
              0.7777777777777778,
              "#fb9f3a"
             ],
             [
              0.8888888888888888,
              "#fdca26"
             ],
             [
              1,
              "#f0f921"
             ]
            ],
            "type": "histogram2dcontour"
           }
          ],
          "mesh3d": [
           {
            "colorbar": {
             "outlinewidth": 0,
             "ticks": ""
            },
            "type": "mesh3d"
           }
          ],
          "parcoords": [
           {
            "line": {
             "colorbar": {
              "outlinewidth": 0,
              "ticks": ""
             }
            },
            "type": "parcoords"
           }
          ],
          "pie": [
           {
            "automargin": true,
            "type": "pie"
           }
          ],
          "scatter": [
           {
            "fillpattern": {
             "fillmode": "overlay",
             "size": 10,
             "solidity": 0.2
            },
            "type": "scatter"
           }
          ],
          "scatter3d": [
           {
            "line": {
             "colorbar": {
              "outlinewidth": 0,
              "ticks": ""
             }
            },
            "marker": {
             "colorbar": {
              "outlinewidth": 0,
              "ticks": ""
             }
            },
            "type": "scatter3d"
           }
          ],
          "scattercarpet": [
           {
            "marker": {
             "colorbar": {
              "outlinewidth": 0,
              "ticks": ""
             }
            },
            "type": "scattercarpet"
           }
          ],
          "scattergeo": [
           {
            "marker": {
             "colorbar": {
              "outlinewidth": 0,
              "ticks": ""
             }
            },
            "type": "scattergeo"
           }
          ],
          "scattergl": [
           {
            "marker": {
             "colorbar": {
              "outlinewidth": 0,
              "ticks": ""
             }
            },
            "type": "scattergl"
           }
          ],
          "scattermapbox": [
           {
            "marker": {
             "colorbar": {
              "outlinewidth": 0,
              "ticks": ""
             }
            },
            "type": "scattermapbox"
           }
          ],
          "scatterpolar": [
           {
            "marker": {
             "colorbar": {
              "outlinewidth": 0,
              "ticks": ""
             }
            },
            "type": "scatterpolar"
           }
          ],
          "scatterpolargl": [
           {
            "marker": {
             "colorbar": {
              "outlinewidth": 0,
              "ticks": ""
             }
            },
            "type": "scatterpolargl"
           }
          ],
          "scatterternary": [
           {
            "marker": {
             "colorbar": {
              "outlinewidth": 0,
              "ticks": ""
             }
            },
            "type": "scatterternary"
           }
          ],
          "surface": [
           {
            "colorbar": {
             "outlinewidth": 0,
             "ticks": ""
            },
            "colorscale": [
             [
              0,
              "#0d0887"
             ],
             [
              0.1111111111111111,
              "#46039f"
             ],
             [
              0.2222222222222222,
              "#7201a8"
             ],
             [
              0.3333333333333333,
              "#9c179e"
             ],
             [
              0.4444444444444444,
              "#bd3786"
             ],
             [
              0.5555555555555556,
              "#d8576b"
             ],
             [
              0.6666666666666666,
              "#ed7953"
             ],
             [
              0.7777777777777778,
              "#fb9f3a"
             ],
             [
              0.8888888888888888,
              "#fdca26"
             ],
             [
              1,
              "#f0f921"
             ]
            ],
            "type": "surface"
           }
          ],
          "table": [
           {
            "cells": {
             "fill": {
              "color": "#EBF0F8"
             },
             "line": {
              "color": "white"
             }
            },
            "header": {
             "fill": {
              "color": "#C8D4E3"
             },
             "line": {
              "color": "white"
             }
            },
            "type": "table"
           }
          ]
         },
         "layout": {
          "annotationdefaults": {
           "arrowcolor": "#2a3f5f",
           "arrowhead": 0,
           "arrowwidth": 1
          },
          "autotypenumbers": "strict",
          "coloraxis": {
           "colorbar": {
            "outlinewidth": 0,
            "ticks": ""
           }
          },
          "colorscale": {
           "diverging": [
            [
             0,
             "#8e0152"
            ],
            [
             0.1,
             "#c51b7d"
            ],
            [
             0.2,
             "#de77ae"
            ],
            [
             0.3,
             "#f1b6da"
            ],
            [
             0.4,
             "#fde0ef"
            ],
            [
             0.5,
             "#f7f7f7"
            ],
            [
             0.6,
             "#e6f5d0"
            ],
            [
             0.7,
             "#b8e186"
            ],
            [
             0.8,
             "#7fbc41"
            ],
            [
             0.9,
             "#4d9221"
            ],
            [
             1,
             "#276419"
            ]
           ],
           "sequential": [
            [
             0,
             "#0d0887"
            ],
            [
             0.1111111111111111,
             "#46039f"
            ],
            [
             0.2222222222222222,
             "#7201a8"
            ],
            [
             0.3333333333333333,
             "#9c179e"
            ],
            [
             0.4444444444444444,
             "#bd3786"
            ],
            [
             0.5555555555555556,
             "#d8576b"
            ],
            [
             0.6666666666666666,
             "#ed7953"
            ],
            [
             0.7777777777777778,
             "#fb9f3a"
            ],
            [
             0.8888888888888888,
             "#fdca26"
            ],
            [
             1,
             "#f0f921"
            ]
           ],
           "sequentialminus": [
            [
             0,
             "#0d0887"
            ],
            [
             0.1111111111111111,
             "#46039f"
            ],
            [
             0.2222222222222222,
             "#7201a8"
            ],
            [
             0.3333333333333333,
             "#9c179e"
            ],
            [
             0.4444444444444444,
             "#bd3786"
            ],
            [
             0.5555555555555556,
             "#d8576b"
            ],
            [
             0.6666666666666666,
             "#ed7953"
            ],
            [
             0.7777777777777778,
             "#fb9f3a"
            ],
            [
             0.8888888888888888,
             "#fdca26"
            ],
            [
             1,
             "#f0f921"
            ]
           ]
          },
          "colorway": [
           "#636efa",
           "#EF553B",
           "#00cc96",
           "#ab63fa",
           "#FFA15A",
           "#19d3f3",
           "#FF6692",
           "#B6E880",
           "#FF97FF",
           "#FECB52"
          ],
          "font": {
           "color": "#2a3f5f"
          },
          "geo": {
           "bgcolor": "white",
           "lakecolor": "white",
           "landcolor": "#E5ECF6",
           "showlakes": true,
           "showland": true,
           "subunitcolor": "white"
          },
          "hoverlabel": {
           "align": "left"
          },
          "hovermode": "closest",
          "mapbox": {
           "style": "light"
          },
          "paper_bgcolor": "white",
          "plot_bgcolor": "#E5ECF6",
          "polar": {
           "angularaxis": {
            "gridcolor": "white",
            "linecolor": "white",
            "ticks": ""
           },
           "bgcolor": "#E5ECF6",
           "radialaxis": {
            "gridcolor": "white",
            "linecolor": "white",
            "ticks": ""
           }
          },
          "scene": {
           "xaxis": {
            "backgroundcolor": "#E5ECF6",
            "gridcolor": "white",
            "gridwidth": 2,
            "linecolor": "white",
            "showbackground": true,
            "ticks": "",
            "zerolinecolor": "white"
           },
           "yaxis": {
            "backgroundcolor": "#E5ECF6",
            "gridcolor": "white",
            "gridwidth": 2,
            "linecolor": "white",
            "showbackground": true,
            "ticks": "",
            "zerolinecolor": "white"
           },
           "zaxis": {
            "backgroundcolor": "#E5ECF6",
            "gridcolor": "white",
            "gridwidth": 2,
            "linecolor": "white",
            "showbackground": true,
            "ticks": "",
            "zerolinecolor": "white"
           }
          },
          "shapedefaults": {
           "line": {
            "color": "#2a3f5f"
           }
          },
          "ternary": {
           "aaxis": {
            "gridcolor": "white",
            "linecolor": "white",
            "ticks": ""
           },
           "baxis": {
            "gridcolor": "white",
            "linecolor": "white",
            "ticks": ""
           },
           "bgcolor": "#E5ECF6",
           "caxis": {
            "gridcolor": "white",
            "linecolor": "white",
            "ticks": ""
           }
          },
          "title": {
           "x": 0.05
          },
          "xaxis": {
           "automargin": true,
           "gridcolor": "white",
           "linecolor": "white",
           "ticks": "",
           "title": {
            "standoff": 15
           },
           "zerolinecolor": "white",
           "zerolinewidth": 2
          },
          "yaxis": {
           "automargin": true,
           "gridcolor": "white",
           "linecolor": "white",
           "ticks": "",
           "title": {
            "standoff": 15
           },
           "zerolinecolor": "white",
           "zerolinewidth": 2
          }
         }
        }
       }
      }
     },
     "metadata": {},
     "output_type": "display_data"
    }
   ],
   "source": [
    "fig = go.Figure()\n",
    "fig.add_trace(go.Scatter(x=df[\"date\"], y=df[\"current_month_gross_rcpt_amt\"], mode=\"lines\", name=\"Total Outlays\"))\n",
    "fig.add_trace(go.Scatter(x=df[\"date\"], y=df[\"current_month_gross_outly_amt\"], mode=\"lines\", name=\"Total Revenue\"))\n",
    "fig.show()"
   ]
  },
  {
   "cell_type": "code",
   "execution_count": null,
   "metadata": {},
   "outputs": [],
   "source": []
  }
 ],
 "metadata": {
  "kernelspec": {
   "display_name": "real-fast",
   "language": "python",
   "name": "python3"
  },
  "language_info": {
   "codemirror_mode": {
    "name": "ipython",
    "version": 3
   },
   "file_extension": ".py",
   "mimetype": "text/x-python",
   "name": "python",
   "nbconvert_exporter": "python",
   "pygments_lexer": "ipython3",
   "version": "3.8.4"
  }
 },
 "nbformat": 4,
 "nbformat_minor": 2
}
