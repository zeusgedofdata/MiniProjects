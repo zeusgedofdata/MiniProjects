{
 "cells": [
  {
   "cell_type": "code",
   "execution_count": 129,
   "metadata": {},
   "outputs": [],
   "source": [
    "import pandas as pd\n",
    "import pyreadr\n",
    "import plotly.express as px\n",
    "import plotly.graph_objects as go\n",
    "import random"
   ]
  },
  {
   "cell_type": "markdown",
   "metadata": {},
   "source": [
    "https://mqscores.lsa.umich.edu/measures.php"
   ]
  },
  {
   "cell_type": "code",
   "execution_count": 65,
   "metadata": {},
   "outputs": [],
   "source": [
    "\n",
    "df = pd.read_csv(\"justices.csv\")"
   ]
  },
  {
   "cell_type": "code",
   "execution_count": 66,
   "metadata": {},
   "outputs": [
    {
     "data": {
      "text/html": [
       "<div>\n",
       "<style scoped>\n",
       "    .dataframe tbody tr th:only-of-type {\n",
       "        vertical-align: middle;\n",
       "    }\n",
       "\n",
       "    .dataframe tbody tr th {\n",
       "        vertical-align: top;\n",
       "    }\n",
       "\n",
       "    .dataframe thead th {\n",
       "        text-align: right;\n",
       "    }\n",
       "</style>\n",
       "<table border=\"1\" class=\"dataframe\">\n",
       "  <thead>\n",
       "    <tr style=\"text-align: right;\">\n",
       "      <th></th>\n",
       "      <th>term</th>\n",
       "      <th>justice</th>\n",
       "      <th>justiceName</th>\n",
       "      <th>post_mn</th>\n",
       "      <th>post_sd</th>\n",
       "      <th>post_med</th>\n",
       "      <th>post_025</th>\n",
       "      <th>post_975</th>\n",
       "    </tr>\n",
       "  </thead>\n",
       "  <tbody>\n",
       "    <tr>\n",
       "      <th>0</th>\n",
       "      <td>2020</td>\n",
       "      <td>117</td>\n",
       "      <td>ACBarrett</td>\n",
       "      <td>1.219</td>\n",
       "      <td>0.363</td>\n",
       "      <td>1.201</td>\n",
       "      <td>0.557</td>\n",
       "      <td>1.975</td>\n",
       "    </tr>\n",
       "    <tr>\n",
       "      <th>1</th>\n",
       "      <td>2021</td>\n",
       "      <td>117</td>\n",
       "      <td>ACBarrett</td>\n",
       "      <td>1.347</td>\n",
       "      <td>0.349</td>\n",
       "      <td>1.326</td>\n",
       "      <td>0.717</td>\n",
       "      <td>2.085</td>\n",
       "    </tr>\n",
       "    <tr>\n",
       "      <th>2</th>\n",
       "      <td>1965</td>\n",
       "      <td>97</td>\n",
       "      <td>AFortas</td>\n",
       "      <td>-1.330</td>\n",
       "      <td>0.264</td>\n",
       "      <td>-1.321</td>\n",
       "      <td>-1.869</td>\n",
       "      <td>-0.827</td>\n",
       "    </tr>\n",
       "    <tr>\n",
       "      <th>3</th>\n",
       "      <td>1966</td>\n",
       "      <td>97</td>\n",
       "      <td>AFortas</td>\n",
       "      <td>-1.513</td>\n",
       "      <td>0.224</td>\n",
       "      <td>-1.508</td>\n",
       "      <td>-1.971</td>\n",
       "      <td>-1.096</td>\n",
       "    </tr>\n",
       "    <tr>\n",
       "      <th>4</th>\n",
       "      <td>1967</td>\n",
       "      <td>97</td>\n",
       "      <td>AFortas</td>\n",
       "      <td>-1.353</td>\n",
       "      <td>0.227</td>\n",
       "      <td>-1.347</td>\n",
       "      <td>-1.818</td>\n",
       "      <td>-0.930</td>\n",
       "    </tr>\n",
       "    <tr>\n",
       "      <th>...</th>\n",
       "      <td>...</td>\n",
       "      <td>...</td>\n",
       "      <td>...</td>\n",
       "      <td>...</td>\n",
       "      <td>...</td>\n",
       "      <td>...</td>\n",
       "      <td>...</td>\n",
       "      <td>...</td>\n",
       "    </tr>\n",
       "    <tr>\n",
       "      <th>768</th>\n",
       "      <td>1971</td>\n",
       "      <td>81</td>\n",
       "      <td>WODouglas</td>\n",
       "      <td>-7.798</td>\n",
       "      <td>1.026</td>\n",
       "      <td>-7.761</td>\n",
       "      <td>-10.037</td>\n",
       "      <td>-5.885</td>\n",
       "    </tr>\n",
       "    <tr>\n",
       "      <th>769</th>\n",
       "      <td>1972</td>\n",
       "      <td>81</td>\n",
       "      <td>WODouglas</td>\n",
       "      <td>-7.828</td>\n",
       "      <td>1.060</td>\n",
       "      <td>-7.769</td>\n",
       "      <td>-10.110</td>\n",
       "      <td>-5.847</td>\n",
       "    </tr>\n",
       "    <tr>\n",
       "      <th>770</th>\n",
       "      <td>1973</td>\n",
       "      <td>81</td>\n",
       "      <td>WODouglas</td>\n",
       "      <td>-7.870</td>\n",
       "      <td>1.090</td>\n",
       "      <td>-7.818</td>\n",
       "      <td>-10.197</td>\n",
       "      <td>-5.842</td>\n",
       "    </tr>\n",
       "    <tr>\n",
       "      <th>771</th>\n",
       "      <td>1974</td>\n",
       "      <td>81</td>\n",
       "      <td>WODouglas</td>\n",
       "      <td>-7.923</td>\n",
       "      <td>1.116</td>\n",
       "      <td>-7.874</td>\n",
       "      <td>-10.298</td>\n",
       "      <td>-5.838</td>\n",
       "    </tr>\n",
       "    <tr>\n",
       "      <th>772</th>\n",
       "      <td>1975</td>\n",
       "      <td>81</td>\n",
       "      <td>WODouglas</td>\n",
       "      <td>-7.929</td>\n",
       "      <td>1.155</td>\n",
       "      <td>-7.881</td>\n",
       "      <td>-10.379</td>\n",
       "      <td>-5.755</td>\n",
       "    </tr>\n",
       "  </tbody>\n",
       "</table>\n",
       "<p>773 rows × 8 columns</p>\n",
       "</div>"
      ],
      "text/plain": [
       "     term  justice justiceName  post_mn  post_sd  post_med  post_025  post_975\n",
       "0    2020      117   ACBarrett    1.219    0.363     1.201     0.557     1.975\n",
       "1    2021      117   ACBarrett    1.347    0.349     1.326     0.717     2.085\n",
       "2    1965       97     AFortas   -1.330    0.264    -1.321    -1.869    -0.827\n",
       "3    1966       97     AFortas   -1.513    0.224    -1.508    -1.971    -1.096\n",
       "4    1967       97     AFortas   -1.353    0.227    -1.347    -1.818    -0.930\n",
       "..    ...      ...         ...      ...      ...       ...       ...       ...\n",
       "768  1971       81   WODouglas   -7.798    1.026    -7.761   -10.037    -5.885\n",
       "769  1972       81   WODouglas   -7.828    1.060    -7.769   -10.110    -5.847\n",
       "770  1973       81   WODouglas   -7.870    1.090    -7.818   -10.197    -5.842\n",
       "771  1974       81   WODouglas   -7.923    1.116    -7.874   -10.298    -5.838\n",
       "772  1975       81   WODouglas   -7.929    1.155    -7.881   -10.379    -5.755\n",
       "\n",
       "[773 rows x 8 columns]"
      ]
     },
     "execution_count": 66,
     "metadata": {},
     "output_type": "execute_result"
    }
   ],
   "source": [
    "df"
   ]
  },
  {
   "cell_type": "code",
   "execution_count": 67,
   "metadata": {},
   "outputs": [
    {
     "data": {
      "application/vnd.plotly.v1+json": {
       "config": {
        "plotlyServerURL": "https://plot.ly"
       },
       "data": [
        {
         "hovertemplate": "justiceName=ACBarrett<br>term=%{x}<br>post_med=%{y}<extra></extra>",
         "legendgroup": "ACBarrett",
         "line": {
          "color": "#636efa",
          "dash": "solid"
         },
         "marker": {
          "symbol": "circle"
         },
         "mode": "lines",
         "name": "ACBarrett",
         "orientation": "v",
         "showlegend": true,
         "type": "scatter",
         "x": [
          2020,
          2021
         ],
         "xaxis": "x",
         "y": [
          1.201,
          1.326
         ],
         "yaxis": "y"
        },
        {
         "hovertemplate": "justiceName=AFortas<br>term=%{x}<br>post_med=%{y}<extra></extra>",
         "legendgroup": "AFortas",
         "line": {
          "color": "#EF553B",
          "dash": "solid"
         },
         "marker": {
          "symbol": "circle"
         },
         "mode": "lines",
         "name": "AFortas",
         "orientation": "v",
         "showlegend": true,
         "type": "scatter",
         "x": [
          1965,
          1966,
          1967,
          1968
         ],
         "xaxis": "x",
         "y": [
          -1.321,
          -1.508,
          -1.347,
          -1.08
         ],
         "yaxis": "y"
        },
        {
         "hovertemplate": "justiceName=AJGoldberg<br>term=%{x}<br>post_med=%{y}<extra></extra>",
         "legendgroup": "AJGoldberg",
         "line": {
          "color": "#00cc96",
          "dash": "solid"
         },
         "marker": {
          "symbol": "circle"
         },
         "mode": "lines",
         "name": "AJGoldberg",
         "orientation": "v",
         "showlegend": true,
         "type": "scatter",
         "x": [
          1962,
          1963,
          1964
         ],
         "xaxis": "x",
         "y": [
          -1.145,
          -1.282,
          -0.777
         ],
         "yaxis": "y"
        },
        {
         "hovertemplate": "justiceName=AMKennedy<br>term=%{x}<br>post_med=%{y}<extra></extra>",
         "legendgroup": "AMKennedy",
         "line": {
          "color": "#ab63fa",
          "dash": "solid"
         },
         "marker": {
          "symbol": "circle"
         },
         "mode": "lines",
         "name": "AMKennedy",
         "orientation": "v",
         "showlegend": true,
         "type": "scatter",
         "x": [
          1987,
          1988,
          1989,
          1990,
          1991,
          1992,
          1993,
          1994,
          1995,
          1996,
          1997,
          1998,
          1999,
          2000,
          2001,
          2002,
          2003,
          2004,
          2005,
          2006,
          2007,
          2008,
          2009,
          2010,
          2011,
          2012,
          2013,
          2014,
          2015,
          2016,
          2017
         ],
         "xaxis": "x",
         "y": [
          1.213,
          1.478,
          1.355,
          1.198,
          0.857,
          1.027,
          0.871,
          0.847,
          0.735,
          0.826,
          0.821,
          0.948,
          1.085,
          0.957,
          1.054,
          0.895,
          0.766,
          0.54,
          0.499,
          0.457,
          0.411,
          0.576,
          0.512,
          0.575,
          0.294,
          0.239,
          0.069,
          -0.223,
          -0.267,
          -0.047,
          0.399
         ],
         "yaxis": "y"
        },
        {
         "hovertemplate": "justiceName=AScalia<br>term=%{x}<br>post_med=%{y}<extra></extra>",
         "legendgroup": "AScalia",
         "line": {
          "color": "#FFA15A",
          "dash": "solid"
         },
         "marker": {
          "symbol": "circle"
         },
         "mode": "lines",
         "name": "AScalia",
         "orientation": "v",
         "showlegend": true,
         "type": "scatter",
         "x": [
          1986,
          1987,
          1988,
          1989,
          1990,
          1991,
          1992,
          1993,
          1994,
          1995,
          1996,
          1997,
          1998,
          1999,
          2000,
          2001,
          2002,
          2003,
          2004,
          2005,
          2006,
          2007,
          2008,
          2009,
          2010,
          2011,
          2012,
          2013,
          2014,
          2015
         ],
         "xaxis": "x",
         "y": [
          1.381,
          1.638,
          1.808,
          1.985,
          2.139,
          2.499,
          2.533,
          2.638,
          2.879,
          3.168,
          3.394,
          3.475,
          3.466,
          3.537,
          3.537,
          3.375,
          3.077,
          2.906,
          2.711,
          2.622,
          2.582,
          2.428,
          2.311,
          2.287,
          2.115,
          2.04,
          1.723,
          1.584,
          1.505,
          1.585
         ],
         "yaxis": "y"
        },
        {
         "hovertemplate": "justiceName=BMKavanaugh<br>term=%{x}<br>post_med=%{y}<extra></extra>",
         "legendgroup": "BMKavanaugh",
         "line": {
          "color": "#19d3f3",
          "dash": "solid"
         },
         "marker": {
          "symbol": "circle"
         },
         "mode": "lines",
         "name": "BMKavanaugh",
         "orientation": "v",
         "showlegend": true,
         "type": "scatter",
         "x": [
          2018,
          2019,
          2020,
          2021
         ],
         "xaxis": "x",
         "y": [
          0.635,
          0.625,
          0.682,
          0.806
         ],
         "yaxis": "y"
        },
        {
         "hovertemplate": "justiceName=BNCardozo<br>term=%{x}<br>post_med=%{y}<extra></extra>",
         "legendgroup": "BNCardozo",
         "line": {
          "color": "#FF6692",
          "dash": "solid"
         },
         "marker": {
          "symbol": "circle"
         },
         "mode": "lines",
         "name": "BNCardozo",
         "orientation": "v",
         "showlegend": true,
         "type": "scatter",
         "x": [
          1937
         ],
         "xaxis": "x",
         "y": [
          -1.546
         ],
         "yaxis": "y"
        },
        {
         "hovertemplate": "justiceName=BRWhite<br>term=%{x}<br>post_med=%{y}<extra></extra>",
         "legendgroup": "BRWhite",
         "line": {
          "color": "#B6E880",
          "dash": "solid"
         },
         "marker": {
          "symbol": "circle"
         },
         "mode": "lines",
         "name": "BRWhite",
         "orientation": "v",
         "showlegend": true,
         "type": "scatter",
         "x": [
          1961,
          1962,
          1963,
          1964,
          1965,
          1966,
          1967,
          1968,
          1969,
          1970,
          1971,
          1972,
          1973,
          1974,
          1975,
          1976,
          1977,
          1978,
          1979,
          1980,
          1981,
          1982,
          1983,
          1984,
          1985,
          1986,
          1987,
          1988,
          1989,
          1990,
          1991,
          1992
         ],
         "xaxis": "x",
         "y": [
          -0.326,
          -0.301,
          -0.22,
          -0.247,
          -0.193,
          -0.017,
          0.246,
          0.087,
          0.131,
          0.451,
          0.639,
          0.968,
          0.56,
          0.601,
          0.493,
          0.342,
          0.006,
          -0.056,
          0.246,
          0.223,
          0.264,
          0.673,
          0.895,
          1.08,
          1.294,
          1.272,
          1.021,
          1.111,
          0.874,
          0.612,
          0.629,
          0.576
         ],
         "yaxis": "y"
        },
        {
         "hovertemplate": "justiceName=CEHughes2<br>term=%{x}<br>post_med=%{y}<extra></extra>",
         "legendgroup": "CEHughes2",
         "line": {
          "color": "#FF97FF",
          "dash": "solid"
         },
         "marker": {
          "symbol": "circle"
         },
         "mode": "lines",
         "name": "CEHughes2",
         "orientation": "v",
         "showlegend": true,
         "type": "scatter",
         "x": [
          1937,
          1938,
          1939,
          1940
         ],
         "xaxis": "x",
         "y": [
          -0.355,
          -0.177,
          0.344,
          0.93
         ],
         "yaxis": "y"
        },
        {
         "hovertemplate": "justiceName=CEWhittaker<br>term=%{x}<br>post_med=%{y}<extra></extra>",
         "legendgroup": "CEWhittaker",
         "line": {
          "color": "#FECB52",
          "dash": "solid"
         },
         "marker": {
          "symbol": "circle"
         },
         "mode": "lines",
         "name": "CEWhittaker",
         "orientation": "v",
         "showlegend": true,
         "type": "scatter",
         "x": [
          1956,
          1957,
          1958,
          1959,
          1960,
          1961
         ],
         "xaxis": "x",
         "y": [
          0.96,
          1.012,
          1.275,
          1.361,
          1.199,
          1.126
         ],
         "yaxis": "y"
        },
        {
         "hovertemplate": "justiceName=CThomas<br>term=%{x}<br>post_med=%{y}<extra></extra>",
         "legendgroup": "CThomas",
         "line": {
          "color": "#636efa",
          "dash": "solid"
         },
         "marker": {
          "symbol": "circle"
         },
         "mode": "lines",
         "name": "CThomas",
         "orientation": "v",
         "showlegend": true,
         "type": "scatter",
         "x": [
          1991,
          1992,
          1993,
          1994,
          1995,
          1996,
          1997,
          1998,
          1999,
          2000,
          2001,
          2002,
          2003,
          2004,
          2005,
          2006,
          2007,
          2008,
          2009,
          2010,
          2011,
          2012,
          2013,
          2014,
          2015,
          2016,
          2017,
          2018,
          2019,
          2020,
          2021
         ],
         "xaxis": "x",
         "y": [
          2.711,
          3.015,
          3.407,
          3.628,
          3.721,
          3.793,
          3.785,
          3.813,
          3.752,
          3.783,
          3.745,
          3.887,
          3.908,
          3.932,
          3.955,
          3.914,
          3.773,
          3.516,
          3.374,
          3.206,
          3.174,
          3.121,
          3.155,
          3.151,
          3.173,
          3.184,
          3.1,
          3.135,
          3.11,
          2.941,
          3.014
         ],
         "yaxis": "y"
        },
        {
         "hovertemplate": "justiceName=DHSouter<br>term=%{x}<br>post_med=%{y}<extra></extra>",
         "legendgroup": "DHSouter",
         "line": {
          "color": "#EF553B",
          "dash": "solid"
         },
         "marker": {
          "symbol": "circle"
         },
         "mode": "lines",
         "name": "DHSouter",
         "orientation": "v",
         "showlegend": true,
         "type": "scatter",
         "x": [
          1990,
          1991,
          1992,
          1993,
          1994,
          1995,
          1996,
          1997,
          1998,
          1999,
          2000,
          2001,
          2002,
          2003,
          2004,
          2005,
          2006,
          2007,
          2008
         ],
         "xaxis": "x",
         "y": [
          0.968,
          0.602,
          0.256,
          -0.238,
          -0.334,
          -0.377,
          -0.317,
          -0.415,
          -0.482,
          -0.936,
          -1.204,
          -1.396,
          -1.511,
          -1.656,
          -1.609,
          -1.52,
          -1.419,
          -1.484,
          -1.553
         ],
         "yaxis": "y"
        },
        {
         "hovertemplate": "justiceName=EKagan<br>term=%{x}<br>post_med=%{y}<extra></extra>",
         "legendgroup": "EKagan",
         "line": {
          "color": "#00cc96",
          "dash": "solid"
         },
         "marker": {
          "symbol": "circle"
         },
         "mode": "lines",
         "name": "EKagan",
         "orientation": "v",
         "showlegend": true,
         "type": "scatter",
         "x": [
          2010,
          2011,
          2012,
          2013,
          2014,
          2015,
          2016,
          2017,
          2018,
          2019,
          2020,
          2021
         ],
         "xaxis": "x",
         "y": [
          -1.43,
          -1.421,
          -1.662,
          -1.625,
          -1.667,
          -1.556,
          -1.606,
          -1.645,
          -1.645,
          -1.726,
          -1.758,
          -1.835
         ],
         "yaxis": "y"
        },
        {
         "hovertemplate": "justiceName=EWarren<br>term=%{x}<br>post_med=%{y}<extra></extra>",
         "legendgroup": "EWarren",
         "line": {
          "color": "#ab63fa",
          "dash": "solid"
         },
         "marker": {
          "symbol": "circle"
         },
         "mode": "lines",
         "name": "EWarren",
         "orientation": "v",
         "showlegend": true,
         "type": "scatter",
         "x": [
          1953,
          1954,
          1955,
          1956,
          1957,
          1958,
          1959,
          1960,
          1961,
          1962,
          1963,
          1964,
          1965,
          1966,
          1967,
          1968
         ],
         "xaxis": "x",
         "y": [
          0,
          -0.464,
          -1.081,
          -1.322,
          -1.604,
          -1.661,
          -1.567,
          -1.455,
          -1.573,
          -1.517,
          -1.465,
          -1.289,
          -1.287,
          -1.213,
          -1.28,
          -1.301
         ],
         "yaxis": "y"
        },
        {
         "hovertemplate": "justiceName=FFrankfurter<br>term=%{x}<br>post_med=%{y}<extra></extra>",
         "legendgroup": "FFrankfurter",
         "line": {
          "color": "#FFA15A",
          "dash": "solid"
         },
         "marker": {
          "symbol": "circle"
         },
         "mode": "lines",
         "name": "FFrankfurter",
         "orientation": "v",
         "showlegend": true,
         "type": "scatter",
         "x": [
          1938,
          1939,
          1940,
          1941,
          1942,
          1943,
          1944,
          1945,
          1946,
          1947,
          1948,
          1949,
          1950,
          1951,
          1952,
          1953,
          1954,
          1955,
          1956,
          1957,
          1958,
          1959,
          1960,
          1961
         ],
         "xaxis": "x",
         "y": [
          -1.353,
          -1.249,
          -0.722,
          0.101,
          0.465,
          0.612,
          0.511,
          0.654,
          1.037,
          0.945,
          0.633,
          0.345,
          0.187,
          0.022,
          0.007,
          0.35,
          0.324,
          0.587,
          0.915,
          1.182,
          1.482,
          1.766,
          1.778,
          1.778
         ],
         "yaxis": "y"
        },
        {
         "hovertemplate": "justiceName=FMurphy<br>term=%{x}<br>post_med=%{y}<extra></extra>",
         "legendgroup": "FMurphy",
         "line": {
          "color": "#19d3f3",
          "dash": "solid"
         },
         "marker": {
          "symbol": "circle"
         },
         "mode": "lines",
         "name": "FMurphy",
         "orientation": "v",
         "showlegend": true,
         "type": "scatter",
         "x": [
          1939,
          1940,
          1941,
          1942,
          1943,
          1944,
          1945,
          1946,
          1947,
          1948
         ],
         "xaxis": "x",
         "y": [
          -1.613,
          -1.565,
          -1.513,
          -1.658,
          -1.715,
          -1.427,
          -1.388,
          -1.765,
          -1.678,
          -1.502
         ],
         "yaxis": "y"
        },
        {
         "hovertemplate": "justiceName=FMVinson<br>term=%{x}<br>post_med=%{y}<extra></extra>",
         "legendgroup": "FMVinson",
         "line": {
          "color": "#FF6692",
          "dash": "solid"
         },
         "marker": {
          "symbol": "circle"
         },
         "mode": "lines",
         "name": "FMVinson",
         "orientation": "v",
         "showlegend": true,
         "type": "scatter",
         "x": [
          1946,
          1947,
          1948,
          1949,
          1950,
          1951,
          1952
         ],
         "xaxis": "x",
         "y": [
          0.413,
          0.535,
          0.87,
          1.115,
          1.28,
          1.531,
          1.465
         ],
         "yaxis": "y"
        },
        {
         "hovertemplate": "justiceName=GSutherland<br>term=%{x}<br>post_med=%{y}<extra></extra>",
         "legendgroup": "GSutherland",
         "line": {
          "color": "#B6E880",
          "dash": "solid"
         },
         "marker": {
          "symbol": "circle"
         },
         "mode": "lines",
         "name": "GSutherland",
         "orientation": "v",
         "showlegend": true,
         "type": "scatter",
         "x": [
          1937
         ],
         "xaxis": "x",
         "y": [
          1.564
         ],
         "yaxis": "y"
        },
        {
         "hovertemplate": "justiceName=HABlackmun<br>term=%{x}<br>post_med=%{y}<extra></extra>",
         "legendgroup": "HABlackmun",
         "line": {
          "color": "#FF97FF",
          "dash": "solid"
         },
         "marker": {
          "symbol": "circle"
         },
         "mode": "lines",
         "name": "HABlackmun",
         "orientation": "v",
         "showlegend": true,
         "type": "scatter",
         "x": [
          1969,
          1970,
          1971,
          1972,
          1973,
          1974,
          1975,
          1976,
          1977,
          1978,
          1979,
          1980,
          1981,
          1982,
          1983,
          1984,
          1985,
          1986,
          1987,
          1988,
          1989,
          1990,
          1991,
          1992,
          1993
         ],
         "xaxis": "x",
         "y": [
          1.448,
          1.552,
          1.621,
          1.437,
          1.292,
          1.031,
          0.847,
          0.674,
          0.318,
          0.144,
          -0.047,
          -0.073,
          -0.241,
          -0.3,
          0.032,
          -0.077,
          -0.688,
          -0.816,
          -0.877,
          -0.921,
          -0.852,
          -1.173,
          -1.428,
          -1.647,
          -1.927
         ],
         "yaxis": "y"
        },
        {
         "hovertemplate": "justiceName=HFStone<br>term=%{x}<br>post_med=%{y}<extra></extra>",
         "legendgroup": "HFStone",
         "line": {
          "color": "#FECB52",
          "dash": "solid"
         },
         "marker": {
          "symbol": "circle"
         },
         "mode": "lines",
         "name": "HFStone",
         "orientation": "v",
         "showlegend": true,
         "type": "scatter",
         "x": [
          1937,
          1938,
          1939,
          1940,
          1941,
          1942,
          1943,
          1944,
          1945
         ],
         "xaxis": "x",
         "y": [
          -0.758,
          -0.687,
          -0.614,
          -0.211,
          0.454,
          0.379,
          0.246,
          0.583,
          0.732
         ],
         "yaxis": "y"
        },
        {
         "hovertemplate": "justiceName=HHBurton<br>term=%{x}<br>post_med=%{y}<extra></extra>",
         "legendgroup": "HHBurton",
         "line": {
          "color": "#636efa",
          "dash": "solid"
         },
         "marker": {
          "symbol": "circle"
         },
         "mode": "lines",
         "name": "HHBurton",
         "orientation": "v",
         "showlegend": true,
         "type": "scatter",
         "x": [
          1945,
          1946,
          1947,
          1948,
          1949,
          1950,
          1951,
          1952,
          1953,
          1954,
          1955,
          1956,
          1957,
          1958
         ],
         "xaxis": "x",
         "y": [
          0.516,
          0.533,
          0.829,
          0.939,
          0.956,
          0.983,
          0.94,
          1.27,
          1.331,
          1.272,
          1.258,
          1.152,
          1.017,
          1.077
         ],
         "yaxis": "y"
        },
        {
         "hovertemplate": "justiceName=HLBlack<br>term=%{x}<br>post_med=%{y}<extra></extra>",
         "legendgroup": "HLBlack",
         "line": {
          "color": "#EF553B",
          "dash": "solid"
         },
         "marker": {
          "symbol": "circle"
         },
         "mode": "lines",
         "name": "HLBlack",
         "orientation": "v",
         "showlegend": true,
         "type": "scatter",
         "x": [
          1937,
          1938,
          1939,
          1940,
          1941,
          1942,
          1943,
          1944,
          1945,
          1946,
          1947,
          1948,
          1949,
          1950,
          1951,
          1952,
          1953,
          1954,
          1955,
          1956,
          1957,
          1958,
          1959,
          1960,
          1961,
          1962,
          1963,
          1964,
          1965,
          1966,
          1967,
          1968,
          1969,
          1970
         ],
         "xaxis": "x",
         "y": [
          -2.905,
          -3.219,
          -3.301,
          -3.329,
          -3.253,
          -3.032,
          -2.711,
          -2.541,
          -2.148,
          -1.944,
          -1.783,
          -1.571,
          -1.505,
          -1.485,
          -1.351,
          -1.091,
          -1.477,
          -1.616,
          -1.96,
          -2.174,
          -2.25,
          -2.089,
          -2.057,
          -1.936,
          -1.873,
          -1.762,
          -1.484,
          -0.926,
          -0.553,
          -0.413,
          -0.097,
          0.103,
          0.082,
          -0.007
         ],
         "yaxis": "y"
        },
        {
         "hovertemplate": "justiceName=JCMcReynolds<br>term=%{x}<br>post_med=%{y}<extra></extra>",
         "legendgroup": "JCMcReynolds",
         "line": {
          "color": "#00cc96",
          "dash": "solid"
         },
         "marker": {
          "symbol": "circle"
         },
         "mode": "lines",
         "name": "JCMcReynolds",
         "orientation": "v",
         "showlegend": true,
         "type": "scatter",
         "x": [
          1937,
          1938,
          1939,
          1940
         ],
         "xaxis": "x",
         "y": [
          3.414,
          3.545,
          3.516,
          3.327
         ],
         "yaxis": "y"
        },
        {
         "hovertemplate": "justiceName=JFByrnes<br>term=%{x}<br>post_med=%{y}<extra></extra>",
         "legendgroup": "JFByrnes",
         "line": {
          "color": "#ab63fa",
          "dash": "solid"
         },
         "marker": {
          "symbol": "circle"
         },
         "mode": "lines",
         "name": "JFByrnes",
         "orientation": "v",
         "showlegend": true,
         "type": "scatter",
         "x": [
          1941
         ],
         "xaxis": "x",
         "y": [
          -0.191
         ],
         "yaxis": "y"
        },
        {
         "hovertemplate": "justiceName=JGRoberts<br>term=%{x}<br>post_med=%{y}<extra></extra>",
         "legendgroup": "JGRoberts",
         "line": {
          "color": "#FFA15A",
          "dash": "solid"
         },
         "marker": {
          "symbol": "circle"
         },
         "mode": "lines",
         "name": "JGRoberts",
         "orientation": "v",
         "showlegend": true,
         "type": "scatter",
         "x": [
          2005,
          2006,
          2007,
          2008,
          2009,
          2010,
          2011,
          2012,
          2013,
          2014,
          2015,
          2016,
          2017,
          2018,
          2019,
          2020,
          2021
         ],
         "xaxis": "x",
         "y": [
          1.387,
          1.421,
          1.408,
          1.494,
          1.379,
          1.383,
          1.192,
          1.101,
          0.797,
          0.593,
          0.332,
          0.352,
          0.415,
          0.45,
          0.384,
          0.609,
          0.7
         ],
         "yaxis": "y"
        },
        {
         "hovertemplate": "justiceName=JHarlan2<br>term=%{x}<br>post_med=%{y}<extra></extra>",
         "legendgroup": "JHarlan2",
         "line": {
          "color": "#19d3f3",
          "dash": "solid"
         },
         "marker": {
          "symbol": "circle"
         },
         "mode": "lines",
         "name": "JHarlan2",
         "orientation": "v",
         "showlegend": true,
         "type": "scatter",
         "x": [
          1954,
          1955,
          1956,
          1957,
          1958,
          1959,
          1960,
          1961,
          1962,
          1963,
          1964,
          1965,
          1966,
          1967,
          1968,
          1969,
          1970
         ],
         "xaxis": "x",
         "y": [
          0.845,
          1.051,
          1.227,
          1.324,
          1.488,
          1.63,
          1.884,
          2.267,
          2.547,
          2.645,
          2.439,
          2.348,
          2.046,
          1.467,
          0.758,
          0.688,
          0.77
         ],
         "yaxis": "y"
        },
        {
         "hovertemplate": "justiceName=JPStevens<br>term=%{x}<br>post_med=%{y}<extra></extra>",
         "legendgroup": "JPStevens",
         "line": {
          "color": "#FF6692",
          "dash": "solid"
         },
         "marker": {
          "symbol": "circle"
         },
         "mode": "lines",
         "name": "JPStevens",
         "orientation": "v",
         "showlegend": true,
         "type": "scatter",
         "x": [
          1975,
          1976,
          1977,
          1978,
          1979,
          1980,
          1981,
          1982,
          1983,
          1984,
          1985,
          1986,
          1987,
          1988,
          1989,
          1990,
          1991,
          1992,
          1993,
          1994,
          1995,
          1996,
          1997,
          1998,
          1999,
          2000,
          2001,
          2002,
          2003,
          2004,
          2005,
          2006,
          2007,
          2008,
          2009
         ],
         "xaxis": "x",
         "y": [
          0.08,
          -0.177,
          -0.082,
          -0.301,
          -0.238,
          -0.221,
          -0.22,
          -0.531,
          -0.5,
          -0.46,
          -0.453,
          -0.589,
          -0.482,
          -0.579,
          -0.992,
          -1.718,
          -2.153,
          -2.359,
          -2.571,
          -2.992,
          -3.254,
          -3.375,
          -3.349,
          -3.357,
          -3.303,
          -3.136,
          -3.027,
          -2.904,
          -2.889,
          -2.883,
          -2.825,
          -2.786,
          -2.671,
          -2.827,
          -2.841
         ],
         "yaxis": "y"
        },
        {
         "hovertemplate": "justiceName=LDBrandeis<br>term=%{x}<br>post_med=%{y}<extra></extra>",
         "legendgroup": "LDBrandeis",
         "line": {
          "color": "#B6E880",
          "dash": "solid"
         },
         "marker": {
          "symbol": "circle"
         },
         "mode": "lines",
         "name": "LDBrandeis",
         "orientation": "v",
         "showlegend": true,
         "type": "scatter",
         "x": [
          1937,
          1938
         ],
         "xaxis": "x",
         "y": [
          -0.6,
          -0.6
         ],
         "yaxis": "y"
        },
        {
         "hovertemplate": "justiceName=LFPowell<br>term=%{x}<br>post_med=%{y}<extra></extra>",
         "legendgroup": "LFPowell",
         "line": {
          "color": "#FF97FF",
          "dash": "solid"
         },
         "marker": {
          "symbol": "circle"
         },
         "mode": "lines",
         "name": "LFPowell",
         "orientation": "v",
         "showlegend": true,
         "type": "scatter",
         "x": [
          1971,
          1972,
          1973,
          1974,
          1975,
          1976,
          1977,
          1978,
          1979,
          1980,
          1981,
          1982,
          1983,
          1984,
          1985,
          1986
         ],
         "xaxis": "x",
         "y": [
          1.39,
          1.163,
          1.155,
          1.094,
          0.92,
          0.679,
          0.453,
          0.824,
          0.823,
          0.872,
          1.038,
          1.252,
          1.123,
          0.851,
          0.941,
          0.881
         ],
         "yaxis": "y"
        },
        {
         "hovertemplate": "justiceName=NMGorsuch<br>term=%{x}<br>post_med=%{y}<extra></extra>",
         "legendgroup": "NMGorsuch",
         "line": {
          "color": "#FECB52",
          "dash": "solid"
         },
         "marker": {
          "symbol": "circle"
         },
         "mode": "lines",
         "name": "NMGorsuch",
         "orientation": "v",
         "showlegend": true,
         "type": "scatter",
         "x": [
          2016,
          2017,
          2018,
          2019,
          2020,
          2021
         ],
         "xaxis": "x",
         "y": [
          1.135,
          1.064,
          0.991,
          0.947,
          1.113,
          1.038
         ],
         "yaxis": "y"
        },
        {
         "hovertemplate": "justiceName=OJRoberts<br>term=%{x}<br>post_med=%{y}<extra></extra>",
         "legendgroup": "OJRoberts",
         "line": {
          "color": "#636efa",
          "dash": "solid"
         },
         "marker": {
          "symbol": "circle"
         },
         "mode": "lines",
         "name": "OJRoberts",
         "orientation": "v",
         "showlegend": true,
         "type": "scatter",
         "x": [
          1937,
          1938,
          1939,
          1940,
          1941,
          1942,
          1943,
          1944
         ],
         "xaxis": "x",
         "y": [
          0.013,
          0.35,
          1.008,
          1.644,
          1.848,
          2.087,
          2.41,
          2.741
         ],
         "yaxis": "y"
        },
        {
         "hovertemplate": "justiceName=PButler<br>term=%{x}<br>post_med=%{y}<extra></extra>",
         "legendgroup": "PButler",
         "line": {
          "color": "#EF553B",
          "dash": "solid"
         },
         "marker": {
          "symbol": "circle"
         },
         "mode": "lines",
         "name": "PButler",
         "orientation": "v",
         "showlegend": true,
         "type": "scatter",
         "x": [
          1937,
          1938
         ],
         "xaxis": "x",
         "y": [
          2.042,
          2.344
         ],
         "yaxis": "y"
        },
        {
         "hovertemplate": "justiceName=PStewart<br>term=%{x}<br>post_med=%{y}<extra></extra>",
         "legendgroup": "PStewart",
         "line": {
          "color": "#00cc96",
          "dash": "solid"
         },
         "marker": {
          "symbol": "circle"
         },
         "mode": "lines",
         "name": "PStewart",
         "orientation": "v",
         "showlegend": true,
         "type": "scatter",
         "x": [
          1958,
          1959,
          1960,
          1961,
          1962,
          1963,
          1964,
          1965,
          1966,
          1967,
          1968,
          1969,
          1970,
          1971,
          1972,
          1973,
          1974,
          1975,
          1976,
          1977,
          1978,
          1979,
          1980
         ],
         "xaxis": "x",
         "y": [
          0.827,
          0.574,
          0.45,
          0.263,
          0.263,
          0.161,
          0.363,
          0.497,
          0.589,
          -0.099,
          0.342,
          0.455,
          0.48,
          0.088,
          0.135,
          0.488,
          0.352,
          0.489,
          0.469,
          0.312,
          0.507,
          0.484,
          0.728
         ],
         "yaxis": "y"
        },
        {
         "hovertemplate": "justiceName=RBGinsburg<br>term=%{x}<br>post_med=%{y}<extra></extra>",
         "legendgroup": "RBGinsburg",
         "line": {
          "color": "#ab63fa",
          "dash": "solid"
         },
         "marker": {
          "symbol": "circle"
         },
         "mode": "lines",
         "name": "RBGinsburg",
         "orientation": "v",
         "showlegend": true,
         "type": "scatter",
         "x": [
          1993,
          1994,
          1995,
          1996,
          1997,
          1998,
          1999,
          2000,
          2001,
          2002,
          2003,
          2004,
          2005,
          2006,
          2007,
          2008,
          2009,
          2010,
          2011,
          2012,
          2013,
          2014,
          2015,
          2016,
          2017,
          2018,
          2019
         ],
         "xaxis": "x",
         "y": [
          -0.211,
          -0.443,
          -0.529,
          -0.596,
          -0.73,
          -0.793,
          -1.244,
          -1.487,
          -1.604,
          -1.672,
          -1.751,
          -1.677,
          -1.557,
          -1.677,
          -1.675,
          -1.724,
          -1.678,
          -2.083,
          -2.37,
          -2.464,
          -2.453,
          -2.552,
          -2.662,
          -2.771,
          -2.819,
          -2.861,
          -2.858
         ],
         "yaxis": "y"
        },
        {
         "hovertemplate": "justiceName=RHJackson<br>term=%{x}<br>post_med=%{y}<extra></extra>",
         "legendgroup": "RHJackson",
         "line": {
          "color": "#FFA15A",
          "dash": "solid"
         },
         "marker": {
          "symbol": "circle"
         },
         "mode": "lines",
         "name": "RHJackson",
         "orientation": "v",
         "showlegend": true,
         "type": "scatter",
         "x": [
          1941,
          1942,
          1943,
          1944,
          1945,
          1946,
          1947,
          1948,
          1949,
          1950,
          1951,
          1952,
          1953
         ],
         "xaxis": "x",
         "y": [
          0.2,
          0.24,
          0.135,
          0.203,
          0.628,
          1.056,
          1.199,
          1.277,
          0.831,
          0.779,
          0.71,
          0.891,
          0.843
         ],
         "yaxis": "y"
        },
        {
         "hovertemplate": "justiceName=SAAlito<br>term=%{x}<br>post_med=%{y}<extra></extra>",
         "legendgroup": "SAAlito",
         "line": {
          "color": "#19d3f3",
          "dash": "solid"
         },
         "marker": {
          "symbol": "circle"
         },
         "mode": "lines",
         "name": "SAAlito",
         "orientation": "v",
         "showlegend": true,
         "type": "scatter",
         "x": [
          2005,
          2006,
          2007,
          2008,
          2009,
          2010,
          2011,
          2012,
          2013,
          2014,
          2015,
          2016,
          2017,
          2018,
          2019,
          2020,
          2021
         ],
         "xaxis": "x",
         "y": [
          1.413,
          1.444,
          1.538,
          1.809,
          1.838,
          1.977,
          1.99,
          1.976,
          1.929,
          1.754,
          1.665,
          1.879,
          2.098,
          2.076,
          2.328,
          2.436,
          2.454
         ],
         "yaxis": "y"
        },
        {
         "hovertemplate": "justiceName=SDOConnor<br>term=%{x}<br>post_med=%{y}<extra></extra>",
         "legendgroup": "SDOConnor",
         "line": {
          "color": "#FF6692",
          "dash": "solid"
         },
         "marker": {
          "symbol": "circle"
         },
         "mode": "lines",
         "name": "SDOConnor",
         "orientation": "v",
         "showlegend": true,
         "type": "scatter",
         "x": [
          1981,
          1982,
          1983,
          1984,
          1985,
          1986,
          1987,
          1988,
          1989,
          1990,
          1991,
          1992,
          1993,
          1994,
          1995,
          1996,
          1997,
          1998,
          1999,
          2000,
          2001,
          2002,
          2003,
          2004,
          2005
         ],
         "xaxis": "x",
         "y": [
          1.658,
          1.812,
          1.77,
          1.576,
          1.372,
          1.451,
          1.61,
          1.535,
          1.533,
          1.143,
          0.699,
          0.85,
          1.012,
          0.833,
          0.863,
          0.983,
          1.092,
          0.995,
          0.886,
          0.598,
          0.37,
          0.259,
          0.223,
          0.116,
          0.069
         ],
         "yaxis": "y"
        },
        {
         "hovertemplate": "justiceName=SFReed<br>term=%{x}<br>post_med=%{y}<extra></extra>",
         "legendgroup": "SFReed",
         "line": {
          "color": "#B6E880",
          "dash": "solid"
         },
         "marker": {
          "symbol": "circle"
         },
         "mode": "lines",
         "name": "SFReed",
         "orientation": "v",
         "showlegend": true,
         "type": "scatter",
         "x": [
          1937,
          1938,
          1939,
          1940,
          1941,
          1942,
          1943,
          1944,
          1945,
          1946,
          1947,
          1948,
          1949,
          1950,
          1951,
          1952,
          1953,
          1954,
          1955,
          1956
         ],
         "xaxis": "x",
         "y": [
          -1.024,
          -1.111,
          -1.047,
          -0.727,
          -0.269,
          0.154,
          0.154,
          -0.076,
          0.08,
          0.297,
          0.537,
          0.696,
          1.095,
          1.212,
          1.297,
          1.373,
          1.513,
          1.493,
          1.049,
          0.786
         ],
         "yaxis": "y"
        },
        {
         "hovertemplate": "justiceName=SGBreyer<br>term=%{x}<br>post_med=%{y}<extra></extra>",
         "legendgroup": "SGBreyer",
         "line": {
          "color": "#FF97FF",
          "dash": "solid"
         },
         "marker": {
          "symbol": "circle"
         },
         "mode": "lines",
         "name": "SGBreyer",
         "orientation": "v",
         "showlegend": true,
         "type": "scatter",
         "x": [
          1994,
          1995,
          1996,
          1997,
          1998,
          1999,
          2000,
          2001,
          2002,
          2003,
          2004,
          2005,
          2006,
          2007,
          2008,
          2009,
          2010,
          2011,
          2012,
          2013,
          2014,
          2015,
          2016,
          2017,
          2018,
          2019,
          2020,
          2021
         ],
         "xaxis": "x",
         "y": [
          -0.324,
          -0.502,
          -0.746,
          -0.775,
          -0.742,
          -0.771,
          -1.231,
          -1.305,
          -1.308,
          -1.227,
          -1.06,
          -1.227,
          -1.353,
          -1.276,
          -1.178,
          -1.326,
          -1.399,
          -1.399,
          -1.39,
          -1.471,
          -1.57,
          -1.487,
          -1.57,
          -1.785,
          -1.875,
          -1.97,
          -2.064,
          -2.038
         ],
         "yaxis": "y"
        },
        {
         "hovertemplate": "justiceName=SMinton<br>term=%{x}<br>post_med=%{y}<extra></extra>",
         "legendgroup": "SMinton",
         "line": {
          "color": "#FECB52",
          "dash": "solid"
         },
         "marker": {
          "symbol": "circle"
         },
         "mode": "lines",
         "name": "SMinton",
         "orientation": "v",
         "showlegend": true,
         "type": "scatter",
         "x": [
          1949,
          1950,
          1951,
          1952,
          1953,
          1954,
          1955,
          1956
         ],
         "xaxis": "x",
         "y": [
          1.212,
          1.36,
          1.46,
          1.273,
          0.887,
          0.892,
          0.871,
          0.832
         ],
         "yaxis": "y"
        },
        {
         "hovertemplate": "justiceName=SSotomayor<br>term=%{x}<br>post_med=%{y}<extra></extra>",
         "legendgroup": "SSotomayor",
         "line": {
          "color": "#636efa",
          "dash": "solid"
         },
         "marker": {
          "symbol": "circle"
         },
         "mode": "lines",
         "name": "SSotomayor",
         "orientation": "v",
         "showlegend": true,
         "type": "scatter",
         "x": [
          2009,
          2010,
          2011,
          2012,
          2013,
          2014,
          2015,
          2016,
          2017,
          2018,
          2019,
          2020,
          2021
         ],
         "xaxis": "x",
         "y": [
          -1.613,
          -1.695,
          -1.876,
          -2.348,
          -2.673,
          -2.984,
          -3.238,
          -3.449,
          -3.68,
          -3.81,
          -3.915,
          -4.044,
          -4.116
         ],
         "yaxis": "y"
        },
        {
         "hovertemplate": "justiceName=TCClark<br>term=%{x}<br>post_med=%{y}<extra></extra>",
         "legendgroup": "TCClark",
         "line": {
          "color": "#EF553B",
          "dash": "solid"
         },
         "marker": {
          "symbol": "circle"
         },
         "mode": "lines",
         "name": "TCClark",
         "orientation": "v",
         "showlegend": true,
         "type": "scatter",
         "x": [
          1949,
          1950,
          1951,
          1952,
          1953,
          1954,
          1955,
          1956,
          1957,
          1958,
          1959,
          1960,
          1961,
          1962,
          1963,
          1964,
          1965,
          1966
         ],
         "xaxis": "x",
         "y": [
          1.059,
          1.107,
          1.195,
          1.161,
          0.603,
          0.149,
          0.026,
          0.162,
          0.582,
          0.529,
          0.347,
          0.758,
          0.46,
          0.333,
          0.042,
          -0.21,
          -0.097,
          0.109
         ],
         "yaxis": "y"
        },
        {
         "hovertemplate": "justiceName=TMarshall<br>term=%{x}<br>post_med=%{y}<extra></extra>",
         "legendgroup": "TMarshall",
         "line": {
          "color": "#00cc96",
          "dash": "solid"
         },
         "marker": {
          "symbol": "circle"
         },
         "mode": "lines",
         "name": "TMarshall",
         "orientation": "v",
         "showlegend": true,
         "type": "scatter",
         "x": [
          1967,
          1968,
          1969,
          1970,
          1971,
          1972,
          1973,
          1974,
          1975,
          1976,
          1977,
          1978,
          1979,
          1980,
          1981,
          1982,
          1983,
          1984,
          1985,
          1986,
          1987,
          1988,
          1989,
          1990
         ],
         "xaxis": "x",
         "y": [
          -1.153,
          -1.09,
          -0.946,
          -0.961,
          -1.074,
          -1.361,
          -1.466,
          -1.484,
          -2.038,
          -2.374,
          -2.696,
          -3.044,
          -3.318,
          -3.472,
          -3.6,
          -3.774,
          -3.86,
          -3.942,
          -4.06,
          -4.264,
          -4.403,
          -4.46,
          -4.431,
          -4.301
         ],
         "yaxis": "y"
        },
        {
         "hovertemplate": "justiceName=WBRutledge<br>term=%{x}<br>post_med=%{y}<extra></extra>",
         "legendgroup": "WBRutledge",
         "line": {
          "color": "#ab63fa",
          "dash": "solid"
         },
         "marker": {
          "symbol": "circle"
         },
         "mode": "lines",
         "name": "WBRutledge",
         "orientation": "v",
         "showlegend": true,
         "type": "scatter",
         "x": [
          1942,
          1943,
          1944,
          1945,
          1946,
          1947,
          1948
         ],
         "xaxis": "x",
         "y": [
          -1.132,
          -1.155,
          -1.375,
          -1.193,
          -1.435,
          -1.75,
          -1.828
         ],
         "yaxis": "y"
        },
        {
         "hovertemplate": "justiceName=WEBurger<br>term=%{x}<br>post_med=%{y}<extra></extra>",
         "legendgroup": "WEBurger",
         "line": {
          "color": "#FFA15A",
          "dash": "solid"
         },
         "marker": {
          "symbol": "circle"
         },
         "mode": "lines",
         "name": "WEBurger",
         "orientation": "v",
         "showlegend": true,
         "type": "scatter",
         "x": [
          1969,
          1970,
          1971,
          1972,
          1973,
          1974,
          1975,
          1976,
          1977,
          1978,
          1979,
          1980,
          1981,
          1982,
          1983,
          1984,
          1985
         ],
         "xaxis": "x",
         "y": [
          1.976,
          2.173,
          2.404,
          2.192,
          2.204,
          2.11,
          1.97,
          1.923,
          1.519,
          1.4,
          1.241,
          1.508,
          1.692,
          1.582,
          1.812,
          2.113,
          2.221
         ],
         "yaxis": "y"
        },
        {
         "hovertemplate": "justiceName=WHRehnquist<br>term=%{x}<br>post_med=%{y}<extra></extra>",
         "legendgroup": "WHRehnquist",
         "line": {
          "color": "#19d3f3",
          "dash": "solid"
         },
         "marker": {
          "symbol": "circle"
         },
         "mode": "lines",
         "name": "WHRehnquist",
         "orientation": "v",
         "showlegend": true,
         "type": "scatter",
         "x": [
          1971,
          1972,
          1973,
          1974,
          1975,
          1976,
          1977,
          1978,
          1979,
          1980,
          1981,
          1982,
          1983,
          1984,
          1985,
          1986,
          1987,
          1988,
          1989,
          1990,
          1991,
          1992,
          1993,
          1994,
          1995,
          1996,
          1997,
          1998,
          1999,
          2000,
          2001,
          2002,
          2003,
          2004
         ],
         "xaxis": "x",
         "y": [
          3.58,
          3.985,
          4.258,
          4.355,
          4.465,
          4.438,
          4.438,
          4.469,
          4.502,
          4.354,
          4.211,
          4.139,
          4.043,
          3.817,
          3.605,
          3.34,
          2.891,
          2.765,
          2.612,
          2.391,
          2.113,
          2.058,
          1.868,
          1.869,
          1.834,
          1.69,
          1.663,
          1.873,
          1.738,
          1.67,
          1.423,
          1.257,
          1.388,
          1.452
         ],
         "yaxis": "y"
        },
        {
         "hovertemplate": "justiceName=WJBrennan<br>term=%{x}<br>post_med=%{y}<extra></extra>",
         "legendgroup": "WJBrennan",
         "line": {
          "color": "#FF6692",
          "dash": "solid"
         },
         "marker": {
          "symbol": "circle"
         },
         "mode": "lines",
         "name": "WJBrennan",
         "orientation": "v",
         "showlegend": true,
         "type": "scatter",
         "x": [
          1956,
          1957,
          1958,
          1959,
          1960,
          1961,
          1962,
          1963,
          1964,
          1965,
          1966,
          1967,
          1968,
          1969,
          1970,
          1971,
          1972,
          1973,
          1974,
          1975,
          1976,
          1977,
          1978,
          1979,
          1980,
          1981,
          1982,
          1983,
          1984,
          1985,
          1986,
          1987,
          1988,
          1989
         ],
         "xaxis": "x",
         "y": [
          -0.692,
          -0.808,
          -0.844,
          -0.925,
          -0.878,
          -0.846,
          -1.236,
          -1.217,
          -1.033,
          -1.128,
          -1.145,
          -1.243,
          -1.072,
          -0.933,
          -1.049,
          -1.179,
          -1.411,
          -1.724,
          -1.923,
          -2.422,
          -2.651,
          -2.658,
          -2.568,
          -2.468,
          -2.334,
          -2.327,
          -2.11,
          -2.431,
          -2.562,
          -2.524,
          -2.778,
          -2.904,
          -3.057,
          -3.152
         ],
         "yaxis": "y"
        },
        {
         "hovertemplate": "justiceName=WODouglas<br>term=%{x}<br>post_med=%{y}<extra></extra>",
         "legendgroup": "WODouglas",
         "line": {
          "color": "#B6E880",
          "dash": "solid"
         },
         "marker": {
          "symbol": "circle"
         },
         "mode": "lines",
         "name": "WODouglas",
         "orientation": "v",
         "showlegend": true,
         "type": "scatter",
         "x": [
          1938,
          1939,
          1940,
          1941,
          1942,
          1943,
          1944,
          1945,
          1946,
          1947,
          1948,
          1949,
          1950,
          1951,
          1952,
          1953,
          1954,
          1955,
          1956,
          1957,
          1958,
          1959,
          1960,
          1961,
          1962,
          1963,
          1964,
          1965,
          1966,
          1967,
          1968,
          1969,
          1970,
          1971,
          1972,
          1973,
          1974,
          1975
         ],
         "xaxis": "x",
         "y": [
          -2.802,
          -3.011,
          -3.14,
          -3.093,
          -2.818,
          -2.47,
          -1.989,
          -1.729,
          -1.408,
          -1.492,
          -1.654,
          -1.463,
          -1.259,
          -1.48,
          -2.144,
          -2.883,
          -3.581,
          -4.154,
          -4.652,
          -5.068,
          -5.44,
          -5.744,
          -6.008,
          -6.251,
          -6.473,
          -6.682,
          -6.91,
          -7.121,
          -7.288,
          -7.44,
          -7.557,
          -7.623,
          -7.692,
          -7.761,
          -7.769,
          -7.818,
          -7.874,
          -7.881
         ],
         "yaxis": "y"
        }
       ],
       "layout": {
        "legend": {
         "title": {
          "text": "justiceName"
         },
         "tracegroupgap": 0
        },
        "template": {
         "data": {
          "bar": [
           {
            "error_x": {
             "color": "#2a3f5f"
            },
            "error_y": {
             "color": "#2a3f5f"
            },
            "marker": {
             "line": {
              "color": "#E5ECF6",
              "width": 0.5
             },
             "pattern": {
              "fillmode": "overlay",
              "size": 10,
              "solidity": 0.2
             }
            },
            "type": "bar"
           }
          ],
          "barpolar": [
           {
            "marker": {
             "line": {
              "color": "#E5ECF6",
              "width": 0.5
             },
             "pattern": {
              "fillmode": "overlay",
              "size": 10,
              "solidity": 0.2
             }
            },
            "type": "barpolar"
           }
          ],
          "carpet": [
           {
            "aaxis": {
             "endlinecolor": "#2a3f5f",
             "gridcolor": "white",
             "linecolor": "white",
             "minorgridcolor": "white",
             "startlinecolor": "#2a3f5f"
            },
            "baxis": {
             "endlinecolor": "#2a3f5f",
             "gridcolor": "white",
             "linecolor": "white",
             "minorgridcolor": "white",
             "startlinecolor": "#2a3f5f"
            },
            "type": "carpet"
           }
          ],
          "choropleth": [
           {
            "colorbar": {
             "outlinewidth": 0,
             "ticks": ""
            },
            "type": "choropleth"
           }
          ],
          "contour": [
           {
            "colorbar": {
             "outlinewidth": 0,
             "ticks": ""
            },
            "colorscale": [
             [
              0,
              "#0d0887"
             ],
             [
              0.1111111111111111,
              "#46039f"
             ],
             [
              0.2222222222222222,
              "#7201a8"
             ],
             [
              0.3333333333333333,
              "#9c179e"
             ],
             [
              0.4444444444444444,
              "#bd3786"
             ],
             [
              0.5555555555555556,
              "#d8576b"
             ],
             [
              0.6666666666666666,
              "#ed7953"
             ],
             [
              0.7777777777777778,
              "#fb9f3a"
             ],
             [
              0.8888888888888888,
              "#fdca26"
             ],
             [
              1,
              "#f0f921"
             ]
            ],
            "type": "contour"
           }
          ],
          "contourcarpet": [
           {
            "colorbar": {
             "outlinewidth": 0,
             "ticks": ""
            },
            "type": "contourcarpet"
           }
          ],
          "heatmap": [
           {
            "colorbar": {
             "outlinewidth": 0,
             "ticks": ""
            },
            "colorscale": [
             [
              0,
              "#0d0887"
             ],
             [
              0.1111111111111111,
              "#46039f"
             ],
             [
              0.2222222222222222,
              "#7201a8"
             ],
             [
              0.3333333333333333,
              "#9c179e"
             ],
             [
              0.4444444444444444,
              "#bd3786"
             ],
             [
              0.5555555555555556,
              "#d8576b"
             ],
             [
              0.6666666666666666,
              "#ed7953"
             ],
             [
              0.7777777777777778,
              "#fb9f3a"
             ],
             [
              0.8888888888888888,
              "#fdca26"
             ],
             [
              1,
              "#f0f921"
             ]
            ],
            "type": "heatmap"
           }
          ],
          "heatmapgl": [
           {
            "colorbar": {
             "outlinewidth": 0,
             "ticks": ""
            },
            "colorscale": [
             [
              0,
              "#0d0887"
             ],
             [
              0.1111111111111111,
              "#46039f"
             ],
             [
              0.2222222222222222,
              "#7201a8"
             ],
             [
              0.3333333333333333,
              "#9c179e"
             ],
             [
              0.4444444444444444,
              "#bd3786"
             ],
             [
              0.5555555555555556,
              "#d8576b"
             ],
             [
              0.6666666666666666,
              "#ed7953"
             ],
             [
              0.7777777777777778,
              "#fb9f3a"
             ],
             [
              0.8888888888888888,
              "#fdca26"
             ],
             [
              1,
              "#f0f921"
             ]
            ],
            "type": "heatmapgl"
           }
          ],
          "histogram": [
           {
            "marker": {
             "pattern": {
              "fillmode": "overlay",
              "size": 10,
              "solidity": 0.2
             }
            },
            "type": "histogram"
           }
          ],
          "histogram2d": [
           {
            "colorbar": {
             "outlinewidth": 0,
             "ticks": ""
            },
            "colorscale": [
             [
              0,
              "#0d0887"
             ],
             [
              0.1111111111111111,
              "#46039f"
             ],
             [
              0.2222222222222222,
              "#7201a8"
             ],
             [
              0.3333333333333333,
              "#9c179e"
             ],
             [
              0.4444444444444444,
              "#bd3786"
             ],
             [
              0.5555555555555556,
              "#d8576b"
             ],
             [
              0.6666666666666666,
              "#ed7953"
             ],
             [
              0.7777777777777778,
              "#fb9f3a"
             ],
             [
              0.8888888888888888,
              "#fdca26"
             ],
             [
              1,
              "#f0f921"
             ]
            ],
            "type": "histogram2d"
           }
          ],
          "histogram2dcontour": [
           {
            "colorbar": {
             "outlinewidth": 0,
             "ticks": ""
            },
            "colorscale": [
             [
              0,
              "#0d0887"
             ],
             [
              0.1111111111111111,
              "#46039f"
             ],
             [
              0.2222222222222222,
              "#7201a8"
             ],
             [
              0.3333333333333333,
              "#9c179e"
             ],
             [
              0.4444444444444444,
              "#bd3786"
             ],
             [
              0.5555555555555556,
              "#d8576b"
             ],
             [
              0.6666666666666666,
              "#ed7953"
             ],
             [
              0.7777777777777778,
              "#fb9f3a"
             ],
             [
              0.8888888888888888,
              "#fdca26"
             ],
             [
              1,
              "#f0f921"
             ]
            ],
            "type": "histogram2dcontour"
           }
          ],
          "mesh3d": [
           {
            "colorbar": {
             "outlinewidth": 0,
             "ticks": ""
            },
            "type": "mesh3d"
           }
          ],
          "parcoords": [
           {
            "line": {
             "colorbar": {
              "outlinewidth": 0,
              "ticks": ""
             }
            },
            "type": "parcoords"
           }
          ],
          "pie": [
           {
            "automargin": true,
            "type": "pie"
           }
          ],
          "scatter": [
           {
            "fillpattern": {
             "fillmode": "overlay",
             "size": 10,
             "solidity": 0.2
            },
            "type": "scatter"
           }
          ],
          "scatter3d": [
           {
            "line": {
             "colorbar": {
              "outlinewidth": 0,
              "ticks": ""
             }
            },
            "marker": {
             "colorbar": {
              "outlinewidth": 0,
              "ticks": ""
             }
            },
            "type": "scatter3d"
           }
          ],
          "scattercarpet": [
           {
            "marker": {
             "colorbar": {
              "outlinewidth": 0,
              "ticks": ""
             }
            },
            "type": "scattercarpet"
           }
          ],
          "scattergeo": [
           {
            "marker": {
             "colorbar": {
              "outlinewidth": 0,
              "ticks": ""
             }
            },
            "type": "scattergeo"
           }
          ],
          "scattergl": [
           {
            "marker": {
             "colorbar": {
              "outlinewidth": 0,
              "ticks": ""
             }
            },
            "type": "scattergl"
           }
          ],
          "scattermapbox": [
           {
            "marker": {
             "colorbar": {
              "outlinewidth": 0,
              "ticks": ""
             }
            },
            "type": "scattermapbox"
           }
          ],
          "scatterpolar": [
           {
            "marker": {
             "colorbar": {
              "outlinewidth": 0,
              "ticks": ""
             }
            },
            "type": "scatterpolar"
           }
          ],
          "scatterpolargl": [
           {
            "marker": {
             "colorbar": {
              "outlinewidth": 0,
              "ticks": ""
             }
            },
            "type": "scatterpolargl"
           }
          ],
          "scatterternary": [
           {
            "marker": {
             "colorbar": {
              "outlinewidth": 0,
              "ticks": ""
             }
            },
            "type": "scatterternary"
           }
          ],
          "surface": [
           {
            "colorbar": {
             "outlinewidth": 0,
             "ticks": ""
            },
            "colorscale": [
             [
              0,
              "#0d0887"
             ],
             [
              0.1111111111111111,
              "#46039f"
             ],
             [
              0.2222222222222222,
              "#7201a8"
             ],
             [
              0.3333333333333333,
              "#9c179e"
             ],
             [
              0.4444444444444444,
              "#bd3786"
             ],
             [
              0.5555555555555556,
              "#d8576b"
             ],
             [
              0.6666666666666666,
              "#ed7953"
             ],
             [
              0.7777777777777778,
              "#fb9f3a"
             ],
             [
              0.8888888888888888,
              "#fdca26"
             ],
             [
              1,
              "#f0f921"
             ]
            ],
            "type": "surface"
           }
          ],
          "table": [
           {
            "cells": {
             "fill": {
              "color": "#EBF0F8"
             },
             "line": {
              "color": "white"
             }
            },
            "header": {
             "fill": {
              "color": "#C8D4E3"
             },
             "line": {
              "color": "white"
             }
            },
            "type": "table"
           }
          ]
         },
         "layout": {
          "annotationdefaults": {
           "arrowcolor": "#2a3f5f",
           "arrowhead": 0,
           "arrowwidth": 1
          },
          "autotypenumbers": "strict",
          "coloraxis": {
           "colorbar": {
            "outlinewidth": 0,
            "ticks": ""
           }
          },
          "colorscale": {
           "diverging": [
            [
             0,
             "#8e0152"
            ],
            [
             0.1,
             "#c51b7d"
            ],
            [
             0.2,
             "#de77ae"
            ],
            [
             0.3,
             "#f1b6da"
            ],
            [
             0.4,
             "#fde0ef"
            ],
            [
             0.5,
             "#f7f7f7"
            ],
            [
             0.6,
             "#e6f5d0"
            ],
            [
             0.7,
             "#b8e186"
            ],
            [
             0.8,
             "#7fbc41"
            ],
            [
             0.9,
             "#4d9221"
            ],
            [
             1,
             "#276419"
            ]
           ],
           "sequential": [
            [
             0,
             "#0d0887"
            ],
            [
             0.1111111111111111,
             "#46039f"
            ],
            [
             0.2222222222222222,
             "#7201a8"
            ],
            [
             0.3333333333333333,
             "#9c179e"
            ],
            [
             0.4444444444444444,
             "#bd3786"
            ],
            [
             0.5555555555555556,
             "#d8576b"
            ],
            [
             0.6666666666666666,
             "#ed7953"
            ],
            [
             0.7777777777777778,
             "#fb9f3a"
            ],
            [
             0.8888888888888888,
             "#fdca26"
            ],
            [
             1,
             "#f0f921"
            ]
           ],
           "sequentialminus": [
            [
             0,
             "#0d0887"
            ],
            [
             0.1111111111111111,
             "#46039f"
            ],
            [
             0.2222222222222222,
             "#7201a8"
            ],
            [
             0.3333333333333333,
             "#9c179e"
            ],
            [
             0.4444444444444444,
             "#bd3786"
            ],
            [
             0.5555555555555556,
             "#d8576b"
            ],
            [
             0.6666666666666666,
             "#ed7953"
            ],
            [
             0.7777777777777778,
             "#fb9f3a"
            ],
            [
             0.8888888888888888,
             "#fdca26"
            ],
            [
             1,
             "#f0f921"
            ]
           ]
          },
          "colorway": [
           "#636efa",
           "#EF553B",
           "#00cc96",
           "#ab63fa",
           "#FFA15A",
           "#19d3f3",
           "#FF6692",
           "#B6E880",
           "#FF97FF",
           "#FECB52"
          ],
          "font": {
           "color": "#2a3f5f"
          },
          "geo": {
           "bgcolor": "white",
           "lakecolor": "white",
           "landcolor": "#E5ECF6",
           "showlakes": true,
           "showland": true,
           "subunitcolor": "white"
          },
          "hoverlabel": {
           "align": "left"
          },
          "hovermode": "closest",
          "mapbox": {
           "style": "light"
          },
          "paper_bgcolor": "white",
          "plot_bgcolor": "#E5ECF6",
          "polar": {
           "angularaxis": {
            "gridcolor": "white",
            "linecolor": "white",
            "ticks": ""
           },
           "bgcolor": "#E5ECF6",
           "radialaxis": {
            "gridcolor": "white",
            "linecolor": "white",
            "ticks": ""
           }
          },
          "scene": {
           "xaxis": {
            "backgroundcolor": "#E5ECF6",
            "gridcolor": "white",
            "gridwidth": 2,
            "linecolor": "white",
            "showbackground": true,
            "ticks": "",
            "zerolinecolor": "white"
           },
           "yaxis": {
            "backgroundcolor": "#E5ECF6",
            "gridcolor": "white",
            "gridwidth": 2,
            "linecolor": "white",
            "showbackground": true,
            "ticks": "",
            "zerolinecolor": "white"
           },
           "zaxis": {
            "backgroundcolor": "#E5ECF6",
            "gridcolor": "white",
            "gridwidth": 2,
            "linecolor": "white",
            "showbackground": true,
            "ticks": "",
            "zerolinecolor": "white"
           }
          },
          "shapedefaults": {
           "line": {
            "color": "#2a3f5f"
           }
          },
          "ternary": {
           "aaxis": {
            "gridcolor": "white",
            "linecolor": "white",
            "ticks": ""
           },
           "baxis": {
            "gridcolor": "white",
            "linecolor": "white",
            "ticks": ""
           },
           "bgcolor": "#E5ECF6",
           "caxis": {
            "gridcolor": "white",
            "linecolor": "white",
            "ticks": ""
           }
          },
          "title": {
           "x": 0.05
          },
          "xaxis": {
           "automargin": true,
           "gridcolor": "white",
           "linecolor": "white",
           "ticks": "",
           "title": {
            "standoff": 15
           },
           "zerolinecolor": "white",
           "zerolinewidth": 2
          },
          "yaxis": {
           "automargin": true,
           "gridcolor": "white",
           "linecolor": "white",
           "ticks": "",
           "title": {
            "standoff": 15
           },
           "zerolinecolor": "white",
           "zerolinewidth": 2
          }
         }
        },
        "title": {
         "text": "Number of opinions by justice over time"
        },
        "xaxis": {
         "anchor": "y",
         "domain": [
          0,
          1
         ],
         "title": {
          "text": "term"
         }
        },
        "yaxis": {
         "anchor": "x",
         "domain": [
          0,
          1
         ],
         "title": {
          "text": "post_med"
         }
        }
       }
      }
     },
     "metadata": {},
     "output_type": "display_data"
    }
   ],
   "source": [
    "px.line(df, x=\"term\", y=\"post_med\", color=\"justiceName\", title=\"Number of opinions by justice over time\")"
   ]
  },
  {
   "cell_type": "code",
   "execution_count": 68,
   "metadata": {},
   "outputs": [
    {
     "name": "stderr",
     "output_type": "stream",
     "text": [
      "C:\\Users\\zeusg\\AppData\\Local\\Temp/ipykernel_52584/405081297.py:1: FutureWarning:\n",
      "\n",
      "The default value of numeric_only in DataFrameGroupBy.median is deprecated. In a future version, numeric_only will default to False. Either specify numeric_only or select only columns which should be valid for the function.\n",
      "\n"
     ]
    },
    {
     "data": {
      "text/html": [
       "<div>\n",
       "<style scoped>\n",
       "    .dataframe tbody tr th:only-of-type {\n",
       "        vertical-align: middle;\n",
       "    }\n",
       "\n",
       "    .dataframe tbody tr th {\n",
       "        vertical-align: top;\n",
       "    }\n",
       "\n",
       "    .dataframe thead th {\n",
       "        text-align: right;\n",
       "    }\n",
       "</style>\n",
       "<table border=\"1\" class=\"dataframe\">\n",
       "  <thead>\n",
       "    <tr style=\"text-align: right;\">\n",
       "      <th></th>\n",
       "      <th>term</th>\n",
       "      <th>justice</th>\n",
       "      <th>post_mn</th>\n",
       "      <th>post_sd</th>\n",
       "      <th>post_med</th>\n",
       "      <th>post_025</th>\n",
       "      <th>post_975</th>\n",
       "    </tr>\n",
       "  </thead>\n",
       "  <tbody>\n",
       "    <tr>\n",
       "      <th>0</th>\n",
       "      <td>1937</td>\n",
       "      <td>74.5</td>\n",
       "      <td>-0.4825</td>\n",
       "      <td>0.3385</td>\n",
       "      <td>-0.4775</td>\n",
       "      <td>-0.9935</td>\n",
       "      <td>-0.0055</td>\n",
       "    </tr>\n",
       "    <tr>\n",
       "      <th>1</th>\n",
       "      <td>1938</td>\n",
       "      <td>75.5</td>\n",
       "      <td>-0.6525</td>\n",
       "      <td>0.3155</td>\n",
       "      <td>-0.6435</td>\n",
       "      <td>-1.1820</td>\n",
       "      <td>-0.1605</td>\n",
       "    </tr>\n",
       "    <tr>\n",
       "      <th>2</th>\n",
       "      <td>1939</td>\n",
       "      <td>78.0</td>\n",
       "      <td>-1.0540</td>\n",
       "      <td>0.2530</td>\n",
       "      <td>-1.0470</td>\n",
       "      <td>-1.5340</td>\n",
       "      <td>-0.6090</td>\n",
       "    </tr>\n",
       "    <tr>\n",
       "      <th>3</th>\n",
       "      <td>1940</td>\n",
       "      <td>78.0</td>\n",
       "      <td>-0.7270</td>\n",
       "      <td>0.2700</td>\n",
       "      <td>-0.7220</td>\n",
       "      <td>-1.1430</td>\n",
       "      <td>-0.3310</td>\n",
       "    </tr>\n",
       "    <tr>\n",
       "      <th>4</th>\n",
       "      <td>1941</td>\n",
       "      <td>80.0</td>\n",
       "      <td>-0.1910</td>\n",
       "      <td>0.2330</td>\n",
       "      <td>-0.1910</td>\n",
       "      <td>-0.6470</td>\n",
       "      <td>0.2650</td>\n",
       "    </tr>\n",
       "    <tr>\n",
       "      <th>...</th>\n",
       "      <td>...</td>\n",
       "      <td>...</td>\n",
       "      <td>...</td>\n",
       "      <td>...</td>\n",
       "      <td>...</td>\n",
       "      <td>...</td>\n",
       "      <td>...</td>\n",
       "    </tr>\n",
       "    <tr>\n",
       "      <th>80</th>\n",
       "      <td>2017</td>\n",
       "      <td>111.0</td>\n",
       "      <td>0.4020</td>\n",
       "      <td>0.3050</td>\n",
       "      <td>0.3990</td>\n",
       "      <td>-0.0510</td>\n",
       "      <td>0.8420</td>\n",
       "    </tr>\n",
       "    <tr>\n",
       "      <th>81</th>\n",
       "      <td>2018</td>\n",
       "      <td>112.0</td>\n",
       "      <td>0.4510</td>\n",
       "      <td>0.3220</td>\n",
       "      <td>0.4500</td>\n",
       "      <td>0.0240</td>\n",
       "      <td>0.8930</td>\n",
       "    </tr>\n",
       "    <tr>\n",
       "      <th>82</th>\n",
       "      <td>2019</td>\n",
       "      <td>112.0</td>\n",
       "      <td>0.3880</td>\n",
       "      <td>0.3410</td>\n",
       "      <td>0.3840</td>\n",
       "      <td>-0.0450</td>\n",
       "      <td>0.8390</td>\n",
       "    </tr>\n",
       "    <tr>\n",
       "      <th>83</th>\n",
       "      <td>2020</td>\n",
       "      <td>113.0</td>\n",
       "      <td>0.6840</td>\n",
       "      <td>0.3630</td>\n",
       "      <td>0.6820</td>\n",
       "      <td>0.1990</td>\n",
       "      <td>1.1900</td>\n",
       "    </tr>\n",
       "    <tr>\n",
       "      <th>84</th>\n",
       "      <td>2021</td>\n",
       "      <td>113.0</td>\n",
       "      <td>0.8140</td>\n",
       "      <td>0.3800</td>\n",
       "      <td>0.8060</td>\n",
       "      <td>0.2900</td>\n",
       "      <td>1.3620</td>\n",
       "    </tr>\n",
       "  </tbody>\n",
       "</table>\n",
       "<p>85 rows × 7 columns</p>\n",
       "</div>"
      ],
      "text/plain": [
       "    term  justice  post_mn  post_sd  post_med  post_025  post_975\n",
       "0   1937     74.5  -0.4825   0.3385   -0.4775   -0.9935   -0.0055\n",
       "1   1938     75.5  -0.6525   0.3155   -0.6435   -1.1820   -0.1605\n",
       "2   1939     78.0  -1.0540   0.2530   -1.0470   -1.5340   -0.6090\n",
       "3   1940     78.0  -0.7270   0.2700   -0.7220   -1.1430   -0.3310\n",
       "4   1941     80.0  -0.1910   0.2330   -0.1910   -0.6470    0.2650\n",
       "..   ...      ...      ...      ...       ...       ...       ...\n",
       "80  2017    111.0   0.4020   0.3050    0.3990   -0.0510    0.8420\n",
       "81  2018    112.0   0.4510   0.3220    0.4500    0.0240    0.8930\n",
       "82  2019    112.0   0.3880   0.3410    0.3840   -0.0450    0.8390\n",
       "83  2020    113.0   0.6840   0.3630    0.6820    0.1990    1.1900\n",
       "84  2021    113.0   0.8140   0.3800    0.8060    0.2900    1.3620\n",
       "\n",
       "[85 rows x 7 columns]"
      ]
     },
     "execution_count": 68,
     "metadata": {},
     "output_type": "execute_result"
    }
   ],
   "source": [
    "averges = df.groupby([\"term\"]).median().reset_index()\n",
    "averges"
   ]
  },
  {
   "cell_type": "code",
   "execution_count": 244,
   "metadata": {},
   "outputs": [],
   "source": [
    "#Get the justice nears to the median for each term\n",
    "with_median= df.merge(averges, on=\"term\", suffixes=(\"\", \"_median\"))\n",
    "with_median[\"diff\"] = with_median[\"post_med\"] - with_median[\"post_med_median\"]\n",
    "\n",
    "above_median = with_median[with_median[\"diff\"] > 0]\n",
    "above_median = above_median.groupby([\"term\"]).min().reset_index()\n",
    "below_median = with_median[with_median[\"diff\"] < 0]\n",
    "below_median = below_median.groupby([\"term\"]).max().reset_index()\n"
   ]
  },
  {
   "cell_type": "code",
   "execution_count": 239,
   "metadata": {},
   "outputs": [
    {
     "name": "stderr",
     "output_type": "stream",
     "text": [
      "C:\\Users\\zeusg\\AppData\\Local\\Temp/ipykernel_52584/3030790058.py:3: FutureWarning:\n",
      "\n",
      "The default value of numeric_only in DataFrameGroupBy.median is deprecated. In a future version, numeric_only will default to False. Either specify numeric_only or select only columns which should be valid for the function.\n",
      "\n"
     ]
    },
    {
     "data": {
      "application/vnd.plotly.v1+json": {
       "config": {
        "plotlyServerURL": "https://plot.ly"
       },
       "data": [
        {
         "mode": "lines",
         "name": "ACBarrett",
         "type": "scatter",
         "x": [
          2020,
          2021
         ],
         "y": [
          1.201,
          1.326
         ]
        },
        {
         "mode": "lines",
         "name": "AFortas",
         "type": "scatter",
         "x": [
          1965,
          1966,
          1967,
          1968
         ],
         "y": [
          -1.321,
          -1.508,
          -1.347,
          -1.08
         ]
        },
        {
         "mode": "lines",
         "name": "AJGoldberg",
         "type": "scatter",
         "x": [
          1962,
          1963,
          1964
         ],
         "y": [
          -1.145,
          -1.282,
          -0.777
         ]
        },
        {
         "mode": "lines",
         "name": "AMKennedy",
         "type": "scatter",
         "x": [
          1987,
          1988,
          1989,
          1990,
          1991,
          1992,
          1993,
          1994,
          1995,
          1996,
          1997,
          1998,
          1999,
          2000,
          2001,
          2002,
          2003,
          2004,
          2005,
          2006,
          2007,
          2008,
          2009,
          2010,
          2011,
          2012,
          2013,
          2014,
          2015,
          2016,
          2017
         ],
         "y": [
          1.213,
          1.478,
          1.355,
          1.198,
          0.857,
          1.027,
          0.871,
          0.847,
          0.735,
          0.826,
          0.821,
          0.948,
          1.085,
          0.957,
          1.054,
          0.895,
          0.766,
          0.54,
          0.499,
          0.457,
          0.411,
          0.576,
          0.512,
          0.575,
          0.294,
          0.239,
          0.069,
          -0.223,
          -0.267,
          -0.047,
          0.399
         ]
        },
        {
         "mode": "lines",
         "name": "AScalia",
         "type": "scatter",
         "x": [
          1986,
          1987,
          1988,
          1989,
          1990,
          1991,
          1992,
          1993,
          1994,
          1995,
          1996,
          1997,
          1998,
          1999,
          2000,
          2001,
          2002,
          2003,
          2004,
          2005,
          2006,
          2007,
          2008,
          2009,
          2010,
          2011,
          2012,
          2013,
          2014,
          2015
         ],
         "y": [
          1.381,
          1.638,
          1.808,
          1.985,
          2.139,
          2.499,
          2.533,
          2.638,
          2.879,
          3.168,
          3.394,
          3.475,
          3.466,
          3.537,
          3.537,
          3.375,
          3.077,
          2.906,
          2.711,
          2.622,
          2.582,
          2.428,
          2.311,
          2.287,
          2.115,
          2.04,
          1.723,
          1.584,
          1.505,
          1.585
         ]
        },
        {
         "mode": "lines",
         "name": "BMKavanaugh",
         "type": "scatter",
         "x": [
          2018,
          2019,
          2020,
          2021
         ],
         "y": [
          0.635,
          0.625,
          0.682,
          0.806
         ]
        },
        {
         "mode": "lines",
         "name": "BNCardozo",
         "type": "scatter",
         "x": [
          1937
         ],
         "y": [
          -1.546
         ]
        },
        {
         "mode": "lines",
         "name": "BRWhite",
         "type": "scatter",
         "x": [
          1961,
          1962,
          1963,
          1964,
          1965,
          1966,
          1967,
          1968,
          1969,
          1970,
          1971,
          1972,
          1973,
          1974,
          1975,
          1976,
          1977,
          1978,
          1979,
          1980,
          1981,
          1982,
          1983,
          1984,
          1985,
          1986,
          1987,
          1988,
          1989,
          1990,
          1991,
          1992
         ],
         "y": [
          -0.326,
          -0.301,
          -0.22,
          -0.247,
          -0.193,
          -0.017,
          0.246,
          0.087,
          0.131,
          0.451,
          0.639,
          0.968,
          0.56,
          0.601,
          0.493,
          0.342,
          0.006,
          -0.056,
          0.246,
          0.223,
          0.264,
          0.673,
          0.895,
          1.08,
          1.294,
          1.272,
          1.021,
          1.111,
          0.874,
          0.612,
          0.629,
          0.576
         ]
        },
        {
         "mode": "lines",
         "name": "CEHughes2",
         "type": "scatter",
         "x": [
          1937,
          1938,
          1939,
          1940
         ],
         "y": [
          -0.355,
          -0.177,
          0.344,
          0.93
         ]
        },
        {
         "mode": "lines",
         "name": "CEWhittaker",
         "type": "scatter",
         "x": [
          1956,
          1957,
          1958,
          1959,
          1960,
          1961
         ],
         "y": [
          0.96,
          1.012,
          1.275,
          1.361,
          1.199,
          1.126
         ]
        },
        {
         "mode": "lines",
         "name": "CThomas",
         "type": "scatter",
         "x": [
          1991,
          1992,
          1993,
          1994,
          1995,
          1996,
          1997,
          1998,
          1999,
          2000,
          2001,
          2002,
          2003,
          2004,
          2005,
          2006,
          2007,
          2008,
          2009,
          2010,
          2011,
          2012,
          2013,
          2014,
          2015,
          2016,
          2017,
          2018,
          2019,
          2020,
          2021
         ],
         "y": [
          2.711,
          3.015,
          3.407,
          3.628,
          3.721,
          3.793,
          3.785,
          3.813,
          3.752,
          3.783,
          3.745,
          3.887,
          3.908,
          3.932,
          3.955,
          3.914,
          3.773,
          3.516,
          3.374,
          3.206,
          3.174,
          3.121,
          3.155,
          3.151,
          3.173,
          3.184,
          3.1,
          3.135,
          3.11,
          2.941,
          3.014
         ]
        },
        {
         "mode": "lines",
         "name": "DHSouter",
         "type": "scatter",
         "x": [
          1990,
          1991,
          1992,
          1993,
          1994,
          1995,
          1996,
          1997,
          1998,
          1999,
          2000,
          2001,
          2002,
          2003,
          2004,
          2005,
          2006,
          2007,
          2008
         ],
         "y": [
          0.968,
          0.602,
          0.256,
          -0.238,
          -0.334,
          -0.377,
          -0.317,
          -0.415,
          -0.482,
          -0.936,
          -1.204,
          -1.396,
          -1.511,
          -1.656,
          -1.609,
          -1.52,
          -1.419,
          -1.484,
          -1.553
         ]
        },
        {
         "mode": "lines",
         "name": "EKagan",
         "type": "scatter",
         "x": [
          2010,
          2011,
          2012,
          2013,
          2014,
          2015,
          2016,
          2017,
          2018,
          2019,
          2020,
          2021
         ],
         "y": [
          -1.43,
          -1.421,
          -1.662,
          -1.625,
          -1.667,
          -1.556,
          -1.606,
          -1.645,
          -1.645,
          -1.726,
          -1.758,
          -1.835
         ]
        },
        {
         "mode": "lines",
         "name": "EWarren",
         "type": "scatter",
         "x": [
          1953,
          1954,
          1955,
          1956,
          1957,
          1958,
          1959,
          1960,
          1961,
          1962,
          1963,
          1964,
          1965,
          1966,
          1967,
          1968
         ],
         "y": [
          0,
          -0.464,
          -1.081,
          -1.322,
          -1.604,
          -1.661,
          -1.567,
          -1.455,
          -1.573,
          -1.517,
          -1.465,
          -1.289,
          -1.287,
          -1.213,
          -1.28,
          -1.301
         ]
        },
        {
         "mode": "lines",
         "name": "FFrankfurter",
         "type": "scatter",
         "x": [
          1938,
          1939,
          1940,
          1941,
          1942,
          1943,
          1944,
          1945,
          1946,
          1947,
          1948,
          1949,
          1950,
          1951,
          1952,
          1953,
          1954,
          1955,
          1956,
          1957,
          1958,
          1959,
          1960,
          1961
         ],
         "y": [
          -1.353,
          -1.249,
          -0.722,
          0.101,
          0.465,
          0.612,
          0.511,
          0.654,
          1.037,
          0.945,
          0.633,
          0.345,
          0.187,
          0.022,
          0.007,
          0.35,
          0.324,
          0.587,
          0.915,
          1.182,
          1.482,
          1.766,
          1.778,
          1.778
         ]
        },
        {
         "mode": "lines",
         "name": "FMurphy",
         "type": "scatter",
         "x": [
          1939,
          1940,
          1941,
          1942,
          1943,
          1944,
          1945,
          1946,
          1947,
          1948
         ],
         "y": [
          -1.613,
          -1.565,
          -1.513,
          -1.658,
          -1.715,
          -1.427,
          -1.388,
          -1.765,
          -1.678,
          -1.502
         ]
        },
        {
         "mode": "lines",
         "name": "FMVinson",
         "type": "scatter",
         "x": [
          1946,
          1947,
          1948,
          1949,
          1950,
          1951,
          1952
         ],
         "y": [
          0.413,
          0.535,
          0.87,
          1.115,
          1.28,
          1.531,
          1.465
         ]
        },
        {
         "mode": "lines",
         "name": "GSutherland",
         "type": "scatter",
         "x": [
          1937
         ],
         "y": [
          1.564
         ]
        },
        {
         "mode": "lines",
         "name": "HABlackmun",
         "type": "scatter",
         "x": [
          1969,
          1970,
          1971,
          1972,
          1973,
          1974,
          1975,
          1976,
          1977,
          1978,
          1979,
          1980,
          1981,
          1982,
          1983,
          1984,
          1985,
          1986,
          1987,
          1988,
          1989,
          1990,
          1991,
          1992,
          1993
         ],
         "y": [
          1.448,
          1.552,
          1.621,
          1.437,
          1.292,
          1.031,
          0.847,
          0.674,
          0.318,
          0.144,
          -0.047,
          -0.073,
          -0.241,
          -0.3,
          0.032,
          -0.077,
          -0.688,
          -0.816,
          -0.877,
          -0.921,
          -0.852,
          -1.173,
          -1.428,
          -1.647,
          -1.927
         ]
        },
        {
         "mode": "lines",
         "name": "HFStone",
         "type": "scatter",
         "x": [
          1937,
          1938,
          1939,
          1940,
          1941,
          1942,
          1943,
          1944,
          1945
         ],
         "y": [
          -0.758,
          -0.687,
          -0.614,
          -0.211,
          0.454,
          0.379,
          0.246,
          0.583,
          0.732
         ]
        },
        {
         "mode": "lines",
         "name": "HHBurton",
         "type": "scatter",
         "x": [
          1945,
          1946,
          1947,
          1948,
          1949,
          1950,
          1951,
          1952,
          1953,
          1954,
          1955,
          1956,
          1957,
          1958
         ],
         "y": [
          0.516,
          0.533,
          0.829,
          0.939,
          0.956,
          0.983,
          0.94,
          1.27,
          1.331,
          1.272,
          1.258,
          1.152,
          1.017,
          1.077
         ]
        },
        {
         "mode": "lines",
         "name": "HLBlack",
         "type": "scatter",
         "x": [
          1937,
          1938,
          1939,
          1940,
          1941,
          1942,
          1943,
          1944,
          1945,
          1946,
          1947,
          1948,
          1949,
          1950,
          1951,
          1952,
          1953,
          1954,
          1955,
          1956,
          1957,
          1958,
          1959,
          1960,
          1961,
          1962,
          1963,
          1964,
          1965,
          1966,
          1967,
          1968,
          1969,
          1970
         ],
         "y": [
          -2.905,
          -3.219,
          -3.301,
          -3.329,
          -3.253,
          -3.032,
          -2.711,
          -2.541,
          -2.148,
          -1.944,
          -1.783,
          -1.571,
          -1.505,
          -1.485,
          -1.351,
          -1.091,
          -1.477,
          -1.616,
          -1.96,
          -2.174,
          -2.25,
          -2.089,
          -2.057,
          -1.936,
          -1.873,
          -1.762,
          -1.484,
          -0.926,
          -0.553,
          -0.413,
          -0.097,
          0.103,
          0.082,
          -0.007
         ]
        },
        {
         "mode": "lines",
         "name": "JCMcReynolds",
         "type": "scatter",
         "x": [
          1937,
          1938,
          1939,
          1940
         ],
         "y": [
          3.414,
          3.545,
          3.516,
          3.327
         ]
        },
        {
         "mode": "lines",
         "name": "JFByrnes",
         "type": "scatter",
         "x": [
          1941
         ],
         "y": [
          -0.191
         ]
        },
        {
         "mode": "lines",
         "name": "JGRoberts",
         "type": "scatter",
         "x": [
          2005,
          2006,
          2007,
          2008,
          2009,
          2010,
          2011,
          2012,
          2013,
          2014,
          2015,
          2016,
          2017,
          2018,
          2019,
          2020,
          2021
         ],
         "y": [
          1.387,
          1.421,
          1.408,
          1.494,
          1.379,
          1.383,
          1.192,
          1.101,
          0.797,
          0.593,
          0.332,
          0.352,
          0.415,
          0.45,
          0.384,
          0.609,
          0.7
         ]
        },
        {
         "mode": "lines",
         "name": "JHarlan2",
         "type": "scatter",
         "x": [
          1954,
          1955,
          1956,
          1957,
          1958,
          1959,
          1960,
          1961,
          1962,
          1963,
          1964,
          1965,
          1966,
          1967,
          1968,
          1969,
          1970
         ],
         "y": [
          0.845,
          1.051,
          1.227,
          1.324,
          1.488,
          1.63,
          1.884,
          2.267,
          2.547,
          2.645,
          2.439,
          2.348,
          2.046,
          1.467,
          0.758,
          0.688,
          0.77
         ]
        },
        {
         "mode": "lines",
         "name": "JPStevens",
         "type": "scatter",
         "x": [
          1975,
          1976,
          1977,
          1978,
          1979,
          1980,
          1981,
          1982,
          1983,
          1984,
          1985,
          1986,
          1987,
          1988,
          1989,
          1990,
          1991,
          1992,
          1993,
          1994,
          1995,
          1996,
          1997,
          1998,
          1999,
          2000,
          2001,
          2002,
          2003,
          2004,
          2005,
          2006,
          2007,
          2008,
          2009
         ],
         "y": [
          0.08,
          -0.177,
          -0.082,
          -0.301,
          -0.238,
          -0.221,
          -0.22,
          -0.531,
          -0.5,
          -0.46,
          -0.453,
          -0.589,
          -0.482,
          -0.579,
          -0.992,
          -1.718,
          -2.153,
          -2.359,
          -2.571,
          -2.992,
          -3.254,
          -3.375,
          -3.349,
          -3.357,
          -3.303,
          -3.136,
          -3.027,
          -2.904,
          -2.889,
          -2.883,
          -2.825,
          -2.786,
          -2.671,
          -2.827,
          -2.841
         ]
        },
        {
         "mode": "lines",
         "name": "LDBrandeis",
         "type": "scatter",
         "x": [
          1937,
          1938
         ],
         "y": [
          -0.6,
          -0.6
         ]
        },
        {
         "mode": "lines",
         "name": "LFPowell",
         "type": "scatter",
         "x": [
          1971,
          1972,
          1973,
          1974,
          1975,
          1976,
          1977,
          1978,
          1979,
          1980,
          1981,
          1982,
          1983,
          1984,
          1985,
          1986
         ],
         "y": [
          1.39,
          1.163,
          1.155,
          1.094,
          0.92,
          0.679,
          0.453,
          0.824,
          0.823,
          0.872,
          1.038,
          1.252,
          1.123,
          0.851,
          0.941,
          0.881
         ]
        },
        {
         "mode": "lines",
         "name": "NMGorsuch",
         "type": "scatter",
         "x": [
          2016,
          2017,
          2018,
          2019,
          2020,
          2021
         ],
         "y": [
          1.135,
          1.064,
          0.991,
          0.947,
          1.113,
          1.038
         ]
        },
        {
         "mode": "lines",
         "name": "OJRoberts",
         "type": "scatter",
         "x": [
          1937,
          1938,
          1939,
          1940,
          1941,
          1942,
          1943,
          1944
         ],
         "y": [
          0.013,
          0.35,
          1.008,
          1.644,
          1.848,
          2.087,
          2.41,
          2.741
         ]
        },
        {
         "mode": "lines",
         "name": "PButler",
         "type": "scatter",
         "x": [
          1937,
          1938
         ],
         "y": [
          2.042,
          2.344
         ]
        },
        {
         "mode": "lines",
         "name": "PStewart",
         "type": "scatter",
         "x": [
          1958,
          1959,
          1960,
          1961,
          1962,
          1963,
          1964,
          1965,
          1966,
          1967,
          1968,
          1969,
          1970,
          1971,
          1972,
          1973,
          1974,
          1975,
          1976,
          1977,
          1978,
          1979,
          1980
         ],
         "y": [
          0.827,
          0.574,
          0.45,
          0.263,
          0.263,
          0.161,
          0.363,
          0.497,
          0.589,
          -0.099,
          0.342,
          0.455,
          0.48,
          0.088,
          0.135,
          0.488,
          0.352,
          0.489,
          0.469,
          0.312,
          0.507,
          0.484,
          0.728
         ]
        },
        {
         "mode": "lines",
         "name": "RBGinsburg",
         "type": "scatter",
         "x": [
          1993,
          1994,
          1995,
          1996,
          1997,
          1998,
          1999,
          2000,
          2001,
          2002,
          2003,
          2004,
          2005,
          2006,
          2007,
          2008,
          2009,
          2010,
          2011,
          2012,
          2013,
          2014,
          2015,
          2016,
          2017,
          2018,
          2019
         ],
         "y": [
          -0.211,
          -0.443,
          -0.529,
          -0.596,
          -0.73,
          -0.793,
          -1.244,
          -1.487,
          -1.604,
          -1.672,
          -1.751,
          -1.677,
          -1.557,
          -1.677,
          -1.675,
          -1.724,
          -1.678,
          -2.083,
          -2.37,
          -2.464,
          -2.453,
          -2.552,
          -2.662,
          -2.771,
          -2.819,
          -2.861,
          -2.858
         ]
        },
        {
         "mode": "lines",
         "name": "RHJackson",
         "type": "scatter",
         "x": [
          1941,
          1942,
          1943,
          1944,
          1945,
          1946,
          1947,
          1948,
          1949,
          1950,
          1951,
          1952,
          1953
         ],
         "y": [
          0.2,
          0.24,
          0.135,
          0.203,
          0.628,
          1.056,
          1.199,
          1.277,
          0.831,
          0.779,
          0.71,
          0.891,
          0.843
         ]
        },
        {
         "mode": "lines",
         "name": "SAAlito",
         "type": "scatter",
         "x": [
          2005,
          2006,
          2007,
          2008,
          2009,
          2010,
          2011,
          2012,
          2013,
          2014,
          2015,
          2016,
          2017,
          2018,
          2019,
          2020,
          2021
         ],
         "y": [
          1.413,
          1.444,
          1.538,
          1.809,
          1.838,
          1.977,
          1.99,
          1.976,
          1.929,
          1.754,
          1.665,
          1.879,
          2.098,
          2.076,
          2.328,
          2.436,
          2.454
         ]
        },
        {
         "mode": "lines",
         "name": "SDOConnor",
         "type": "scatter",
         "x": [
          1981,
          1982,
          1983,
          1984,
          1985,
          1986,
          1987,
          1988,
          1989,
          1990,
          1991,
          1992,
          1993,
          1994,
          1995,
          1996,
          1997,
          1998,
          1999,
          2000,
          2001,
          2002,
          2003,
          2004,
          2005
         ],
         "y": [
          1.658,
          1.812,
          1.77,
          1.576,
          1.372,
          1.451,
          1.61,
          1.535,
          1.533,
          1.143,
          0.699,
          0.85,
          1.012,
          0.833,
          0.863,
          0.983,
          1.092,
          0.995,
          0.886,
          0.598,
          0.37,
          0.259,
          0.223,
          0.116,
          0.069
         ]
        },
        {
         "mode": "lines",
         "name": "SFReed",
         "type": "scatter",
         "x": [
          1937,
          1938,
          1939,
          1940,
          1941,
          1942,
          1943,
          1944,
          1945,
          1946,
          1947,
          1948,
          1949,
          1950,
          1951,
          1952,
          1953,
          1954,
          1955,
          1956
         ],
         "y": [
          -1.024,
          -1.111,
          -1.047,
          -0.727,
          -0.269,
          0.154,
          0.154,
          -0.076,
          0.08,
          0.297,
          0.537,
          0.696,
          1.095,
          1.212,
          1.297,
          1.373,
          1.513,
          1.493,
          1.049,
          0.786
         ]
        },
        {
         "mode": "lines",
         "name": "SGBreyer",
         "type": "scatter",
         "x": [
          1994,
          1995,
          1996,
          1997,
          1998,
          1999,
          2000,
          2001,
          2002,
          2003,
          2004,
          2005,
          2006,
          2007,
          2008,
          2009,
          2010,
          2011,
          2012,
          2013,
          2014,
          2015,
          2016,
          2017,
          2018,
          2019,
          2020,
          2021
         ],
         "y": [
          -0.324,
          -0.502,
          -0.746,
          -0.775,
          -0.742,
          -0.771,
          -1.231,
          -1.305,
          -1.308,
          -1.227,
          -1.06,
          -1.227,
          -1.353,
          -1.276,
          -1.178,
          -1.326,
          -1.399,
          -1.399,
          -1.39,
          -1.471,
          -1.57,
          -1.487,
          -1.57,
          -1.785,
          -1.875,
          -1.97,
          -2.064,
          -2.038
         ]
        },
        {
         "mode": "lines",
         "name": "SMinton",
         "type": "scatter",
         "x": [
          1949,
          1950,
          1951,
          1952,
          1953,
          1954,
          1955,
          1956
         ],
         "y": [
          1.212,
          1.36,
          1.46,
          1.273,
          0.887,
          0.892,
          0.871,
          0.832
         ]
        },
        {
         "mode": "lines",
         "name": "SSotomayor",
         "type": "scatter",
         "x": [
          2009,
          2010,
          2011,
          2012,
          2013,
          2014,
          2015,
          2016,
          2017,
          2018,
          2019,
          2020,
          2021
         ],
         "y": [
          -1.613,
          -1.695,
          -1.876,
          -2.348,
          -2.673,
          -2.984,
          -3.238,
          -3.449,
          -3.68,
          -3.81,
          -3.915,
          -4.044,
          -4.116
         ]
        },
        {
         "mode": "lines",
         "name": "TCClark",
         "type": "scatter",
         "x": [
          1949,
          1950,
          1951,
          1952,
          1953,
          1954,
          1955,
          1956,
          1957,
          1958,
          1959,
          1960,
          1961,
          1962,
          1963,
          1964,
          1965,
          1966
         ],
         "y": [
          1.059,
          1.107,
          1.195,
          1.161,
          0.603,
          0.149,
          0.026,
          0.162,
          0.582,
          0.529,
          0.347,
          0.758,
          0.46,
          0.333,
          0.042,
          -0.21,
          -0.097,
          0.109
         ]
        },
        {
         "mode": "lines",
         "name": "TMarshall",
         "type": "scatter",
         "x": [
          1967,
          1968,
          1969,
          1970,
          1971,
          1972,
          1973,
          1974,
          1975,
          1976,
          1977,
          1978,
          1979,
          1980,
          1981,
          1982,
          1983,
          1984,
          1985,
          1986,
          1987,
          1988,
          1989,
          1990
         ],
         "y": [
          -1.153,
          -1.09,
          -0.946,
          -0.961,
          -1.074,
          -1.361,
          -1.466,
          -1.484,
          -2.038,
          -2.374,
          -2.696,
          -3.044,
          -3.318,
          -3.472,
          -3.6,
          -3.774,
          -3.86,
          -3.942,
          -4.06,
          -4.264,
          -4.403,
          -4.46,
          -4.431,
          -4.301
         ]
        },
        {
         "mode": "lines",
         "name": "WBRutledge",
         "type": "scatter",
         "x": [
          1942,
          1943,
          1944,
          1945,
          1946,
          1947,
          1948
         ],
         "y": [
          -1.132,
          -1.155,
          -1.375,
          -1.193,
          -1.435,
          -1.75,
          -1.828
         ]
        },
        {
         "mode": "lines",
         "name": "WEBurger",
         "type": "scatter",
         "x": [
          1969,
          1970,
          1971,
          1972,
          1973,
          1974,
          1975,
          1976,
          1977,
          1978,
          1979,
          1980,
          1981,
          1982,
          1983,
          1984,
          1985
         ],
         "y": [
          1.976,
          2.173,
          2.404,
          2.192,
          2.204,
          2.11,
          1.97,
          1.923,
          1.519,
          1.4,
          1.241,
          1.508,
          1.692,
          1.582,
          1.812,
          2.113,
          2.221
         ]
        },
        {
         "mode": "lines",
         "name": "WHRehnquist",
         "type": "scatter",
         "x": [
          1971,
          1972,
          1973,
          1974,
          1975,
          1976,
          1977,
          1978,
          1979,
          1980,
          1981,
          1982,
          1983,
          1984,
          1985,
          1986,
          1987,
          1988,
          1989,
          1990,
          1991,
          1992,
          1993,
          1994,
          1995,
          1996,
          1997,
          1998,
          1999,
          2000,
          2001,
          2002,
          2003,
          2004
         ],
         "y": [
          3.58,
          3.985,
          4.258,
          4.355,
          4.465,
          4.438,
          4.438,
          4.469,
          4.502,
          4.354,
          4.211,
          4.139,
          4.043,
          3.817,
          3.605,
          3.34,
          2.891,
          2.765,
          2.612,
          2.391,
          2.113,
          2.058,
          1.868,
          1.869,
          1.834,
          1.69,
          1.663,
          1.873,
          1.738,
          1.67,
          1.423,
          1.257,
          1.388,
          1.452
         ]
        },
        {
         "mode": "lines",
         "name": "WJBrennan",
         "type": "scatter",
         "x": [
          1956,
          1957,
          1958,
          1959,
          1960,
          1961,
          1962,
          1963,
          1964,
          1965,
          1966,
          1967,
          1968,
          1969,
          1970,
          1971,
          1972,
          1973,
          1974,
          1975,
          1976,
          1977,
          1978,
          1979,
          1980,
          1981,
          1982,
          1983,
          1984,
          1985,
          1986,
          1987,
          1988,
          1989
         ],
         "y": [
          -0.692,
          -0.808,
          -0.844,
          -0.925,
          -0.878,
          -0.846,
          -1.236,
          -1.217,
          -1.033,
          -1.128,
          -1.145,
          -1.243,
          -1.072,
          -0.933,
          -1.049,
          -1.179,
          -1.411,
          -1.724,
          -1.923,
          -2.422,
          -2.651,
          -2.658,
          -2.568,
          -2.468,
          -2.334,
          -2.327,
          -2.11,
          -2.431,
          -2.562,
          -2.524,
          -2.778,
          -2.904,
          -3.057,
          -3.152
         ]
        },
        {
         "mode": "lines",
         "name": "WODouglas",
         "type": "scatter",
         "x": [
          1938,
          1939,
          1940,
          1941,
          1942,
          1943,
          1944,
          1945,
          1946,
          1947,
          1948,
          1949,
          1950,
          1951,
          1952,
          1953,
          1954,
          1955,
          1956,
          1957,
          1958,
          1959,
          1960,
          1961,
          1962,
          1963,
          1964,
          1965,
          1966,
          1967,
          1968,
          1969,
          1970,
          1971,
          1972,
          1973,
          1974,
          1975
         ],
         "y": [
          -2.802,
          -3.011,
          -3.14,
          -3.093,
          -2.818,
          -2.47,
          -1.989,
          -1.729,
          -1.408,
          -1.492,
          -1.654,
          -1.463,
          -1.259,
          -1.48,
          -2.144,
          -2.883,
          -3.581,
          -4.154,
          -4.652,
          -5.068,
          -5.44,
          -5.744,
          -6.008,
          -6.251,
          -6.473,
          -6.682,
          -6.91,
          -7.121,
          -7.288,
          -7.44,
          -7.557,
          -7.623,
          -7.692,
          -7.761,
          -7.769,
          -7.818,
          -7.874,
          -7.881
         ]
        },
        {
         "line": {
          "color": "red",
          "dash": "dash",
          "width": 4
         },
         "mode": "lines",
         "name": "zero",
         "type": "scatter",
         "x": [
          1937,
          2021
         ],
         "y": [
          0,
          0
         ]
        },
        {
         "line": {
          "color": "black",
          "width": 4
         },
         "mode": "lines",
         "name": "median",
         "type": "scatter",
         "x": [
          1937,
          1938,
          1939,
          1940,
          1941,
          1942,
          1943,
          1944,
          1945,
          1946,
          1947,
          1948,
          1949,
          1950,
          1951,
          1952,
          1953,
          1954,
          1955,
          1956,
          1957,
          1958,
          1959,
          1960,
          1961,
          1962,
          1963,
          1964,
          1965,
          1966,
          1967,
          1968,
          1969,
          1970,
          1971,
          1972,
          1973,
          1974,
          1975,
          1976,
          1977,
          1978,
          1979,
          1980,
          1981,
          1982,
          1983,
          1984,
          1985,
          1986,
          1987,
          1988,
          1989,
          1990,
          1991,
          1992,
          1993,
          1994,
          1995,
          1996,
          1997,
          1998,
          1999,
          2000,
          2001,
          2002,
          2003,
          2004,
          2005,
          2006,
          2007,
          2008,
          2009,
          2010,
          2011,
          2012,
          2013,
          2014,
          2015,
          2016,
          2017,
          2018,
          2019,
          2020,
          2021
         ],
         "y": [
          -0.4775,
          -0.6435,
          -1.047,
          -0.722,
          -0.191,
          0.154,
          0.135,
          -0.076,
          0.08,
          0.297,
          0.535,
          0.633,
          0.956,
          0.983,
          0.94,
          1.161,
          0.603,
          0.324,
          0.587,
          0.786,
          0.582,
          0.6779999999999999,
          0.347,
          0.45,
          -0.0315,
          -1.145,
          -1.217,
          -0.777,
          -0.553,
          -0.413,
          -1.153,
          -1.072,
          0.131,
          0.451,
          0.639,
          0.968,
          0.56,
          0.601,
          0.491,
          0.469,
          0.312,
          0.144,
          0.246,
          0.223,
          0.264,
          0.673,
          0.895,
          0.851,
          0.941,
          0.881,
          1.021,
          1.111,
          0.874,
          0.968,
          0.699,
          0.85,
          0.871,
          0.833,
          0.735,
          0.826,
          0.821,
          0.948,
          0.886,
          0.598,
          0.37,
          0.259,
          0.223,
          0.116,
          0.28400000000000003,
          0.457,
          0.411,
          0.576,
          0.512,
          0.575,
          0.294,
          0.239,
          0.069,
          -0.223,
          -0.267,
          -0.047,
          0.399,
          0.45,
          0.384,
          0.682,
          0.806
         ]
        }
       ],
       "layout": {
        "height": 800,
        "template": {
         "data": {
          "bar": [
           {
            "error_x": {
             "color": "#2a3f5f"
            },
            "error_y": {
             "color": "#2a3f5f"
            },
            "marker": {
             "line": {
              "color": "#E5ECF6",
              "width": 0.5
             },
             "pattern": {
              "fillmode": "overlay",
              "size": 10,
              "solidity": 0.2
             }
            },
            "type": "bar"
           }
          ],
          "barpolar": [
           {
            "marker": {
             "line": {
              "color": "#E5ECF6",
              "width": 0.5
             },
             "pattern": {
              "fillmode": "overlay",
              "size": 10,
              "solidity": 0.2
             }
            },
            "type": "barpolar"
           }
          ],
          "carpet": [
           {
            "aaxis": {
             "endlinecolor": "#2a3f5f",
             "gridcolor": "white",
             "linecolor": "white",
             "minorgridcolor": "white",
             "startlinecolor": "#2a3f5f"
            },
            "baxis": {
             "endlinecolor": "#2a3f5f",
             "gridcolor": "white",
             "linecolor": "white",
             "minorgridcolor": "white",
             "startlinecolor": "#2a3f5f"
            },
            "type": "carpet"
           }
          ],
          "choropleth": [
           {
            "colorbar": {
             "outlinewidth": 0,
             "ticks": ""
            },
            "type": "choropleth"
           }
          ],
          "contour": [
           {
            "colorbar": {
             "outlinewidth": 0,
             "ticks": ""
            },
            "colorscale": [
             [
              0,
              "#0d0887"
             ],
             [
              0.1111111111111111,
              "#46039f"
             ],
             [
              0.2222222222222222,
              "#7201a8"
             ],
             [
              0.3333333333333333,
              "#9c179e"
             ],
             [
              0.4444444444444444,
              "#bd3786"
             ],
             [
              0.5555555555555556,
              "#d8576b"
             ],
             [
              0.6666666666666666,
              "#ed7953"
             ],
             [
              0.7777777777777778,
              "#fb9f3a"
             ],
             [
              0.8888888888888888,
              "#fdca26"
             ],
             [
              1,
              "#f0f921"
             ]
            ],
            "type": "contour"
           }
          ],
          "contourcarpet": [
           {
            "colorbar": {
             "outlinewidth": 0,
             "ticks": ""
            },
            "type": "contourcarpet"
           }
          ],
          "heatmap": [
           {
            "colorbar": {
             "outlinewidth": 0,
             "ticks": ""
            },
            "colorscale": [
             [
              0,
              "#0d0887"
             ],
             [
              0.1111111111111111,
              "#46039f"
             ],
             [
              0.2222222222222222,
              "#7201a8"
             ],
             [
              0.3333333333333333,
              "#9c179e"
             ],
             [
              0.4444444444444444,
              "#bd3786"
             ],
             [
              0.5555555555555556,
              "#d8576b"
             ],
             [
              0.6666666666666666,
              "#ed7953"
             ],
             [
              0.7777777777777778,
              "#fb9f3a"
             ],
             [
              0.8888888888888888,
              "#fdca26"
             ],
             [
              1,
              "#f0f921"
             ]
            ],
            "type": "heatmap"
           }
          ],
          "heatmapgl": [
           {
            "colorbar": {
             "outlinewidth": 0,
             "ticks": ""
            },
            "colorscale": [
             [
              0,
              "#0d0887"
             ],
             [
              0.1111111111111111,
              "#46039f"
             ],
             [
              0.2222222222222222,
              "#7201a8"
             ],
             [
              0.3333333333333333,
              "#9c179e"
             ],
             [
              0.4444444444444444,
              "#bd3786"
             ],
             [
              0.5555555555555556,
              "#d8576b"
             ],
             [
              0.6666666666666666,
              "#ed7953"
             ],
             [
              0.7777777777777778,
              "#fb9f3a"
             ],
             [
              0.8888888888888888,
              "#fdca26"
             ],
             [
              1,
              "#f0f921"
             ]
            ],
            "type": "heatmapgl"
           }
          ],
          "histogram": [
           {
            "marker": {
             "pattern": {
              "fillmode": "overlay",
              "size": 10,
              "solidity": 0.2
             }
            },
            "type": "histogram"
           }
          ],
          "histogram2d": [
           {
            "colorbar": {
             "outlinewidth": 0,
             "ticks": ""
            },
            "colorscale": [
             [
              0,
              "#0d0887"
             ],
             [
              0.1111111111111111,
              "#46039f"
             ],
             [
              0.2222222222222222,
              "#7201a8"
             ],
             [
              0.3333333333333333,
              "#9c179e"
             ],
             [
              0.4444444444444444,
              "#bd3786"
             ],
             [
              0.5555555555555556,
              "#d8576b"
             ],
             [
              0.6666666666666666,
              "#ed7953"
             ],
             [
              0.7777777777777778,
              "#fb9f3a"
             ],
             [
              0.8888888888888888,
              "#fdca26"
             ],
             [
              1,
              "#f0f921"
             ]
            ],
            "type": "histogram2d"
           }
          ],
          "histogram2dcontour": [
           {
            "colorbar": {
             "outlinewidth": 0,
             "ticks": ""
            },
            "colorscale": [
             [
              0,
              "#0d0887"
             ],
             [
              0.1111111111111111,
              "#46039f"
             ],
             [
              0.2222222222222222,
              "#7201a8"
             ],
             [
              0.3333333333333333,
              "#9c179e"
             ],
             [
              0.4444444444444444,
              "#bd3786"
             ],
             [
              0.5555555555555556,
              "#d8576b"
             ],
             [
              0.6666666666666666,
              "#ed7953"
             ],
             [
              0.7777777777777778,
              "#fb9f3a"
             ],
             [
              0.8888888888888888,
              "#fdca26"
             ],
             [
              1,
              "#f0f921"
             ]
            ],
            "type": "histogram2dcontour"
           }
          ],
          "mesh3d": [
           {
            "colorbar": {
             "outlinewidth": 0,
             "ticks": ""
            },
            "type": "mesh3d"
           }
          ],
          "parcoords": [
           {
            "line": {
             "colorbar": {
              "outlinewidth": 0,
              "ticks": ""
             }
            },
            "type": "parcoords"
           }
          ],
          "pie": [
           {
            "automargin": true,
            "type": "pie"
           }
          ],
          "scatter": [
           {
            "fillpattern": {
             "fillmode": "overlay",
             "size": 10,
             "solidity": 0.2
            },
            "type": "scatter"
           }
          ],
          "scatter3d": [
           {
            "line": {
             "colorbar": {
              "outlinewidth": 0,
              "ticks": ""
             }
            },
            "marker": {
             "colorbar": {
              "outlinewidth": 0,
              "ticks": ""
             }
            },
            "type": "scatter3d"
           }
          ],
          "scattercarpet": [
           {
            "marker": {
             "colorbar": {
              "outlinewidth": 0,
              "ticks": ""
             }
            },
            "type": "scattercarpet"
           }
          ],
          "scattergeo": [
           {
            "marker": {
             "colorbar": {
              "outlinewidth": 0,
              "ticks": ""
             }
            },
            "type": "scattergeo"
           }
          ],
          "scattergl": [
           {
            "marker": {
             "colorbar": {
              "outlinewidth": 0,
              "ticks": ""
             }
            },
            "type": "scattergl"
           }
          ],
          "scattermapbox": [
           {
            "marker": {
             "colorbar": {
              "outlinewidth": 0,
              "ticks": ""
             }
            },
            "type": "scattermapbox"
           }
          ],
          "scatterpolar": [
           {
            "marker": {
             "colorbar": {
              "outlinewidth": 0,
              "ticks": ""
             }
            },
            "type": "scatterpolar"
           }
          ],
          "scatterpolargl": [
           {
            "marker": {
             "colorbar": {
              "outlinewidth": 0,
              "ticks": ""
             }
            },
            "type": "scatterpolargl"
           }
          ],
          "scatterternary": [
           {
            "marker": {
             "colorbar": {
              "outlinewidth": 0,
              "ticks": ""
             }
            },
            "type": "scatterternary"
           }
          ],
          "surface": [
           {
            "colorbar": {
             "outlinewidth": 0,
             "ticks": ""
            },
            "colorscale": [
             [
              0,
              "#0d0887"
             ],
             [
              0.1111111111111111,
              "#46039f"
             ],
             [
              0.2222222222222222,
              "#7201a8"
             ],
             [
              0.3333333333333333,
              "#9c179e"
             ],
             [
              0.4444444444444444,
              "#bd3786"
             ],
             [
              0.5555555555555556,
              "#d8576b"
             ],
             [
              0.6666666666666666,
              "#ed7953"
             ],
             [
              0.7777777777777778,
              "#fb9f3a"
             ],
             [
              0.8888888888888888,
              "#fdca26"
             ],
             [
              1,
              "#f0f921"
             ]
            ],
            "type": "surface"
           }
          ],
          "table": [
           {
            "cells": {
             "fill": {
              "color": "#EBF0F8"
             },
             "line": {
              "color": "white"
             }
            },
            "header": {
             "fill": {
              "color": "#C8D4E3"
             },
             "line": {
              "color": "white"
             }
            },
            "type": "table"
           }
          ]
         },
         "layout": {
          "annotationdefaults": {
           "arrowcolor": "#2a3f5f",
           "arrowhead": 0,
           "arrowwidth": 1
          },
          "autotypenumbers": "strict",
          "coloraxis": {
           "colorbar": {
            "outlinewidth": 0,
            "ticks": ""
           }
          },
          "colorscale": {
           "diverging": [
            [
             0,
             "#8e0152"
            ],
            [
             0.1,
             "#c51b7d"
            ],
            [
             0.2,
             "#de77ae"
            ],
            [
             0.3,
             "#f1b6da"
            ],
            [
             0.4,
             "#fde0ef"
            ],
            [
             0.5,
             "#f7f7f7"
            ],
            [
             0.6,
             "#e6f5d0"
            ],
            [
             0.7,
             "#b8e186"
            ],
            [
             0.8,
             "#7fbc41"
            ],
            [
             0.9,
             "#4d9221"
            ],
            [
             1,
             "#276419"
            ]
           ],
           "sequential": [
            [
             0,
             "#0d0887"
            ],
            [
             0.1111111111111111,
             "#46039f"
            ],
            [
             0.2222222222222222,
             "#7201a8"
            ],
            [
             0.3333333333333333,
             "#9c179e"
            ],
            [
             0.4444444444444444,
             "#bd3786"
            ],
            [
             0.5555555555555556,
             "#d8576b"
            ],
            [
             0.6666666666666666,
             "#ed7953"
            ],
            [
             0.7777777777777778,
             "#fb9f3a"
            ],
            [
             0.8888888888888888,
             "#fdca26"
            ],
            [
             1,
             "#f0f921"
            ]
           ],
           "sequentialminus": [
            [
             0,
             "#0d0887"
            ],
            [
             0.1111111111111111,
             "#46039f"
            ],
            [
             0.2222222222222222,
             "#7201a8"
            ],
            [
             0.3333333333333333,
             "#9c179e"
            ],
            [
             0.4444444444444444,
             "#bd3786"
            ],
            [
             0.5555555555555556,
             "#d8576b"
            ],
            [
             0.6666666666666666,
             "#ed7953"
            ],
            [
             0.7777777777777778,
             "#fb9f3a"
            ],
            [
             0.8888888888888888,
             "#fdca26"
            ],
            [
             1,
             "#f0f921"
            ]
           ]
          },
          "colorway": [
           "#636efa",
           "#EF553B",
           "#00cc96",
           "#ab63fa",
           "#FFA15A",
           "#19d3f3",
           "#FF6692",
           "#B6E880",
           "#FF97FF",
           "#FECB52"
          ],
          "font": {
           "color": "#2a3f5f"
          },
          "geo": {
           "bgcolor": "white",
           "lakecolor": "white",
           "landcolor": "#E5ECF6",
           "showlakes": true,
           "showland": true,
           "subunitcolor": "white"
          },
          "hoverlabel": {
           "align": "left"
          },
          "hovermode": "closest",
          "mapbox": {
           "style": "light"
          },
          "paper_bgcolor": "white",
          "plot_bgcolor": "#E5ECF6",
          "polar": {
           "angularaxis": {
            "gridcolor": "white",
            "linecolor": "white",
            "ticks": ""
           },
           "bgcolor": "#E5ECF6",
           "radialaxis": {
            "gridcolor": "white",
            "linecolor": "white",
            "ticks": ""
           }
          },
          "scene": {
           "xaxis": {
            "backgroundcolor": "#E5ECF6",
            "gridcolor": "white",
            "gridwidth": 2,
            "linecolor": "white",
            "showbackground": true,
            "ticks": "",
            "zerolinecolor": "white"
           },
           "yaxis": {
            "backgroundcolor": "#E5ECF6",
            "gridcolor": "white",
            "gridwidth": 2,
            "linecolor": "white",
            "showbackground": true,
            "ticks": "",
            "zerolinecolor": "white"
           },
           "zaxis": {
            "backgroundcolor": "#E5ECF6",
            "gridcolor": "white",
            "gridwidth": 2,
            "linecolor": "white",
            "showbackground": true,
            "ticks": "",
            "zerolinecolor": "white"
           }
          },
          "shapedefaults": {
           "line": {
            "color": "#2a3f5f"
           }
          },
          "ternary": {
           "aaxis": {
            "gridcolor": "white",
            "linecolor": "white",
            "ticks": ""
           },
           "baxis": {
            "gridcolor": "white",
            "linecolor": "white",
            "ticks": ""
           },
           "bgcolor": "#E5ECF6",
           "caxis": {
            "gridcolor": "white",
            "linecolor": "white",
            "ticks": ""
           }
          },
          "title": {
           "x": 0.05
          },
          "xaxis": {
           "automargin": true,
           "gridcolor": "white",
           "linecolor": "white",
           "ticks": "",
           "title": {
            "standoff": 15
           },
           "zerolinecolor": "white",
           "zerolinewidth": 2
          },
          "yaxis": {
           "automargin": true,
           "gridcolor": "white",
           "linecolor": "white",
           "ticks": "",
           "title": {
            "standoff": 15
           },
           "zerolinecolor": "white",
           "zerolinewidth": 2
          }
         }
        },
        "width": 1200
       }
      }
     },
     "metadata": {},
     "output_type": "display_data"
    }
   ],
   "source": [
    "fig = go.Figure()\n",
    "df_modern = df#[df[\"term\"] > 1950]\n",
    "averges = df_modern.groupby([\"term\"]).median().reset_index()\n",
    "for justice in df_modern[\"justiceName\"].unique():\n",
    "    data = df_modern[df_modern[\"justiceName\"] == justice]\n",
    "    fig.add_trace(go.Scatter(x=data[\"term\"], y=data[\"post_med\"], mode='lines', name=justice))\n",
    "fig.add_trace(go.Scatter(x=[1937, 2021], y=[0, 0], mode='lines',line= dict(color='red', width=4, dash='dash'), name='zero'))\n",
    "fig.add_trace(go.Scatter(x=averges[\"term\"], y=averges[\"post_med\"], mode='lines', name='median', line= dict(color='black', width=4)))\n",
    "\n",
    "#width and height \n",
    "\n",
    "fig.update_layout(\n",
    "\n",
    "    width=1200,\n",
    "    height=800,\n",
    ")\n",
    "fig.show()"
   ]
  },
  {
   "cell_type": "code",
   "execution_count": 240,
   "metadata": {},
   "outputs": [
    {
     "data": {
      "application/vnd.plotly.v1+json": {
       "config": {
        "plotlyServerURL": "https://plot.ly"
       },
       "data": [
        {
         "line": {
          "color": "blue",
          "width": 4
         },
         "mode": "lines",
         "name": "above median",
         "type": "scatter",
         "x": [
          1948,
          1949,
          1950,
          1951,
          1952,
          1953,
          1954,
          1955,
          1956,
          1957,
          1958,
          1959,
          1960,
          1961,
          1962,
          1963,
          1964,
          1965,
          1966,
          1967,
          1968,
          1969,
          1970,
          1971,
          1972,
          1973,
          1974,
          1975,
          1976,
          1977,
          1978,
          1979,
          1980,
          1981,
          1982,
          1983,
          1984,
          1985,
          1986,
          1987,
          1988,
          1989,
          1990,
          1991,
          1992,
          1993,
          1994,
          1995,
          1996,
          1997,
          1998,
          1999,
          2000,
          2001,
          2002,
          2003,
          2004,
          2005,
          2006,
          2007,
          2008,
          2009,
          2010,
          2011,
          2012,
          2013,
          2014,
          2015,
          2016,
          2017,
          2018,
          2019,
          2020,
          2021
         ],
         "y": [
          0.633,
          0.345,
          0.187,
          0.71,
          0.891,
          0.603,
          0.845,
          0.871,
          0.832,
          1.012,
          0.827,
          1.361,
          0.758,
          1.126,
          2.547,
          2.645,
          0.363,
          0.497,
          -0.017,
          -0.099,
          0.087,
          0.082,
          -0.007,
          0.088,
          0.135,
          0.488,
          0.352,
          0.08,
          0.342,
          0.453,
          0.824,
          0.823,
          0.728,
          1.038,
          0.673,
          0.895,
          0.851,
          0.941,
          0.881,
          1.021,
          1.111,
          0.874,
          0.968,
          2.113,
          1.027,
          1.012,
          1.869,
          1.834,
          0.983,
          1.092,
          0.948,
          0.886,
          0.957,
          1.054,
          0.895,
          1.388,
          1.452,
          1.387,
          1.421,
          1.408,
          0.576,
          0.512,
          0.575,
          1.192,
          1.101,
          0.797,
          0.593,
          1.585,
          0.352,
          0.399,
          0.45,
          0.384,
          0.609,
          0.7
         ]
        },
        {
         "line": {
          "color": "red",
          "width": 4
         },
         "mode": "lines",
         "name": "below median",
         "type": "scatter",
         "x": [
          1948,
          1949,
          1950,
          1951,
          1952,
          1953,
          1954,
          1955,
          1956,
          1957,
          1958,
          1959,
          1960,
          1961,
          1962,
          1963,
          1964,
          1965,
          1966,
          1967,
          1968,
          1969,
          1970,
          1971,
          1972,
          1973,
          1974,
          1975,
          1976,
          1977,
          1978,
          1979,
          1980,
          1981,
          1982,
          1983,
          1984,
          1985,
          1986,
          1987,
          1988,
          1989,
          1990,
          1991,
          1992,
          1993,
          1994,
          1995,
          1996,
          1997,
          1998,
          1999,
          2000,
          2001,
          2002,
          2003,
          2004,
          2005,
          2006,
          2007,
          2008,
          2009,
          2010,
          2011,
          2012,
          2013,
          2014,
          2015,
          2016,
          2017,
          2018,
          2019,
          2020,
          2021
         ],
         "y": [
          -1.502,
          -1.463,
          -1.259,
          0.022,
          0.007,
          0.35,
          0.324,
          0.587,
          0.786,
          0.582,
          0.529,
          0.574,
          0.45,
          0.46,
          0.333,
          0.161,
          -0.21,
          -0.097,
          -0.413,
          -1.153,
          -1.072,
          -0.933,
          -0.961,
          -1.074,
          -1.361,
          -1.466,
          -1.484,
          -2.038,
          -0.177,
          0.318,
          0.507,
          0.484,
          0.223,
          0.264,
          -0.3,
          0.032,
          -0.077,
          -0.453,
          -0.589,
          -0.482,
          -0.579,
          -0.852,
          0.612,
          0.857,
          0.85,
          0.871,
          0.847,
          0.863,
          0.826,
          0.821,
          -0.482,
          -0.771,
          0.598,
          0.37,
          0.259,
          0.766,
          0.54,
          0.499,
          0.457,
          0.411,
          -1.178,
          -1.326,
          -1.399,
          0.294,
          0.239,
          0.069,
          -0.223,
          0.332,
          -0.047,
          -1.645,
          -1.645,
          -1.726,
          -1.758,
          -1.835
         ]
        },
        {
         "line": {
          "color": "black",
          "width": 4
         },
         "mode": "lines",
         "name": "median",
         "type": "scatter",
         "x": [
          1937,
          1938,
          1939,
          1940,
          1941,
          1942,
          1943,
          1944,
          1945,
          1946,
          1947,
          1948,
          1949,
          1950,
          1951,
          1952,
          1953,
          1954,
          1955,
          1956,
          1957,
          1958,
          1959,
          1960,
          1961,
          1962,
          1963,
          1964,
          1965,
          1966,
          1967,
          1968,
          1969,
          1970,
          1971,
          1972,
          1973,
          1974,
          1975,
          1976,
          1977,
          1978,
          1979,
          1980,
          1981,
          1982,
          1983,
          1984,
          1985,
          1986,
          1987,
          1988,
          1989,
          1990,
          1991,
          1992,
          1993,
          1994,
          1995,
          1996,
          1997,
          1998,
          1999,
          2000,
          2001,
          2002,
          2003,
          2004,
          2005,
          2006,
          2007,
          2008,
          2009,
          2010,
          2011,
          2012,
          2013,
          2014,
          2015,
          2016,
          2017,
          2018,
          2019,
          2020,
          2021
         ],
         "y": [
          -0.4775,
          -0.6435,
          -1.047,
          -0.722,
          -0.191,
          0.154,
          0.135,
          -0.076,
          0.08,
          0.297,
          0.535,
          0.633,
          0.956,
          0.983,
          0.94,
          1.161,
          0.603,
          0.324,
          0.587,
          0.786,
          0.582,
          0.6779999999999999,
          0.347,
          0.45,
          -0.0315,
          -1.145,
          -1.217,
          -0.777,
          -0.553,
          -0.413,
          -1.153,
          -1.072,
          0.131,
          0.451,
          0.639,
          0.968,
          0.56,
          0.601,
          0.491,
          0.469,
          0.312,
          0.144,
          0.246,
          0.223,
          0.264,
          0.673,
          0.895,
          0.851,
          0.941,
          0.881,
          1.021,
          1.111,
          0.874,
          0.968,
          0.699,
          0.85,
          0.871,
          0.833,
          0.735,
          0.826,
          0.821,
          0.948,
          0.886,
          0.598,
          0.37,
          0.259,
          0.223,
          0.116,
          0.28400000000000003,
          0.457,
          0.411,
          0.576,
          0.512,
          0.575,
          0.294,
          0.239,
          0.069,
          -0.223,
          -0.267,
          -0.047,
          0.399,
          0.45,
          0.384,
          0.682,
          0.806
         ]
        },
        {
         "line": {
          "color": "red",
          "dash": "dash",
          "width": 4
         },
         "mode": "lines",
         "name": "zero",
         "type": "scatter",
         "x": [
          1937,
          2021
         ],
         "y": [
          0,
          0
         ]
        }
       ],
       "layout": {
        "template": {
         "data": {
          "bar": [
           {
            "error_x": {
             "color": "#2a3f5f"
            },
            "error_y": {
             "color": "#2a3f5f"
            },
            "marker": {
             "line": {
              "color": "#E5ECF6",
              "width": 0.5
             },
             "pattern": {
              "fillmode": "overlay",
              "size": 10,
              "solidity": 0.2
             }
            },
            "type": "bar"
           }
          ],
          "barpolar": [
           {
            "marker": {
             "line": {
              "color": "#E5ECF6",
              "width": 0.5
             },
             "pattern": {
              "fillmode": "overlay",
              "size": 10,
              "solidity": 0.2
             }
            },
            "type": "barpolar"
           }
          ],
          "carpet": [
           {
            "aaxis": {
             "endlinecolor": "#2a3f5f",
             "gridcolor": "white",
             "linecolor": "white",
             "minorgridcolor": "white",
             "startlinecolor": "#2a3f5f"
            },
            "baxis": {
             "endlinecolor": "#2a3f5f",
             "gridcolor": "white",
             "linecolor": "white",
             "minorgridcolor": "white",
             "startlinecolor": "#2a3f5f"
            },
            "type": "carpet"
           }
          ],
          "choropleth": [
           {
            "colorbar": {
             "outlinewidth": 0,
             "ticks": ""
            },
            "type": "choropleth"
           }
          ],
          "contour": [
           {
            "colorbar": {
             "outlinewidth": 0,
             "ticks": ""
            },
            "colorscale": [
             [
              0,
              "#0d0887"
             ],
             [
              0.1111111111111111,
              "#46039f"
             ],
             [
              0.2222222222222222,
              "#7201a8"
             ],
             [
              0.3333333333333333,
              "#9c179e"
             ],
             [
              0.4444444444444444,
              "#bd3786"
             ],
             [
              0.5555555555555556,
              "#d8576b"
             ],
             [
              0.6666666666666666,
              "#ed7953"
             ],
             [
              0.7777777777777778,
              "#fb9f3a"
             ],
             [
              0.8888888888888888,
              "#fdca26"
             ],
             [
              1,
              "#f0f921"
             ]
            ],
            "type": "contour"
           }
          ],
          "contourcarpet": [
           {
            "colorbar": {
             "outlinewidth": 0,
             "ticks": ""
            },
            "type": "contourcarpet"
           }
          ],
          "heatmap": [
           {
            "colorbar": {
             "outlinewidth": 0,
             "ticks": ""
            },
            "colorscale": [
             [
              0,
              "#0d0887"
             ],
             [
              0.1111111111111111,
              "#46039f"
             ],
             [
              0.2222222222222222,
              "#7201a8"
             ],
             [
              0.3333333333333333,
              "#9c179e"
             ],
             [
              0.4444444444444444,
              "#bd3786"
             ],
             [
              0.5555555555555556,
              "#d8576b"
             ],
             [
              0.6666666666666666,
              "#ed7953"
             ],
             [
              0.7777777777777778,
              "#fb9f3a"
             ],
             [
              0.8888888888888888,
              "#fdca26"
             ],
             [
              1,
              "#f0f921"
             ]
            ],
            "type": "heatmap"
           }
          ],
          "heatmapgl": [
           {
            "colorbar": {
             "outlinewidth": 0,
             "ticks": ""
            },
            "colorscale": [
             [
              0,
              "#0d0887"
             ],
             [
              0.1111111111111111,
              "#46039f"
             ],
             [
              0.2222222222222222,
              "#7201a8"
             ],
             [
              0.3333333333333333,
              "#9c179e"
             ],
             [
              0.4444444444444444,
              "#bd3786"
             ],
             [
              0.5555555555555556,
              "#d8576b"
             ],
             [
              0.6666666666666666,
              "#ed7953"
             ],
             [
              0.7777777777777778,
              "#fb9f3a"
             ],
             [
              0.8888888888888888,
              "#fdca26"
             ],
             [
              1,
              "#f0f921"
             ]
            ],
            "type": "heatmapgl"
           }
          ],
          "histogram": [
           {
            "marker": {
             "pattern": {
              "fillmode": "overlay",
              "size": 10,
              "solidity": 0.2
             }
            },
            "type": "histogram"
           }
          ],
          "histogram2d": [
           {
            "colorbar": {
             "outlinewidth": 0,
             "ticks": ""
            },
            "colorscale": [
             [
              0,
              "#0d0887"
             ],
             [
              0.1111111111111111,
              "#46039f"
             ],
             [
              0.2222222222222222,
              "#7201a8"
             ],
             [
              0.3333333333333333,
              "#9c179e"
             ],
             [
              0.4444444444444444,
              "#bd3786"
             ],
             [
              0.5555555555555556,
              "#d8576b"
             ],
             [
              0.6666666666666666,
              "#ed7953"
             ],
             [
              0.7777777777777778,
              "#fb9f3a"
             ],
             [
              0.8888888888888888,
              "#fdca26"
             ],
             [
              1,
              "#f0f921"
             ]
            ],
            "type": "histogram2d"
           }
          ],
          "histogram2dcontour": [
           {
            "colorbar": {
             "outlinewidth": 0,
             "ticks": ""
            },
            "colorscale": [
             [
              0,
              "#0d0887"
             ],
             [
              0.1111111111111111,
              "#46039f"
             ],
             [
              0.2222222222222222,
              "#7201a8"
             ],
             [
              0.3333333333333333,
              "#9c179e"
             ],
             [
              0.4444444444444444,
              "#bd3786"
             ],
             [
              0.5555555555555556,
              "#d8576b"
             ],
             [
              0.6666666666666666,
              "#ed7953"
             ],
             [
              0.7777777777777778,
              "#fb9f3a"
             ],
             [
              0.8888888888888888,
              "#fdca26"
             ],
             [
              1,
              "#f0f921"
             ]
            ],
            "type": "histogram2dcontour"
           }
          ],
          "mesh3d": [
           {
            "colorbar": {
             "outlinewidth": 0,
             "ticks": ""
            },
            "type": "mesh3d"
           }
          ],
          "parcoords": [
           {
            "line": {
             "colorbar": {
              "outlinewidth": 0,
              "ticks": ""
             }
            },
            "type": "parcoords"
           }
          ],
          "pie": [
           {
            "automargin": true,
            "type": "pie"
           }
          ],
          "scatter": [
           {
            "fillpattern": {
             "fillmode": "overlay",
             "size": 10,
             "solidity": 0.2
            },
            "type": "scatter"
           }
          ],
          "scatter3d": [
           {
            "line": {
             "colorbar": {
              "outlinewidth": 0,
              "ticks": ""
             }
            },
            "marker": {
             "colorbar": {
              "outlinewidth": 0,
              "ticks": ""
             }
            },
            "type": "scatter3d"
           }
          ],
          "scattercarpet": [
           {
            "marker": {
             "colorbar": {
              "outlinewidth": 0,
              "ticks": ""
             }
            },
            "type": "scattercarpet"
           }
          ],
          "scattergeo": [
           {
            "marker": {
             "colorbar": {
              "outlinewidth": 0,
              "ticks": ""
             }
            },
            "type": "scattergeo"
           }
          ],
          "scattergl": [
           {
            "marker": {
             "colorbar": {
              "outlinewidth": 0,
              "ticks": ""
             }
            },
            "type": "scattergl"
           }
          ],
          "scattermapbox": [
           {
            "marker": {
             "colorbar": {
              "outlinewidth": 0,
              "ticks": ""
             }
            },
            "type": "scattermapbox"
           }
          ],
          "scatterpolar": [
           {
            "marker": {
             "colorbar": {
              "outlinewidth": 0,
              "ticks": ""
             }
            },
            "type": "scatterpolar"
           }
          ],
          "scatterpolargl": [
           {
            "marker": {
             "colorbar": {
              "outlinewidth": 0,
              "ticks": ""
             }
            },
            "type": "scatterpolargl"
           }
          ],
          "scatterternary": [
           {
            "marker": {
             "colorbar": {
              "outlinewidth": 0,
              "ticks": ""
             }
            },
            "type": "scatterternary"
           }
          ],
          "surface": [
           {
            "colorbar": {
             "outlinewidth": 0,
             "ticks": ""
            },
            "colorscale": [
             [
              0,
              "#0d0887"
             ],
             [
              0.1111111111111111,
              "#46039f"
             ],
             [
              0.2222222222222222,
              "#7201a8"
             ],
             [
              0.3333333333333333,
              "#9c179e"
             ],
             [
              0.4444444444444444,
              "#bd3786"
             ],
             [
              0.5555555555555556,
              "#d8576b"
             ],
             [
              0.6666666666666666,
              "#ed7953"
             ],
             [
              0.7777777777777778,
              "#fb9f3a"
             ],
             [
              0.8888888888888888,
              "#fdca26"
             ],
             [
              1,
              "#f0f921"
             ]
            ],
            "type": "surface"
           }
          ],
          "table": [
           {
            "cells": {
             "fill": {
              "color": "#EBF0F8"
             },
             "line": {
              "color": "white"
             }
            },
            "header": {
             "fill": {
              "color": "#C8D4E3"
             },
             "line": {
              "color": "white"
             }
            },
            "type": "table"
           }
          ]
         },
         "layout": {
          "annotationdefaults": {
           "arrowcolor": "#2a3f5f",
           "arrowhead": 0,
           "arrowwidth": 1
          },
          "autotypenumbers": "strict",
          "coloraxis": {
           "colorbar": {
            "outlinewidth": 0,
            "ticks": ""
           }
          },
          "colorscale": {
           "diverging": [
            [
             0,
             "#8e0152"
            ],
            [
             0.1,
             "#c51b7d"
            ],
            [
             0.2,
             "#de77ae"
            ],
            [
             0.3,
             "#f1b6da"
            ],
            [
             0.4,
             "#fde0ef"
            ],
            [
             0.5,
             "#f7f7f7"
            ],
            [
             0.6,
             "#e6f5d0"
            ],
            [
             0.7,
             "#b8e186"
            ],
            [
             0.8,
             "#7fbc41"
            ],
            [
             0.9,
             "#4d9221"
            ],
            [
             1,
             "#276419"
            ]
           ],
           "sequential": [
            [
             0,
             "#0d0887"
            ],
            [
             0.1111111111111111,
             "#46039f"
            ],
            [
             0.2222222222222222,
             "#7201a8"
            ],
            [
             0.3333333333333333,
             "#9c179e"
            ],
            [
             0.4444444444444444,
             "#bd3786"
            ],
            [
             0.5555555555555556,
             "#d8576b"
            ],
            [
             0.6666666666666666,
             "#ed7953"
            ],
            [
             0.7777777777777778,
             "#fb9f3a"
            ],
            [
             0.8888888888888888,
             "#fdca26"
            ],
            [
             1,
             "#f0f921"
            ]
           ],
           "sequentialminus": [
            [
             0,
             "#0d0887"
            ],
            [
             0.1111111111111111,
             "#46039f"
            ],
            [
             0.2222222222222222,
             "#7201a8"
            ],
            [
             0.3333333333333333,
             "#9c179e"
            ],
            [
             0.4444444444444444,
             "#bd3786"
            ],
            [
             0.5555555555555556,
             "#d8576b"
            ],
            [
             0.6666666666666666,
             "#ed7953"
            ],
            [
             0.7777777777777778,
             "#fb9f3a"
            ],
            [
             0.8888888888888888,
             "#fdca26"
            ],
            [
             1,
             "#f0f921"
            ]
           ]
          },
          "colorway": [
           "#636efa",
           "#EF553B",
           "#00cc96",
           "#ab63fa",
           "#FFA15A",
           "#19d3f3",
           "#FF6692",
           "#B6E880",
           "#FF97FF",
           "#FECB52"
          ],
          "font": {
           "color": "#2a3f5f"
          },
          "geo": {
           "bgcolor": "white",
           "lakecolor": "white",
           "landcolor": "#E5ECF6",
           "showlakes": true,
           "showland": true,
           "subunitcolor": "white"
          },
          "hoverlabel": {
           "align": "left"
          },
          "hovermode": "closest",
          "mapbox": {
           "style": "light"
          },
          "paper_bgcolor": "white",
          "plot_bgcolor": "#E5ECF6",
          "polar": {
           "angularaxis": {
            "gridcolor": "white",
            "linecolor": "white",
            "ticks": ""
           },
           "bgcolor": "#E5ECF6",
           "radialaxis": {
            "gridcolor": "white",
            "linecolor": "white",
            "ticks": ""
           }
          },
          "scene": {
           "xaxis": {
            "backgroundcolor": "#E5ECF6",
            "gridcolor": "white",
            "gridwidth": 2,
            "linecolor": "white",
            "showbackground": true,
            "ticks": "",
            "zerolinecolor": "white"
           },
           "yaxis": {
            "backgroundcolor": "#E5ECF6",
            "gridcolor": "white",
            "gridwidth": 2,
            "linecolor": "white",
            "showbackground": true,
            "ticks": "",
            "zerolinecolor": "white"
           },
           "zaxis": {
            "backgroundcolor": "#E5ECF6",
            "gridcolor": "white",
            "gridwidth": 2,
            "linecolor": "white",
            "showbackground": true,
            "ticks": "",
            "zerolinecolor": "white"
           }
          },
          "shapedefaults": {
           "line": {
            "color": "#2a3f5f"
           }
          },
          "ternary": {
           "aaxis": {
            "gridcolor": "white",
            "linecolor": "white",
            "ticks": ""
           },
           "baxis": {
            "gridcolor": "white",
            "linecolor": "white",
            "ticks": ""
           },
           "bgcolor": "#E5ECF6",
           "caxis": {
            "gridcolor": "white",
            "linecolor": "white",
            "ticks": ""
           }
          },
          "title": {
           "x": 0.05
          },
          "xaxis": {
           "automargin": true,
           "gridcolor": "white",
           "linecolor": "white",
           "ticks": "",
           "title": {
            "standoff": 15
           },
           "zerolinecolor": "white",
           "zerolinewidth": 2
          },
          "yaxis": {
           "automargin": true,
           "gridcolor": "white",
           "linecolor": "white",
           "ticks": "",
           "title": {
            "standoff": 15
           },
           "zerolinecolor": "white",
           "zerolinewidth": 2
          }
         }
        }
       }
      }
     },
     "metadata": {},
     "output_type": "display_data"
    }
   ],
   "source": [
    "fig = go.Figure()\n",
    "fig.add_trace(go.Scatter(x=above_median[\"term\"], y=above_median[\"post_med\"], mode='lines', name='above median', line= dict(color='blue', width=4))) \n",
    "fig.add_trace(go.Scatter(x=below_median[\"term\"], y=below_median[\"post_med\"], mode='lines', name='below median', line= dict(color='red', width=4)))\n",
    "fig.add_trace(go.Scatter(x=averges[\"term\"], y=averges[\"post_med\"], mode='lines', name='median', line= dict(color='black', width=4)))\n",
    "fig.add_trace(go.Scatter(x=[1937, 2021], y=[0, 0], mode='lines',line= dict(color='red', width=4, dash='dash'), name='zero'))\n",
    "fig.show()"
   ]
  },
  {
   "cell_type": "code",
   "execution_count": 241,
   "metadata": {},
   "outputs": [
    {
     "name": "stderr",
     "output_type": "stream",
     "text": [
      "C:\\Users\\zeusg\\AppData\\Local\\Temp/ipykernel_52584/594050292.py:7: SettingWithCopyWarning:\n",
      "\n",
      "\n",
      "A value is trying to be set on a copy of a slice from a DataFrame\n",
      "\n",
      "See the caveats in the documentation: https://pandas.pydata.org/pandas-docs/stable/user_guide/indexing.html#returning-a-view-versus-a-copy\n",
      "\n"
     ]
    }
   ],
   "source": [
    "# Add presidential terms \n",
    "presidents = pd.read_csv(\"presidents.csv\")\n",
    "#Split years in two columns\n",
    "presidents[\"start\"] = presidents[\"Years In Office\"].apply(lambda x: int(x.split(\"-\")[0]))\n",
    "#Set end date as start of next row\n",
    "presidents[\"end\"] = presidents[\"start\"].shift(-1)\n",
    "presidents[\"end\"].iloc[-1] = 2021\n",
    "presidents[\"end\"] = presidents[\"end\"].astype(int)"
   ]
  },
  {
   "cell_type": "code",
   "execution_count": 242,
   "metadata": {},
   "outputs": [],
   "source": [
    "presidents\n",
    "presidents = presidents[presidents[\"start\"]>1932]\n",
    "presidents\n",
    "presidents[\"start\"].iloc[0]= 1937"
   ]
  },
  {
   "cell_type": "code",
   "execution_count": null,
   "metadata": {},
   "outputs": [],
   "source": []
  },
  {
   "cell_type": "code",
   "execution_count": 305,
   "metadata": {},
   "outputs": [
    {
     "data": {
      "application/vnd.plotly.v1+json": {
       "config": {
        "plotlyServerURL": "https://plot.ly"
       },
       "data": [
        {
         "line": {
          "color": "yellow",
          "dash": "dash",
          "width": 8
         },
         "mode": "lines",
         "name": "Centrist",
         "type": "scatter",
         "x": [
          0,
          0
         ],
         "y": [
          1937,
          2021
         ]
        },
        {
         "line": {
          "color": "red",
          "width": 4
         },
         "mode": "lines",
         "name": "above median",
         "type": "scatter",
         "x": [
          null,
          -0.4775,
          -0.607,
          -0.4125,
          -0.05499999999999999,
          0.17049999999999998,
          0.197,
          0.1785,
          0.3595,
          0.4645,
          0.475,
          0.6164999999999999,
          0.8775,
          1.083,
          1.151,
          1.2325,
          1.0565,
          0.844,
          0.858,
          0.8514999999999999,
          0.9219999999999999,
          0.9195,
          0.7004999999999999,
          0.6659999999999999,
          0.5105,
          -0.01899999999999999,
          -0.2605,
          -0.23349999999999999,
          -0.22,
          -0.10500000000000001,
          -0.058,
          -0.006000000000000005,
          0.271,
          0.4675,
          0.9349999999999999,
          1.2765,
          1.159,
          1.093,
          0.762,
          0.5835,
          0.496,
          0.41250000000000003,
          0.49550000000000005,
          0.606,
          0.883,
          1.145,
          1.1875,
          1.1015000000000001,
          1.187,
          1.283,
          1.2425000000000002,
          1.3455,
          1.4165,
          1.249,
          1,
          0.942,
          1.0194999999999999,
          0.9295,
          0.855,
          0.923,
          1.0375,
          1.0435,
          1.04,
          1.021,
          1.0055,
          0.9745000000000001,
          0.8305,
          0.653,
          0.5195000000000001,
          0.96,
          1.4144999999999999,
          1.451,
          1.4365,
          1.381,
          1.2875,
          1.1465,
          0.9490000000000001,
          0.6950000000000001,
          0.4625,
          0.34199999999999997,
          0.38349999999999995,
          0.5249999999999999,
          0.6299999999999999,
          0.8689999999999999,
          1.0755
         ],
         "y": [
          1937,
          1938,
          1939,
          1940,
          1941,
          1942,
          1943,
          1944,
          1945,
          1946,
          1947,
          1948,
          1949,
          1950,
          1951,
          1952,
          1953,
          1954,
          1955,
          1956,
          1957,
          1958,
          1959,
          1960,
          1961,
          1962,
          1963,
          1964,
          1965,
          1966,
          1967,
          1968,
          1969,
          1970,
          1971,
          1972,
          1973,
          1974,
          1975,
          1976,
          1977,
          1978,
          1979,
          1980,
          1981,
          1982,
          1983,
          1984,
          1985,
          1986,
          1987,
          1988,
          1989,
          1990,
          1991,
          1992,
          1993,
          1994,
          1995,
          1996,
          1997,
          1998,
          1999,
          2000,
          2001,
          2002,
          2003,
          2004,
          2005,
          2006,
          2007,
          2008,
          2009,
          2010,
          2011,
          2012,
          2013,
          2014,
          2015,
          2016,
          2017,
          2018,
          2019,
          2020,
          2021
         ]
        },
        {
         "line": {
          "color": "blue",
          "width": 4
         },
         "mode": "lines",
         "name": "below median",
         "type": "scatter",
         "x": [
          null,
          -0.6435,
          -0.968,
          -0.988,
          -0.4979999999999999,
          -0.7004999999999999,
          -1.1434999999999997,
          -1.265,
          -1.2839999999999998,
          -1.3005,
          -1.4499999999999997,
          -1.4969999999999999,
          -0.3354999999999999,
          0.8050000000000002,
          0.7445000000000002,
          0.8005000000000001,
          0.6205,
          0.2495000000000001,
          0.0875000000000001,
          0.09400000000000011,
          -0.3229999999999999,
          -0.1394999999999999,
          -0.1979999999999999,
          -0.9015,
          -0.6019999999999999,
          -0.7809999999999999,
          -1.259,
          -1.1039999999999999,
          -1.0269999999999997,
          -1.1364999999999996,
          -1.194,
          -1.1614999999999998,
          -0.49899999999999983,
          0.03750000000000022,
          0.040500000000000216,
          0.11150000000000022,
          0.3115000000000002,
          0.4200000000000002,
          0.4205000000000002,
          0.4155000000000002,
          0.17400000000000024,
          -0.02499999999999978,
          -0.05149999999999978,
          -0.059999999999999776,
          -0.14649999999999977,
          -0.2599999999999998,
          -0.13399999999999979,
          -0.022499999999999805,
          -0.2649999999999998,
          -0.5209999999999998,
          -0.5354999999999998,
          -0.5304999999999997,
          -0.7154999999999998,
          -0.11999999999999977,
          0.6205000000000003,
          0.6025000000000003,
          0.18250000000000022,
          -0.2674999999999998,
          -0.3504999999999998,
          -0.34699999999999975,
          -0.36599999999999977,
          -0.4484999999999998,
          -0.6264999999999997,
          -0.9874999999999997,
          -1.2544999999999997,
          -1.3064999999999998,
          -1.2674999999999998,
          -1.1435,
          -0.49549999999999983,
          -0.6419999999999998,
          -1.3144999999999998,
          -1.2269999999999999,
          -1.2519999999999998,
          -1.3624999999999998,
          -1.399,
          -1.3944999999999999,
          -1.4304999999999999,
          -1.5204999999999997,
          -1.5284999999999997,
          -1.5284999999999997,
          -1.6075,
          -1.645,
          -1.6854999999999998,
          -0.5584999999999998,
          0.6545000000000002
         ],
         "y": [
          1937,
          1938,
          1939,
          1940,
          1941,
          1942,
          1943,
          1944,
          1945,
          1946,
          1947,
          1948,
          1949,
          1950,
          1951,
          1952,
          1953,
          1954,
          1955,
          1956,
          1957,
          1958,
          1959,
          1960,
          1961,
          1962,
          1963,
          1964,
          1965,
          1966,
          1967,
          1968,
          1969,
          1970,
          1971,
          1972,
          1973,
          1974,
          1975,
          1976,
          1977,
          1978,
          1979,
          1980,
          1981,
          1982,
          1983,
          1984,
          1985,
          1986,
          1987,
          1988,
          1989,
          1990,
          1991,
          1992,
          1993,
          1994,
          1995,
          1996,
          1997,
          1998,
          1999,
          2000,
          2001,
          2002,
          2003,
          2004,
          2005,
          2006,
          2007,
          2008,
          2009,
          2010,
          2011,
          2012,
          2013,
          2014,
          2015,
          2016,
          2017,
          2018,
          2019,
          2020,
          2021
         ]
        },
        {
         "line": {
          "color": "black",
          "width": 4
         },
         "mode": "lines",
         "name": "median",
         "type": "scatter",
         "x": [
          null,
          -0.5605,
          -0.84525,
          -0.8845,
          -0.4565,
          -0.018500000000000003,
          0.14450000000000002,
          0.029500000000000005,
          0.0020000000000000018,
          0.1885,
          0.41600000000000004,
          0.5840000000000001,
          0.7945,
          0.9694999999999999,
          0.9614999999999999,
          1.0505,
          0.882,
          0.4635,
          0.4555,
          0.6865,
          0.6839999999999999,
          0.6299999999999999,
          0.5125,
          0.39849999999999997,
          0.20925,
          -0.58825,
          -1.181,
          -0.9970000000000001,
          -0.665,
          -0.483,
          -0.7829999999999999,
          -1.1124999999999998,
          -0.4704999999999999,
          0.29100000000000015,
          0.5450000000000002,
          0.8035000000000001,
          0.7640000000000001,
          0.5805000000000001,
          0.546,
          0.4800000000000001,
          0.39050000000000007,
          0.2280000000000001,
          0.19500000000000012,
          0.2345000000000001,
          0.2435000000000001,
          0.46850000000000014,
          0.7840000000000001,
          0.8730000000000001,
          0.8960000000000001,
          0.911,
          0.9510000000000001,
          1.066,
          0.9925000000000002,
          0.921,
          0.8335000000000001,
          0.7745000000000001,
          0.8605,
          0.8520000000000001,
          0.784,
          0.7805000000000001,
          0.8235000000000001,
          0.8845000000000001,
          0.917,
          0.7420000000000001,
          0.4840000000000001,
          0.3145000000000001,
          0.2410000000000001,
          0.16950000000000012,
          0.20000000000000012,
          0.37050000000000016,
          0.4340000000000001,
          0.49350000000000005,
          0.544,
          0.5435000000000001,
          0.4345000000000001,
          0.2665000000000002,
          0.15400000000000016,
          -0.07699999999999983,
          -0.24499999999999983,
          -0.15699999999999983,
          0.17600000000000018,
          0.4245000000000002,
          0.41700000000000015,
          0.5330000000000003,
          0.7440000000000002
         ],
         "y": [
          1937,
          1938,
          1939,
          1940,
          1941,
          1942,
          1943,
          1944,
          1945,
          1946,
          1947,
          1948,
          1949,
          1950,
          1951,
          1952,
          1953,
          1954,
          1955,
          1956,
          1957,
          1958,
          1959,
          1960,
          1961,
          1962,
          1963,
          1964,
          1965,
          1966,
          1967,
          1968,
          1969,
          1970,
          1971,
          1972,
          1973,
          1974,
          1975,
          1976,
          1977,
          1978,
          1979,
          1980,
          1981,
          1982,
          1983,
          1984,
          1985,
          1986,
          1987,
          1988,
          1989,
          1990,
          1991,
          1992,
          1993,
          1994,
          1995,
          1996,
          1997,
          1998,
          1999,
          2000,
          2001,
          2002,
          2003,
          2004,
          2005,
          2006,
          2007,
          2008,
          2009,
          2010,
          2011,
          2012,
          2013,
          2014,
          2015,
          2016,
          2017,
          2018,
          2019,
          2020,
          2021
         ]
        }
       ],
       "layout": {
        "annotations": [
         {
          "font": {
           "color": "black",
           "family": "Arial",
           "size": 20
          },
          "showarrow": false,
          "text": "<b>Franklin<br>D.<br>Roosevelt",
          "x": 0,
          "xref": "paper",
          "y": 1941,
          "yref": "y"
         },
         {
          "font": {
           "color": "black",
           "family": "Arial",
           "size": 20
          },
          "showarrow": false,
          "text": "<b>Harry<br>S.<br>Truman",
          "x": 0.99,
          "xref": "paper",
          "y": 1949,
          "yref": "y"
         },
         {
          "font": {
           "color": "black",
           "family": "Arial",
           "size": 20
          },
          "showarrow": false,
          "text": "<b>Dwight<br>D.<br>Eisenhower",
          "x": 0,
          "xref": "paper",
          "y": 1957,
          "yref": "y"
         },
         {
          "font": {
           "color": "black",
           "family": "Arial",
           "size": 20
          },
          "showarrow": false,
          "text": "<b>John<br>F.<br>Kennedy",
          "x": 0.99,
          "xref": "paper",
          "y": 1962,
          "yref": "y"
         },
         {
          "font": {
           "color": "black",
           "family": "Arial",
           "size": 20
          },
          "showarrow": false,
          "text": "<b>Lyndon<br>B.<br>Johnson",
          "x": 0,
          "xref": "paper",
          "y": 1966,
          "yref": "y"
         },
         {
          "font": {
           "color": "black",
           "family": "Arial",
           "size": 20
          },
          "showarrow": false,
          "text": "<b>Richard<br>Nixon",
          "x": 0.99,
          "xref": "paper",
          "y": 1971.5,
          "yref": "y"
         },
         {
          "font": {
           "color": "black",
           "family": "Arial",
           "size": 20
          },
          "showarrow": false,
          "text": "<b>Gerald<br>Ford",
          "x": 0,
          "xref": "paper",
          "y": 1975.5,
          "yref": "y"
         },
         {
          "font": {
           "color": "black",
           "family": "Arial",
           "size": 20
          },
          "showarrow": false,
          "text": "<b>James<br>(Jimmy)<br>Carter",
          "x": 0.99,
          "xref": "paper",
          "y": 1979,
          "yref": "y"
         },
         {
          "font": {
           "color": "black",
           "family": "Arial",
           "size": 20
          },
          "showarrow": false,
          "text": "<b>Ronald<br>Reagan",
          "x": 0,
          "xref": "paper",
          "y": 1985,
          "yref": "y"
         },
         {
          "font": {
           "color": "black",
           "family": "Arial",
           "size": 20
          },
          "showarrow": false,
          "text": "<b>George<br>H.W.<br>Bush",
          "x": 0.99,
          "xref": "paper",
          "y": 1991,
          "yref": "y"
         },
         {
          "font": {
           "color": "black",
           "family": "Arial",
           "size": 20
          },
          "showarrow": false,
          "text": "<b>William<br>(Bill)<br>Clinton",
          "x": 0,
          "xref": "paper",
          "y": 1997,
          "yref": "y"
         },
         {
          "font": {
           "color": "black",
           "family": "Arial",
           "size": 20
          },
          "showarrow": false,
          "text": "<b>George<br>W.<br>Bush",
          "x": 0.99,
          "xref": "paper",
          "y": 2005,
          "yref": "y"
         },
         {
          "font": {
           "color": "black",
           "family": "Arial",
           "size": 20
          },
          "showarrow": false,
          "text": "<b>Barack<br>Obama",
          "x": 0,
          "xref": "paper",
          "y": 2013,
          "yref": "y"
         },
         {
          "font": {
           "color": "black",
           "family": "Arial",
           "size": 20
          },
          "showarrow": false,
          "text": "<b>Donald<br>Trump",
          "x": 0.99,
          "xref": "paper",
          "y": 2019,
          "yref": "y"
         },
         {
          "font": {
           "color": "black",
           "family": "Arial",
           "size": 20
          },
          "showarrow": false,
          "text": "<b>Joe<br>Biden",
          "x": 0,
          "xref": "paper",
          "y": 2021,
          "yref": "y"
         }
        ],
        "height": 1100,
        "margin": {
         "b": 0,
         "l": 0,
         "r": 0,
         "t": 0
        },
        "paper_bgcolor": "white",
        "plot_bgcolor": "white",
        "shapes": [
         {
          "fillcolor": "blue",
          "line": {
           "color": "blue",
           "width": 0
          },
          "opacity": 0.15,
          "type": "rect",
          "x0": -1.6854999999999998,
          "x1": 1.451,
          "y0": 1937,
          "y1": 1945
         },
         {
          "line": {
           "color": "black",
           "dash": "dash",
           "width": 2
          },
          "opacity": 0.5,
          "type": "line",
          "x0": 0,
          "x1": 1,
          "xref": "x domain",
          "y0": 1945,
          "y1": 1945,
          "yref": "y"
         },
         {
          "fillcolor": "blue",
          "line": {
           "color": "blue",
           "width": 0
          },
          "opacity": 0.15,
          "type": "rect",
          "x0": -1.6854999999999998,
          "x1": 1.451,
          "y0": 1945,
          "y1": 1953
         },
         {
          "line": {
           "color": "black",
           "dash": "dash",
           "width": 2
          },
          "opacity": 0.5,
          "type": "line",
          "x0": 0,
          "x1": 1,
          "xref": "x domain",
          "y0": 1953,
          "y1": 1953,
          "yref": "y"
         },
         {
          "fillcolor": "red",
          "line": {
           "color": "red",
           "width": 0
          },
          "opacity": 0.15,
          "type": "rect",
          "x0": -1.6854999999999998,
          "x1": 1.451,
          "y0": 1953,
          "y1": 1961
         },
         {
          "line": {
           "color": "black",
           "dash": "dash",
           "width": 2
          },
          "opacity": 0.5,
          "type": "line",
          "x0": 0,
          "x1": 1,
          "xref": "x domain",
          "y0": 1961,
          "y1": 1961,
          "yref": "y"
         },
         {
          "fillcolor": "blue",
          "line": {
           "color": "blue",
           "width": 0
          },
          "opacity": 0.15,
          "type": "rect",
          "x0": -1.6854999999999998,
          "x1": 1.451,
          "y0": 1961,
          "y1": 1963
         },
         {
          "line": {
           "color": "black",
           "dash": "dash",
           "width": 2
          },
          "opacity": 0.5,
          "type": "line",
          "x0": 0,
          "x1": 1,
          "xref": "x domain",
          "y0": 1963,
          "y1": 1963,
          "yref": "y"
         },
         {
          "fillcolor": "blue",
          "line": {
           "color": "blue",
           "width": 0
          },
          "opacity": 0.15,
          "type": "rect",
          "x0": -1.6854999999999998,
          "x1": 1.451,
          "y0": 1963,
          "y1": 1969
         },
         {
          "line": {
           "color": "black",
           "dash": "dash",
           "width": 2
          },
          "opacity": 0.5,
          "type": "line",
          "x0": 0,
          "x1": 1,
          "xref": "x domain",
          "y0": 1969,
          "y1": 1969,
          "yref": "y"
         },
         {
          "fillcolor": "red",
          "line": {
           "color": "red",
           "width": 0
          },
          "opacity": 0.15,
          "type": "rect",
          "x0": -1.6854999999999998,
          "x1": 1.451,
          "y0": 1969,
          "y1": 1974
         },
         {
          "line": {
           "color": "black",
           "dash": "dash",
           "width": 2
          },
          "opacity": 0.5,
          "type": "line",
          "x0": 0,
          "x1": 1,
          "xref": "x domain",
          "y0": 1974,
          "y1": 1974,
          "yref": "y"
         },
         {
          "fillcolor": "red",
          "line": {
           "color": "red",
           "width": 0
          },
          "opacity": 0.15,
          "type": "rect",
          "x0": -1.6854999999999998,
          "x1": 1.451,
          "y0": 1974,
          "y1": 1977
         },
         {
          "line": {
           "color": "black",
           "dash": "dash",
           "width": 2
          },
          "opacity": 0.5,
          "type": "line",
          "x0": 0,
          "x1": 1,
          "xref": "x domain",
          "y0": 1977,
          "y1": 1977,
          "yref": "y"
         },
         {
          "fillcolor": "blue",
          "line": {
           "color": "blue",
           "width": 0
          },
          "opacity": 0.15,
          "type": "rect",
          "x0": -1.6854999999999998,
          "x1": 1.451,
          "y0": 1977,
          "y1": 1981
         },
         {
          "line": {
           "color": "black",
           "dash": "dash",
           "width": 2
          },
          "opacity": 0.5,
          "type": "line",
          "x0": 0,
          "x1": 1,
          "xref": "x domain",
          "y0": 1981,
          "y1": 1981,
          "yref": "y"
         },
         {
          "fillcolor": "red",
          "line": {
           "color": "red",
           "width": 0
          },
          "opacity": 0.15,
          "type": "rect",
          "x0": -1.6854999999999998,
          "x1": 1.451,
          "y0": 1981,
          "y1": 1989
         },
         {
          "line": {
           "color": "black",
           "dash": "dash",
           "width": 2
          },
          "opacity": 0.5,
          "type": "line",
          "x0": 0,
          "x1": 1,
          "xref": "x domain",
          "y0": 1989,
          "y1": 1989,
          "yref": "y"
         },
         {
          "fillcolor": "red",
          "line": {
           "color": "red",
           "width": 0
          },
          "opacity": 0.15,
          "type": "rect",
          "x0": -1.6854999999999998,
          "x1": 1.451,
          "y0": 1989,
          "y1": 1993
         },
         {
          "line": {
           "color": "black",
           "dash": "dash",
           "width": 2
          },
          "opacity": 0.5,
          "type": "line",
          "x0": 0,
          "x1": 1,
          "xref": "x domain",
          "y0": 1993,
          "y1": 1993,
          "yref": "y"
         },
         {
          "fillcolor": "blue",
          "line": {
           "color": "blue",
           "width": 0
          },
          "opacity": 0.15,
          "type": "rect",
          "x0": -1.6854999999999998,
          "x1": 1.451,
          "y0": 1993,
          "y1": 2001
         },
         {
          "line": {
           "color": "black",
           "dash": "dash",
           "width": 2
          },
          "opacity": 0.5,
          "type": "line",
          "x0": 0,
          "x1": 1,
          "xref": "x domain",
          "y0": 2001,
          "y1": 2001,
          "yref": "y"
         },
         {
          "fillcolor": "red",
          "line": {
           "color": "red",
           "width": 0
          },
          "opacity": 0.15,
          "type": "rect",
          "x0": -1.6854999999999998,
          "x1": 1.451,
          "y0": 2001,
          "y1": 2009
         },
         {
          "line": {
           "color": "black",
           "dash": "dash",
           "width": 2
          },
          "opacity": 0.5,
          "type": "line",
          "x0": 0,
          "x1": 1,
          "xref": "x domain",
          "y0": 2009,
          "y1": 2009,
          "yref": "y"
         },
         {
          "fillcolor": "blue",
          "line": {
           "color": "blue",
           "width": 0
          },
          "opacity": 0.15,
          "type": "rect",
          "x0": -1.6854999999999998,
          "x1": 1.451,
          "y0": 2009,
          "y1": 2017
         },
         {
          "line": {
           "color": "black",
           "dash": "dash",
           "width": 2
          },
          "opacity": 0.5,
          "type": "line",
          "x0": 0,
          "x1": 1,
          "xref": "x domain",
          "y0": 2017,
          "y1": 2017,
          "yref": "y"
         },
         {
          "fillcolor": "red",
          "line": {
           "color": "red",
           "width": 0
          },
          "opacity": 0.15,
          "type": "rect",
          "x0": -1.6854999999999998,
          "x1": 1.451,
          "y0": 2017,
          "y1": 2021
         },
         {
          "line": {
           "color": "black",
           "dash": "dash",
           "width": 2
          },
          "opacity": 0.5,
          "type": "line",
          "x0": 0,
          "x1": 1,
          "xref": "x domain",
          "y0": 2021,
          "y1": 2021,
          "yref": "y"
         },
         {
          "fillcolor": "blue",
          "line": {
           "color": "blue",
           "width": 0
          },
          "opacity": 0.15,
          "type": "rect",
          "x0": -1.6854999999999998,
          "x1": 1.451,
          "y0": 2021,
          "y1": 2021
         },
         {
          "line": {
           "color": "black",
           "dash": "dash",
           "width": 2
          },
          "opacity": 0.5,
          "type": "line",
          "x0": 0,
          "x1": 1,
          "xref": "x domain",
          "y0": 2021,
          "y1": 2021,
          "yref": "y"
         }
        ],
        "showlegend": false,
        "template": {
         "data": {
          "bar": [
           {
            "error_x": {
             "color": "#2a3f5f"
            },
            "error_y": {
             "color": "#2a3f5f"
            },
            "marker": {
             "line": {
              "color": "#E5ECF6",
              "width": 0.5
             },
             "pattern": {
              "fillmode": "overlay",
              "size": 10,
              "solidity": 0.2
             }
            },
            "type": "bar"
           }
          ],
          "barpolar": [
           {
            "marker": {
             "line": {
              "color": "#E5ECF6",
              "width": 0.5
             },
             "pattern": {
              "fillmode": "overlay",
              "size": 10,
              "solidity": 0.2
             }
            },
            "type": "barpolar"
           }
          ],
          "carpet": [
           {
            "aaxis": {
             "endlinecolor": "#2a3f5f",
             "gridcolor": "white",
             "linecolor": "white",
             "minorgridcolor": "white",
             "startlinecolor": "#2a3f5f"
            },
            "baxis": {
             "endlinecolor": "#2a3f5f",
             "gridcolor": "white",
             "linecolor": "white",
             "minorgridcolor": "white",
             "startlinecolor": "#2a3f5f"
            },
            "type": "carpet"
           }
          ],
          "choropleth": [
           {
            "colorbar": {
             "outlinewidth": 0,
             "ticks": ""
            },
            "type": "choropleth"
           }
          ],
          "contour": [
           {
            "colorbar": {
             "outlinewidth": 0,
             "ticks": ""
            },
            "colorscale": [
             [
              0,
              "#0d0887"
             ],
             [
              0.1111111111111111,
              "#46039f"
             ],
             [
              0.2222222222222222,
              "#7201a8"
             ],
             [
              0.3333333333333333,
              "#9c179e"
             ],
             [
              0.4444444444444444,
              "#bd3786"
             ],
             [
              0.5555555555555556,
              "#d8576b"
             ],
             [
              0.6666666666666666,
              "#ed7953"
             ],
             [
              0.7777777777777778,
              "#fb9f3a"
             ],
             [
              0.8888888888888888,
              "#fdca26"
             ],
             [
              1,
              "#f0f921"
             ]
            ],
            "type": "contour"
           }
          ],
          "contourcarpet": [
           {
            "colorbar": {
             "outlinewidth": 0,
             "ticks": ""
            },
            "type": "contourcarpet"
           }
          ],
          "heatmap": [
           {
            "colorbar": {
             "outlinewidth": 0,
             "ticks": ""
            },
            "colorscale": [
             [
              0,
              "#0d0887"
             ],
             [
              0.1111111111111111,
              "#46039f"
             ],
             [
              0.2222222222222222,
              "#7201a8"
             ],
             [
              0.3333333333333333,
              "#9c179e"
             ],
             [
              0.4444444444444444,
              "#bd3786"
             ],
             [
              0.5555555555555556,
              "#d8576b"
             ],
             [
              0.6666666666666666,
              "#ed7953"
             ],
             [
              0.7777777777777778,
              "#fb9f3a"
             ],
             [
              0.8888888888888888,
              "#fdca26"
             ],
             [
              1,
              "#f0f921"
             ]
            ],
            "type": "heatmap"
           }
          ],
          "heatmapgl": [
           {
            "colorbar": {
             "outlinewidth": 0,
             "ticks": ""
            },
            "colorscale": [
             [
              0,
              "#0d0887"
             ],
             [
              0.1111111111111111,
              "#46039f"
             ],
             [
              0.2222222222222222,
              "#7201a8"
             ],
             [
              0.3333333333333333,
              "#9c179e"
             ],
             [
              0.4444444444444444,
              "#bd3786"
             ],
             [
              0.5555555555555556,
              "#d8576b"
             ],
             [
              0.6666666666666666,
              "#ed7953"
             ],
             [
              0.7777777777777778,
              "#fb9f3a"
             ],
             [
              0.8888888888888888,
              "#fdca26"
             ],
             [
              1,
              "#f0f921"
             ]
            ],
            "type": "heatmapgl"
           }
          ],
          "histogram": [
           {
            "marker": {
             "pattern": {
              "fillmode": "overlay",
              "size": 10,
              "solidity": 0.2
             }
            },
            "type": "histogram"
           }
          ],
          "histogram2d": [
           {
            "colorbar": {
             "outlinewidth": 0,
             "ticks": ""
            },
            "colorscale": [
             [
              0,
              "#0d0887"
             ],
             [
              0.1111111111111111,
              "#46039f"
             ],
             [
              0.2222222222222222,
              "#7201a8"
             ],
             [
              0.3333333333333333,
              "#9c179e"
             ],
             [
              0.4444444444444444,
              "#bd3786"
             ],
             [
              0.5555555555555556,
              "#d8576b"
             ],
             [
              0.6666666666666666,
              "#ed7953"
             ],
             [
              0.7777777777777778,
              "#fb9f3a"
             ],
             [
              0.8888888888888888,
              "#fdca26"
             ],
             [
              1,
              "#f0f921"
             ]
            ],
            "type": "histogram2d"
           }
          ],
          "histogram2dcontour": [
           {
            "colorbar": {
             "outlinewidth": 0,
             "ticks": ""
            },
            "colorscale": [
             [
              0,
              "#0d0887"
             ],
             [
              0.1111111111111111,
              "#46039f"
             ],
             [
              0.2222222222222222,
              "#7201a8"
             ],
             [
              0.3333333333333333,
              "#9c179e"
             ],
             [
              0.4444444444444444,
              "#bd3786"
             ],
             [
              0.5555555555555556,
              "#d8576b"
             ],
             [
              0.6666666666666666,
              "#ed7953"
             ],
             [
              0.7777777777777778,
              "#fb9f3a"
             ],
             [
              0.8888888888888888,
              "#fdca26"
             ],
             [
              1,
              "#f0f921"
             ]
            ],
            "type": "histogram2dcontour"
           }
          ],
          "mesh3d": [
           {
            "colorbar": {
             "outlinewidth": 0,
             "ticks": ""
            },
            "type": "mesh3d"
           }
          ],
          "parcoords": [
           {
            "line": {
             "colorbar": {
              "outlinewidth": 0,
              "ticks": ""
             }
            },
            "type": "parcoords"
           }
          ],
          "pie": [
           {
            "automargin": true,
            "type": "pie"
           }
          ],
          "scatter": [
           {
            "fillpattern": {
             "fillmode": "overlay",
             "size": 10,
             "solidity": 0.2
            },
            "type": "scatter"
           }
          ],
          "scatter3d": [
           {
            "line": {
             "colorbar": {
              "outlinewidth": 0,
              "ticks": ""
             }
            },
            "marker": {
             "colorbar": {
              "outlinewidth": 0,
              "ticks": ""
             }
            },
            "type": "scatter3d"
           }
          ],
          "scattercarpet": [
           {
            "marker": {
             "colorbar": {
              "outlinewidth": 0,
              "ticks": ""
             }
            },
            "type": "scattercarpet"
           }
          ],
          "scattergeo": [
           {
            "marker": {
             "colorbar": {
              "outlinewidth": 0,
              "ticks": ""
             }
            },
            "type": "scattergeo"
           }
          ],
          "scattergl": [
           {
            "marker": {
             "colorbar": {
              "outlinewidth": 0,
              "ticks": ""
             }
            },
            "type": "scattergl"
           }
          ],
          "scattermapbox": [
           {
            "marker": {
             "colorbar": {
              "outlinewidth": 0,
              "ticks": ""
             }
            },
            "type": "scattermapbox"
           }
          ],
          "scatterpolar": [
           {
            "marker": {
             "colorbar": {
              "outlinewidth": 0,
              "ticks": ""
             }
            },
            "type": "scatterpolar"
           }
          ],
          "scatterpolargl": [
           {
            "marker": {
             "colorbar": {
              "outlinewidth": 0,
              "ticks": ""
             }
            },
            "type": "scatterpolargl"
           }
          ],
          "scatterternary": [
           {
            "marker": {
             "colorbar": {
              "outlinewidth": 0,
              "ticks": ""
             }
            },
            "type": "scatterternary"
           }
          ],
          "surface": [
           {
            "colorbar": {
             "outlinewidth": 0,
             "ticks": ""
            },
            "colorscale": [
             [
              0,
              "#0d0887"
             ],
             [
              0.1111111111111111,
              "#46039f"
             ],
             [
              0.2222222222222222,
              "#7201a8"
             ],
             [
              0.3333333333333333,
              "#9c179e"
             ],
             [
              0.4444444444444444,
              "#bd3786"
             ],
             [
              0.5555555555555556,
              "#d8576b"
             ],
             [
              0.6666666666666666,
              "#ed7953"
             ],
             [
              0.7777777777777778,
              "#fb9f3a"
             ],
             [
              0.8888888888888888,
              "#fdca26"
             ],
             [
              1,
              "#f0f921"
             ]
            ],
            "type": "surface"
           }
          ],
          "table": [
           {
            "cells": {
             "fill": {
              "color": "#EBF0F8"
             },
             "line": {
              "color": "white"
             }
            },
            "header": {
             "fill": {
              "color": "#C8D4E3"
             },
             "line": {
              "color": "white"
             }
            },
            "type": "table"
           }
          ]
         },
         "layout": {
          "annotationdefaults": {
           "arrowcolor": "#2a3f5f",
           "arrowhead": 0,
           "arrowwidth": 1
          },
          "autotypenumbers": "strict",
          "coloraxis": {
           "colorbar": {
            "outlinewidth": 0,
            "ticks": ""
           }
          },
          "colorscale": {
           "diverging": [
            [
             0,
             "#8e0152"
            ],
            [
             0.1,
             "#c51b7d"
            ],
            [
             0.2,
             "#de77ae"
            ],
            [
             0.3,
             "#f1b6da"
            ],
            [
             0.4,
             "#fde0ef"
            ],
            [
             0.5,
             "#f7f7f7"
            ],
            [
             0.6,
             "#e6f5d0"
            ],
            [
             0.7,
             "#b8e186"
            ],
            [
             0.8,
             "#7fbc41"
            ],
            [
             0.9,
             "#4d9221"
            ],
            [
             1,
             "#276419"
            ]
           ],
           "sequential": [
            [
             0,
             "#0d0887"
            ],
            [
             0.1111111111111111,
             "#46039f"
            ],
            [
             0.2222222222222222,
             "#7201a8"
            ],
            [
             0.3333333333333333,
             "#9c179e"
            ],
            [
             0.4444444444444444,
             "#bd3786"
            ],
            [
             0.5555555555555556,
             "#d8576b"
            ],
            [
             0.6666666666666666,
             "#ed7953"
            ],
            [
             0.7777777777777778,
             "#fb9f3a"
            ],
            [
             0.8888888888888888,
             "#fdca26"
            ],
            [
             1,
             "#f0f921"
            ]
           ],
           "sequentialminus": [
            [
             0,
             "#0d0887"
            ],
            [
             0.1111111111111111,
             "#46039f"
            ],
            [
             0.2222222222222222,
             "#7201a8"
            ],
            [
             0.3333333333333333,
             "#9c179e"
            ],
            [
             0.4444444444444444,
             "#bd3786"
            ],
            [
             0.5555555555555556,
             "#d8576b"
            ],
            [
             0.6666666666666666,
             "#ed7953"
            ],
            [
             0.7777777777777778,
             "#fb9f3a"
            ],
            [
             0.8888888888888888,
             "#fdca26"
            ],
            [
             1,
             "#f0f921"
            ]
           ]
          },
          "colorway": [
           "#636efa",
           "#EF553B",
           "#00cc96",
           "#ab63fa",
           "#FFA15A",
           "#19d3f3",
           "#FF6692",
           "#B6E880",
           "#FF97FF",
           "#FECB52"
          ],
          "font": {
           "color": "#2a3f5f"
          },
          "geo": {
           "bgcolor": "white",
           "lakecolor": "white",
           "landcolor": "#E5ECF6",
           "showlakes": true,
           "showland": true,
           "subunitcolor": "white"
          },
          "hoverlabel": {
           "align": "left"
          },
          "hovermode": "closest",
          "mapbox": {
           "style": "light"
          },
          "paper_bgcolor": "white",
          "plot_bgcolor": "#E5ECF6",
          "polar": {
           "angularaxis": {
            "gridcolor": "white",
            "linecolor": "white",
            "ticks": ""
           },
           "bgcolor": "#E5ECF6",
           "radialaxis": {
            "gridcolor": "white",
            "linecolor": "white",
            "ticks": ""
           }
          },
          "scene": {
           "xaxis": {
            "backgroundcolor": "#E5ECF6",
            "gridcolor": "white",
            "gridwidth": 2,
            "linecolor": "white",
            "showbackground": true,
            "ticks": "",
            "zerolinecolor": "white"
           },
           "yaxis": {
            "backgroundcolor": "#E5ECF6",
            "gridcolor": "white",
            "gridwidth": 2,
            "linecolor": "white",
            "showbackground": true,
            "ticks": "",
            "zerolinecolor": "white"
           },
           "zaxis": {
            "backgroundcolor": "#E5ECF6",
            "gridcolor": "white",
            "gridwidth": 2,
            "linecolor": "white",
            "showbackground": true,
            "ticks": "",
            "zerolinecolor": "white"
           }
          },
          "shapedefaults": {
           "line": {
            "color": "#2a3f5f"
           }
          },
          "ternary": {
           "aaxis": {
            "gridcolor": "white",
            "linecolor": "white",
            "ticks": ""
           },
           "baxis": {
            "gridcolor": "white",
            "linecolor": "white",
            "ticks": ""
           },
           "bgcolor": "#E5ECF6",
           "caxis": {
            "gridcolor": "white",
            "linecolor": "white",
            "ticks": ""
           }
          },
          "title": {
           "x": 0.05
          },
          "xaxis": {
           "automargin": true,
           "gridcolor": "white",
           "linecolor": "white",
           "ticks": "",
           "title": {
            "standoff": 15
           },
           "zerolinecolor": "white",
           "zerolinewidth": 2
          },
          "yaxis": {
           "automargin": true,
           "gridcolor": "white",
           "linecolor": "white",
           "ticks": "",
           "title": {
            "standoff": 15
           },
           "zerolinecolor": "white",
           "zerolinewidth": 2
          }
         }
        },
        "width": 600,
        "xaxis": {
         "range": [
          -1.6854999999999998,
          1.451
         ],
         "tickfont": {
          "color": "black",
          "family": "Arial",
          "size": 20
         },
         "ticktext": [
          "",
          "Liberal",
          "",
          "Conservative",
          ""
         ],
         "tickvals": [
          -2,
          -1,
          0,
          1,
          2
         ]
        },
        "yaxis": {
         "autorange": "reversed",
         "showgrid": false,
         "showticklabels": false,
         "zeroline": false
        }
       }
      }
     },
     "metadata": {},
     "output_type": "display_data"
    }
   ],
   "source": [
    "#Smooth y values\n",
    "smooth_averges = averges.copy()\n",
    "smooth_averges[\"post_med\"] = smooth_averges[\"post_med\"].rolling(window=2).mean()\n",
    "\n",
    "smooth_above_median = above_median.copy()\n",
    "smooth_above_median[\"post_med\"] = smooth_above_median[\"post_med\"].rolling(window=2).mean()\n",
    "\n",
    "smooth_below_median = below_median.copy()\n",
    "smooth_below_median[\"post_med\"] = smooth_below_median[\"post_med\"].rolling(window=2).mean()\n",
    "\n",
    "\n",
    "#Fill in area by president part\n",
    "fig = go.Figure()\n",
    "fig.add_trace(go.Scatter(y=[1937, 2021], x=[0, 0], mode='lines',line= dict(color='yellow', width=8, dash='dash'), name='Centrist'))\n",
    "fig.add_trace(go.Scatter(y=smooth_above_median[\"term\"], x=smooth_above_median[\"post_med\"], mode='lines', name='above median', line= dict(color='red', width=4)))\n",
    "fig.add_trace(go.Scatter(y=smooth_below_median[\"term\"], x=smooth_below_median[\"post_med\"], mode='lines', name='below median', line= dict(color='blue', width=4)))\n",
    "fig.add_trace(go.Scatter(y=smooth_averges[\"term\"], x=smooth_averges[\"post_med\"], mode='lines', name='median', line= dict(color='black', width=4)))\n",
    "\n",
    "\n",
    "for i, row in presidents.iterrows():\n",
    "    if row[\"Party\"] == \"Democratic\":\n",
    "        color = \"blue\"\n",
    "    else:\n",
    "        color = \"red\"\n",
    "    fig.add_shape(\n",
    "        type=\"rect\",\n",
    "        y0=row[\"start\"],\n",
    "        x0=smooth_below_median[\"post_med\"].min(),\n",
    "        y1=row[\"end\"],\n",
    "        x1=smooth_above_median[\"post_med\"].max(),\n",
    "        line=dict(\n",
    "            color=color,\n",
    "            width=0,\n",
    "        ),\n",
    "        fillcolor=color,\n",
    "        opacity=0.15,\n",
    "    )\n",
    "    \n",
    "    offset = 0\n",
    "    if i % 2 == 0:\n",
    "        offset = .99\n",
    "    \n",
    "    fig.add_hline(y=row[\"end\"], line_width=2, line_color=\"black\", opacity=0.5, line_dash=\"dash\")\n",
    "    \n",
    "    fig.add_annotation(\n",
    "        yref = 'y',\n",
    "        xref='paper',\n",
    "        #Add a little offset to avoid overlapping\n",
    "        x=0+offset,\n",
    "        y=row[\"start\"]+ (row[\"end\"]-row[\"start\"])/2,\n",
    "        text=\"<b>\" + row[\"President Name\"].replace(\" \", \"<br>\"),\n",
    "        showarrow=False,\n",
    "        font=dict(\n",
    "            color=\"black\",\n",
    "            size=20,\n",
    "            family=\"Arial\",\n",
    "            \n",
    "        )\n",
    "\n",
    "    )\n",
    "    \n",
    "    #Set scale based on min and max values\n",
    "    fig.update_xaxes(range=[smooth_below_median[\"post_med\"].min(), smooth_above_median[\"post_med\"].max()])\n",
    "\n",
    "\n",
    "    \n",
    "    #change height and width\n",
    "fig.update_layout( \n",
    "    width=600,\n",
    "    height=1100,\n",
    ")\n",
    "#remove x axis text\n",
    "fig.update_yaxes(showticklabels=False)\n",
    "fig.update_yaxes(showgrid=False, zeroline=False)\n",
    "\n",
    "#Replace y ticks \n",
    "fig.update_xaxes(tickvals=[-2, -1, 0, 1, 2], ticktext=[\"\", \"Liberal\", \"\", \"Conservative\", \"\"], tickfont=dict(size=20, family=\"Arial\", color=\"black\"))\n",
    "#Rotate y ticks\n",
    "#fig.update_xaxes(tickangle=270)\n",
    "#update tick font\n",
    "\n",
    "\n",
    "#change padding\n",
    "fig.update_layout(\n",
    "    margin=dict(l=0, r=0, t=0, b=0),\n",
    "    paper_bgcolor=\"white\",\n",
    "    plot_bgcolor=\"white\",\n",
    ")\n",
    "#Remove legend\n",
    "fig.update_layout(showlegend=False)\n",
    "#Reverse y axis\n",
    "fig.update_yaxes(autorange=\"reversed\")\n",
    "    \n",
    "fig.show()"
   ]
  },
  {
   "cell_type": "code",
   "execution_count": null,
   "metadata": {},
   "outputs": [],
   "source": []
  },
  {
   "cell_type": "code",
   "execution_count": null,
   "metadata": {},
   "outputs": [],
   "source": []
  }
 ],
 "metadata": {
  "kernelspec": {
   "display_name": "real-fast",
   "language": "python",
   "name": "python3"
  },
  "language_info": {
   "codemirror_mode": {
    "name": "ipython",
    "version": 3
   },
   "file_extension": ".py",
   "mimetype": "text/x-python",
   "name": "python",
   "nbconvert_exporter": "python",
   "pygments_lexer": "ipython3",
   "version": "3.8.4"
  }
 },
 "nbformat": 4,
 "nbformat_minor": 2
}
